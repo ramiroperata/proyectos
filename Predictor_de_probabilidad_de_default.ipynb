{
 "cells": [
  {
   "cell_type": "code",
   "execution_count": 1,
   "id": "cf6bec2a",
   "metadata": {
    "_cell_guid": "b1076dfc-b9ad-4769-8c92-a6c4dae69d19",
    "_uuid": "8f2839f25d086af736a60e9eeb907d3b93b6e0e5",
    "execution": {
     "iopub.execute_input": "2024-08-21T05:49:25.921142Z",
     "iopub.status.busy": "2024-08-21T05:49:25.920106Z",
     "iopub.status.idle": "2024-08-21T05:49:27.162320Z",
     "shell.execute_reply": "2024-08-21T05:49:27.161145Z",
     "shell.execute_reply.started": "2024-08-21T05:06:08.473911Z"
    },
    "papermill": {
     "duration": 1.354926,
     "end_time": "2024-08-21T05:49:27.162548",
     "exception": false,
     "start_time": "2024-08-21T05:49:25.807622",
     "status": "completed"
    },
    "tags": []
   },
   "outputs": [],
   "source": [
    "import numpy as np # linear algebra\n",
    "import pandas as pd # data processing, CSV file I/O (e.g. pd.read_csv)\n",
    "\n",
    "\n",
    "\n",
    "\n",
    "\n",
    "import matplotlib.pyplot as plt\n",
    "import seaborn as sns\n",
    "\n",
    "sns.set_theme(style = \"darkgrid\")"
   ]
  },
  {
   "cell_type": "code",
   "execution_count": 2,
   "id": "9ee69c1d",
   "metadata": {
    "execution": {
     "iopub.execute_input": "2024-08-21T05:49:27.364279Z",
     "iopub.status.busy": "2024-08-21T05:49:27.363257Z",
     "iopub.status.idle": "2024-08-21T05:49:28.146122Z",
     "shell.execute_reply": "2024-08-21T05:49:28.146721Z",
     "shell.execute_reply.started": "2024-08-21T05:06:09.737476Z"
    },
    "papermill": {
     "duration": 0.885898,
     "end_time": "2024-08-21T05:49:28.146953",
     "exception": false,
     "start_time": "2024-08-21T05:49:27.261055",
     "status": "completed"
    },
    "tags": []
   },
   "outputs": [
    {
     "data": {
      "text/html": [
       "<div>\n",
       "<style scoped>\n",
       "    .dataframe tbody tr th:only-of-type {\n",
       "        vertical-align: middle;\n",
       "    }\n",
       "\n",
       "    .dataframe tbody tr th {\n",
       "        vertical-align: top;\n",
       "    }\n",
       "\n",
       "    .dataframe thead th {\n",
       "        text-align: right;\n",
       "    }\n",
       "</style>\n",
       "<table border=\"1\" class=\"dataframe\">\n",
       "  <thead>\n",
       "    <tr style=\"text-align: right;\">\n",
       "      <th></th>\n",
       "      <th>Id</th>\n",
       "      <th>Income</th>\n",
       "      <th>Age</th>\n",
       "      <th>Experience</th>\n",
       "      <th>Married/Single</th>\n",
       "      <th>House_Ownership</th>\n",
       "      <th>Car_Ownership</th>\n",
       "      <th>Profession</th>\n",
       "      <th>CITY</th>\n",
       "      <th>STATE</th>\n",
       "      <th>CURRENT_JOB_YRS</th>\n",
       "      <th>CURRENT_HOUSE_YRS</th>\n",
       "      <th>Risk_Flag</th>\n",
       "    </tr>\n",
       "  </thead>\n",
       "  <tbody>\n",
       "    <tr>\n",
       "      <th>0</th>\n",
       "      <td>1</td>\n",
       "      <td>1303834</td>\n",
       "      <td>23</td>\n",
       "      <td>3</td>\n",
       "      <td>single</td>\n",
       "      <td>rented</td>\n",
       "      <td>no</td>\n",
       "      <td>Mechanical_engineer</td>\n",
       "      <td>Rewa</td>\n",
       "      <td>Madhya_Pradesh</td>\n",
       "      <td>3</td>\n",
       "      <td>13</td>\n",
       "      <td>0</td>\n",
       "    </tr>\n",
       "    <tr>\n",
       "      <th>1</th>\n",
       "      <td>2</td>\n",
       "      <td>7574516</td>\n",
       "      <td>40</td>\n",
       "      <td>10</td>\n",
       "      <td>single</td>\n",
       "      <td>rented</td>\n",
       "      <td>no</td>\n",
       "      <td>Software_Developer</td>\n",
       "      <td>Parbhani</td>\n",
       "      <td>Maharashtra</td>\n",
       "      <td>9</td>\n",
       "      <td>13</td>\n",
       "      <td>0</td>\n",
       "    </tr>\n",
       "    <tr>\n",
       "      <th>2</th>\n",
       "      <td>3</td>\n",
       "      <td>3991815</td>\n",
       "      <td>66</td>\n",
       "      <td>4</td>\n",
       "      <td>married</td>\n",
       "      <td>rented</td>\n",
       "      <td>no</td>\n",
       "      <td>Technical_writer</td>\n",
       "      <td>Alappuzha</td>\n",
       "      <td>Kerala</td>\n",
       "      <td>4</td>\n",
       "      <td>10</td>\n",
       "      <td>0</td>\n",
       "    </tr>\n",
       "    <tr>\n",
       "      <th>3</th>\n",
       "      <td>4</td>\n",
       "      <td>6256451</td>\n",
       "      <td>41</td>\n",
       "      <td>2</td>\n",
       "      <td>single</td>\n",
       "      <td>rented</td>\n",
       "      <td>yes</td>\n",
       "      <td>Software_Developer</td>\n",
       "      <td>Bhubaneswar</td>\n",
       "      <td>Odisha</td>\n",
       "      <td>2</td>\n",
       "      <td>12</td>\n",
       "      <td>1</td>\n",
       "    </tr>\n",
       "    <tr>\n",
       "      <th>4</th>\n",
       "      <td>5</td>\n",
       "      <td>5768871</td>\n",
       "      <td>47</td>\n",
       "      <td>11</td>\n",
       "      <td>single</td>\n",
       "      <td>rented</td>\n",
       "      <td>no</td>\n",
       "      <td>Civil_servant</td>\n",
       "      <td>Tiruchirappalli[10]</td>\n",
       "      <td>Tamil_Nadu</td>\n",
       "      <td>3</td>\n",
       "      <td>14</td>\n",
       "      <td>1</td>\n",
       "    </tr>\n",
       "  </tbody>\n",
       "</table>\n",
       "</div>"
      ],
      "text/plain": [
       "   Id   Income  Age  Experience Married/Single House_Ownership Car_Ownership  \\\n",
       "0   1  1303834   23           3         single          rented            no   \n",
       "1   2  7574516   40          10         single          rented            no   \n",
       "2   3  3991815   66           4        married          rented            no   \n",
       "3   4  6256451   41           2         single          rented           yes   \n",
       "4   5  5768871   47          11         single          rented            no   \n",
       "\n",
       "            Profession                 CITY           STATE  CURRENT_JOB_YRS  \\\n",
       "0  Mechanical_engineer                 Rewa  Madhya_Pradesh                3   \n",
       "1   Software_Developer             Parbhani     Maharashtra                9   \n",
       "2     Technical_writer            Alappuzha          Kerala                4   \n",
       "3   Software_Developer          Bhubaneswar          Odisha                2   \n",
       "4        Civil_servant  Tiruchirappalli[10]      Tamil_Nadu                3   \n",
       "\n",
       "   CURRENT_HOUSE_YRS  Risk_Flag  \n",
       "0                 13          0  \n",
       "1                 13          0  \n",
       "2                 10          0  \n",
       "3                 12          1  \n",
       "4                 14          1  "
      ]
     },
     "execution_count": 2,
     "metadata": {},
     "output_type": "execute_result"
    }
   ],
   "source": [
    "data = pd.read_csv(\"/kaggle/input/loan-prediction-based-on-customer-behavior/Training Data.csv\")\n",
    "data.head()"
   ]
  },
  {
   "cell_type": "markdown",
   "id": "f833f78e",
   "metadata": {
    "papermill": {
     "duration": 0.098332,
     "end_time": "2024-08-21T05:49:28.344458",
     "exception": false,
     "start_time": "2024-08-21T05:49:28.246126",
     "status": "completed"
    },
    "tags": []
   },
   "source": [
    "# Recorrer dataset"
   ]
  },
  {
   "cell_type": "code",
   "execution_count": 3,
   "id": "c37a8e4d",
   "metadata": {
    "execution": {
     "iopub.execute_input": "2024-08-21T05:49:28.553245Z",
     "iopub.status.busy": "2024-08-21T05:49:28.552272Z",
     "iopub.status.idle": "2024-08-21T05:49:28.558358Z",
     "shell.execute_reply": "2024-08-21T05:49:28.557445Z",
     "shell.execute_reply.started": "2024-08-21T05:06:10.655719Z"
    },
    "papermill": {
     "duration": 0.114211,
     "end_time": "2024-08-21T05:49:28.558536",
     "exception": false,
     "start_time": "2024-08-21T05:49:28.444325",
     "status": "completed"
    },
    "tags": []
   },
   "outputs": [
    {
     "name": "stdout",
     "output_type": "stream",
     "text": [
      "Rows: 252000\n",
      "Columns: 13\n"
     ]
    }
   ],
   "source": [
    "rows, columns = data.shape\n",
    "print('Rows:', rows)\n",
    "print('Columns:', columns)"
   ]
  },
  {
   "cell_type": "code",
   "execution_count": 4,
   "id": "af5640bb",
   "metadata": {
    "execution": {
     "iopub.execute_input": "2024-08-21T05:49:28.946965Z",
     "iopub.status.busy": "2024-08-21T05:49:28.946026Z",
     "iopub.status.idle": "2024-08-21T05:49:28.975600Z",
     "shell.execute_reply": "2024-08-21T05:49:28.976225Z",
     "shell.execute_reply.started": "2024-08-21T05:06:10.667212Z"
    },
    "papermill": {
     "duration": 0.31291,
     "end_time": "2024-08-21T05:49:28.976438",
     "exception": false,
     "start_time": "2024-08-21T05:49:28.663528",
     "status": "completed"
    },
    "tags": []
   },
   "outputs": [
    {
     "name": "stdout",
     "output_type": "stream",
     "text": [
      "<class 'pandas.core.frame.DataFrame'>\n",
      "RangeIndex: 252000 entries, 0 to 251999\n",
      "Data columns (total 13 columns):\n",
      " #   Column             Non-Null Count   Dtype \n",
      "---  ------             --------------   ----- \n",
      " 0   Id                 252000 non-null  int64 \n",
      " 1   Income             252000 non-null  int64 \n",
      " 2   Age                252000 non-null  int64 \n",
      " 3   Experience         252000 non-null  int64 \n",
      " 4   Married/Single     252000 non-null  object\n",
      " 5   House_Ownership    252000 non-null  object\n",
      " 6   Car_Ownership      252000 non-null  object\n",
      " 7   Profession         252000 non-null  object\n",
      " 8   CITY               252000 non-null  object\n",
      " 9   STATE              252000 non-null  object\n",
      " 10  CURRENT_JOB_YRS    252000 non-null  int64 \n",
      " 11  CURRENT_HOUSE_YRS  252000 non-null  int64 \n",
      " 12  Risk_Flag          252000 non-null  int64 \n",
      "dtypes: int64(7), object(6)\n",
      "memory usage: 25.0+ MB\n"
     ]
    }
   ],
   "source": [
    "data.info()"
   ]
  },
  {
   "cell_type": "code",
   "execution_count": 5,
   "id": "e86b6147",
   "metadata": {
    "execution": {
     "iopub.execute_input": "2024-08-21T05:49:29.434365Z",
     "iopub.status.busy": "2024-08-21T05:49:29.433243Z",
     "iopub.status.idle": "2024-08-21T05:49:29.448558Z",
     "shell.execute_reply": "2024-08-21T05:49:29.447646Z",
     "shell.execute_reply.started": "2024-08-21T05:06:10.872462Z"
    },
    "papermill": {
     "duration": 0.316217,
     "end_time": "2024-08-21T05:49:29.448838",
     "exception": false,
     "start_time": "2024-08-21T05:49:29.132621",
     "status": "completed"
    },
    "tags": []
   },
   "outputs": [
    {
     "data": {
      "text/plain": [
       "Id                   0\n",
       "Income               0\n",
       "Age                  0\n",
       "Experience           0\n",
       "Married/Single       0\n",
       "House_Ownership      0\n",
       "Car_Ownership        0\n",
       "Profession           0\n",
       "CITY                 0\n",
       "STATE                0\n",
       "CURRENT_JOB_YRS      0\n",
       "CURRENT_HOUSE_YRS    0\n",
       "Risk_Flag            0\n",
       "dtype: int64"
      ]
     },
     "execution_count": 5,
     "metadata": {},
     "output_type": "execute_result"
    }
   ],
   "source": [
    "data.isnull().sum()"
   ]
  },
  {
   "cell_type": "code",
   "execution_count": 6,
   "id": "ada9f6b1",
   "metadata": {
    "execution": {
     "iopub.execute_input": "2024-08-21T05:49:29.670324Z",
     "iopub.status.busy": "2024-08-21T05:49:29.669305Z",
     "iopub.status.idle": "2024-08-21T05:49:29.673839Z",
     "shell.execute_reply": "2024-08-21T05:49:29.674531Z",
     "shell.execute_reply.started": "2024-08-21T05:06:11.056635Z"
    },
    "papermill": {
     "duration": 0.107836,
     "end_time": "2024-08-21T05:49:29.674777",
     "exception": false,
     "start_time": "2024-08-21T05:49:29.566941",
     "status": "completed"
    },
    "tags": []
   },
   "outputs": [
    {
     "data": {
      "text/plain": [
       "Index(['Id', 'Income', 'Age', 'Experience', 'Married/Single',\n",
       "       'House_Ownership', 'Car_Ownership', 'Profession', 'CITY', 'STATE',\n",
       "       'CURRENT_JOB_YRS', 'CURRENT_HOUSE_YRS', 'Risk_Flag'],\n",
       "      dtype='object')"
      ]
     },
     "execution_count": 6,
     "metadata": {},
     "output_type": "execute_result"
    }
   ],
   "source": [
    "data.columns"
   ]
  },
  {
   "cell_type": "markdown",
   "id": "eb1f24df",
   "metadata": {
    "papermill": {
     "duration": 0.094072,
     "end_time": "2024-08-21T05:49:29.867156",
     "exception": false,
     "start_time": "2024-08-21T05:49:29.773084",
     "status": "completed"
    },
    "tags": []
   },
   "source": [
    "# Analizar columnas numericas"
   ]
  },
  {
   "cell_type": "code",
   "execution_count": 7,
   "id": "0e9fdc8a",
   "metadata": {
    "execution": {
     "iopub.execute_input": "2024-08-21T05:49:30.073137Z",
     "iopub.status.busy": "2024-08-21T05:49:30.072245Z",
     "iopub.status.idle": "2024-08-21T05:49:30.160049Z",
     "shell.execute_reply": "2024-08-21T05:49:30.160661Z",
     "shell.execute_reply.started": "2024-08-21T05:06:11.065900Z"
    },
    "papermill": {
     "duration": 0.197775,
     "end_time": "2024-08-21T05:49:30.160898",
     "exception": false,
     "start_time": "2024-08-21T05:49:29.963123",
     "status": "completed"
    },
    "tags": []
   },
   "outputs": [
    {
     "data": {
      "text/html": [
       "<div>\n",
       "<style scoped>\n",
       "    .dataframe tbody tr th:only-of-type {\n",
       "        vertical-align: middle;\n",
       "    }\n",
       "\n",
       "    .dataframe tbody tr th {\n",
       "        vertical-align: top;\n",
       "    }\n",
       "\n",
       "    .dataframe thead th {\n",
       "        text-align: right;\n",
       "    }\n",
       "</style>\n",
       "<table border=\"1\" class=\"dataframe\">\n",
       "  <thead>\n",
       "    <tr style=\"text-align: right;\">\n",
       "      <th></th>\n",
       "      <th>Id</th>\n",
       "      <th>Income</th>\n",
       "      <th>Age</th>\n",
       "      <th>Experience</th>\n",
       "      <th>CURRENT_JOB_YRS</th>\n",
       "      <th>CURRENT_HOUSE_YRS</th>\n",
       "      <th>Risk_Flag</th>\n",
       "    </tr>\n",
       "  </thead>\n",
       "  <tbody>\n",
       "    <tr>\n",
       "      <th>count</th>\n",
       "      <td>252000.000000</td>\n",
       "      <td>2.520000e+05</td>\n",
       "      <td>252000.000000</td>\n",
       "      <td>252000.000000</td>\n",
       "      <td>252000.000000</td>\n",
       "      <td>252000.000000</td>\n",
       "      <td>252000.000000</td>\n",
       "    </tr>\n",
       "    <tr>\n",
       "      <th>mean</th>\n",
       "      <td>126000.500000</td>\n",
       "      <td>4.997117e+06</td>\n",
       "      <td>49.954071</td>\n",
       "      <td>10.084437</td>\n",
       "      <td>6.333877</td>\n",
       "      <td>11.997794</td>\n",
       "      <td>0.123000</td>\n",
       "    </tr>\n",
       "    <tr>\n",
       "      <th>std</th>\n",
       "      <td>72746.278255</td>\n",
       "      <td>2.878311e+06</td>\n",
       "      <td>17.063855</td>\n",
       "      <td>6.002590</td>\n",
       "      <td>3.647053</td>\n",
       "      <td>1.399037</td>\n",
       "      <td>0.328438</td>\n",
       "    </tr>\n",
       "    <tr>\n",
       "      <th>min</th>\n",
       "      <td>1.000000</td>\n",
       "      <td>1.031000e+04</td>\n",
       "      <td>21.000000</td>\n",
       "      <td>0.000000</td>\n",
       "      <td>0.000000</td>\n",
       "      <td>10.000000</td>\n",
       "      <td>0.000000</td>\n",
       "    </tr>\n",
       "    <tr>\n",
       "      <th>25%</th>\n",
       "      <td>63000.750000</td>\n",
       "      <td>2.503015e+06</td>\n",
       "      <td>35.000000</td>\n",
       "      <td>5.000000</td>\n",
       "      <td>3.000000</td>\n",
       "      <td>11.000000</td>\n",
       "      <td>0.000000</td>\n",
       "    </tr>\n",
       "    <tr>\n",
       "      <th>50%</th>\n",
       "      <td>126000.500000</td>\n",
       "      <td>5.000694e+06</td>\n",
       "      <td>50.000000</td>\n",
       "      <td>10.000000</td>\n",
       "      <td>6.000000</td>\n",
       "      <td>12.000000</td>\n",
       "      <td>0.000000</td>\n",
       "    </tr>\n",
       "    <tr>\n",
       "      <th>75%</th>\n",
       "      <td>189000.250000</td>\n",
       "      <td>7.477502e+06</td>\n",
       "      <td>65.000000</td>\n",
       "      <td>15.000000</td>\n",
       "      <td>9.000000</td>\n",
       "      <td>13.000000</td>\n",
       "      <td>0.000000</td>\n",
       "    </tr>\n",
       "    <tr>\n",
       "      <th>max</th>\n",
       "      <td>252000.000000</td>\n",
       "      <td>9.999938e+06</td>\n",
       "      <td>79.000000</td>\n",
       "      <td>20.000000</td>\n",
       "      <td>14.000000</td>\n",
       "      <td>14.000000</td>\n",
       "      <td>1.000000</td>\n",
       "    </tr>\n",
       "  </tbody>\n",
       "</table>\n",
       "</div>"
      ],
      "text/plain": [
       "                  Id        Income            Age     Experience  \\\n",
       "count  252000.000000  2.520000e+05  252000.000000  252000.000000   \n",
       "mean   126000.500000  4.997117e+06      49.954071      10.084437   \n",
       "std     72746.278255  2.878311e+06      17.063855       6.002590   \n",
       "min         1.000000  1.031000e+04      21.000000       0.000000   \n",
       "25%     63000.750000  2.503015e+06      35.000000       5.000000   \n",
       "50%    126000.500000  5.000694e+06      50.000000      10.000000   \n",
       "75%    189000.250000  7.477502e+06      65.000000      15.000000   \n",
       "max    252000.000000  9.999938e+06      79.000000      20.000000   \n",
       "\n",
       "       CURRENT_JOB_YRS  CURRENT_HOUSE_YRS      Risk_Flag  \n",
       "count    252000.000000      252000.000000  252000.000000  \n",
       "mean          6.333877          11.997794       0.123000  \n",
       "std           3.647053           1.399037       0.328438  \n",
       "min           0.000000          10.000000       0.000000  \n",
       "25%           3.000000          11.000000       0.000000  \n",
       "50%           6.000000          12.000000       0.000000  \n",
       "75%           9.000000          13.000000       0.000000  \n",
       "max          14.000000          14.000000       1.000000  "
      ]
     },
     "execution_count": 7,
     "metadata": {},
     "output_type": "execute_result"
    }
   ],
   "source": [
    "data.describe()"
   ]
  },
  {
   "cell_type": "code",
   "execution_count": 8,
   "id": "ecfb3746",
   "metadata": {
    "execution": {
     "iopub.execute_input": "2024-08-21T05:49:30.361904Z",
     "iopub.status.busy": "2024-08-21T05:49:30.361074Z",
     "iopub.status.idle": "2024-08-21T05:49:30.432461Z",
     "shell.execute_reply": "2024-08-21T05:49:30.431869Z",
     "shell.execute_reply.started": "2024-08-21T05:06:11.160401Z"
    },
    "papermill": {
     "duration": 0.17359,
     "end_time": "2024-08-21T05:49:30.432629",
     "exception": false,
     "start_time": "2024-08-21T05:49:30.259039",
     "status": "completed"
    },
    "tags": []
   },
   "outputs": [
    {
     "data": {
      "text/html": [
       "<div>\n",
       "<style scoped>\n",
       "    .dataframe tbody tr th:only-of-type {\n",
       "        vertical-align: middle;\n",
       "    }\n",
       "\n",
       "    .dataframe tbody tr th {\n",
       "        vertical-align: top;\n",
       "    }\n",
       "\n",
       "    .dataframe thead th {\n",
       "        text-align: right;\n",
       "    }\n",
       "</style>\n",
       "<table border=\"1\" class=\"dataframe\">\n",
       "  <thead>\n",
       "    <tr style=\"text-align: right;\">\n",
       "      <th></th>\n",
       "      <th>Id</th>\n",
       "      <th>Income</th>\n",
       "      <th>Age</th>\n",
       "      <th>Experience</th>\n",
       "      <th>CURRENT_JOB_YRS</th>\n",
       "      <th>CURRENT_HOUSE_YRS</th>\n",
       "      <th>Risk_Flag</th>\n",
       "    </tr>\n",
       "  </thead>\n",
       "  <tbody>\n",
       "    <tr>\n",
       "      <th>Id</th>\n",
       "      <td>1.000000</td>\n",
       "      <td>-0.001324</td>\n",
       "      <td>-0.001816</td>\n",
       "      <td>-0.005810</td>\n",
       "      <td>-0.003250</td>\n",
       "      <td>0.001972</td>\n",
       "      <td>0.032153</td>\n",
       "    </tr>\n",
       "    <tr>\n",
       "      <th>Income</th>\n",
       "      <td>-0.001324</td>\n",
       "      <td>1.000000</td>\n",
       "      <td>-0.000652</td>\n",
       "      <td>0.006422</td>\n",
       "      <td>0.007045</td>\n",
       "      <td>-0.002397</td>\n",
       "      <td>-0.003091</td>\n",
       "    </tr>\n",
       "    <tr>\n",
       "      <th>Age</th>\n",
       "      <td>-0.001816</td>\n",
       "      <td>-0.000652</td>\n",
       "      <td>1.000000</td>\n",
       "      <td>-0.001118</td>\n",
       "      <td>0.002154</td>\n",
       "      <td>-0.020134</td>\n",
       "      <td>-0.021809</td>\n",
       "    </tr>\n",
       "    <tr>\n",
       "      <th>Experience</th>\n",
       "      <td>-0.005810</td>\n",
       "      <td>0.006422</td>\n",
       "      <td>-0.001118</td>\n",
       "      <td>1.000000</td>\n",
       "      <td>0.646098</td>\n",
       "      <td>0.019309</td>\n",
       "      <td>-0.034523</td>\n",
       "    </tr>\n",
       "    <tr>\n",
       "      <th>CURRENT_JOB_YRS</th>\n",
       "      <td>-0.003250</td>\n",
       "      <td>0.007045</td>\n",
       "      <td>0.002154</td>\n",
       "      <td>0.646098</td>\n",
       "      <td>1.000000</td>\n",
       "      <td>0.005372</td>\n",
       "      <td>-0.016942</td>\n",
       "    </tr>\n",
       "    <tr>\n",
       "      <th>CURRENT_HOUSE_YRS</th>\n",
       "      <td>0.001972</td>\n",
       "      <td>-0.002397</td>\n",
       "      <td>-0.020134</td>\n",
       "      <td>0.019309</td>\n",
       "      <td>0.005372</td>\n",
       "      <td>1.000000</td>\n",
       "      <td>-0.004375</td>\n",
       "    </tr>\n",
       "    <tr>\n",
       "      <th>Risk_Flag</th>\n",
       "      <td>0.032153</td>\n",
       "      <td>-0.003091</td>\n",
       "      <td>-0.021809</td>\n",
       "      <td>-0.034523</td>\n",
       "      <td>-0.016942</td>\n",
       "      <td>-0.004375</td>\n",
       "      <td>1.000000</td>\n",
       "    </tr>\n",
       "  </tbody>\n",
       "</table>\n",
       "</div>"
      ],
      "text/plain": [
       "                         Id    Income       Age  Experience  CURRENT_JOB_YRS  \\\n",
       "Id                 1.000000 -0.001324 -0.001816   -0.005810        -0.003250   \n",
       "Income            -0.001324  1.000000 -0.000652    0.006422         0.007045   \n",
       "Age               -0.001816 -0.000652  1.000000   -0.001118         0.002154   \n",
       "Experience        -0.005810  0.006422 -0.001118    1.000000         0.646098   \n",
       "CURRENT_JOB_YRS   -0.003250  0.007045  0.002154    0.646098         1.000000   \n",
       "CURRENT_HOUSE_YRS  0.001972 -0.002397 -0.020134    0.019309         0.005372   \n",
       "Risk_Flag          0.032153 -0.003091 -0.021809   -0.034523        -0.016942   \n",
       "\n",
       "                   CURRENT_HOUSE_YRS  Risk_Flag  \n",
       "Id                          0.001972   0.032153  \n",
       "Income                     -0.002397  -0.003091  \n",
       "Age                        -0.020134  -0.021809  \n",
       "Experience                  0.019309  -0.034523  \n",
       "CURRENT_JOB_YRS             0.005372  -0.016942  \n",
       "CURRENT_HOUSE_YRS           1.000000  -0.004375  \n",
       "Risk_Flag                  -0.004375   1.000000  "
      ]
     },
     "execution_count": 8,
     "metadata": {},
     "output_type": "execute_result"
    }
   ],
   "source": [
    "data.corr()"
   ]
  },
  {
   "cell_type": "code",
   "execution_count": 9,
   "id": "cfc809f6",
   "metadata": {
    "execution": {
     "iopub.execute_input": "2024-08-21T05:49:30.630900Z",
     "iopub.status.busy": "2024-08-21T05:49:30.630090Z",
     "iopub.status.idle": "2024-08-21T05:49:32.604557Z",
     "shell.execute_reply": "2024-08-21T05:49:32.605182Z",
     "shell.execute_reply.started": "2024-08-21T05:06:11.231503Z"
    },
    "papermill": {
     "duration": 2.078437,
     "end_time": "2024-08-21T05:49:32.605387",
     "exception": false,
     "start_time": "2024-08-21T05:49:30.526950",
     "status": "completed"
    },
    "tags": []
   },
   "outputs": [
    {
     "data": {
      "image/png": "[encoded data removed]",
      "text/plain": [
       "<Figure size 1584x1440 with 9 Axes>"
      ]
     },
     "metadata": {},
     "output_type": "display_data"
    }
   ],
   "source": [
    "data.hist( figsize = (22, 20) )\n",
    "plt.show()"
   ]
  },
  {
   "cell_type": "code",
   "execution_count": 10,
   "id": "cc13e9c6",
   "metadata": {
    "execution": {
     "iopub.execute_input": "2024-08-21T05:49:32.831262Z",
     "iopub.status.busy": "2024-08-21T05:49:32.830401Z",
     "iopub.status.idle": "2024-08-21T05:49:32.835045Z",
     "shell.execute_reply": "2024-08-21T05:49:32.834403Z",
     "shell.execute_reply.started": "2024-08-21T05:06:13.090890Z"
    },
    "papermill": {
     "duration": 0.12169,
     "end_time": "2024-08-21T05:49:32.835211",
     "exception": false,
     "start_time": "2024-08-21T05:49:32.713521",
     "status": "completed"
    },
    "tags": []
   },
   "outputs": [
    {
     "data": {
      "text/plain": [
       "0    221004\n",
       "1     30996\n",
       "Name: Risk_Flag, dtype: int64"
      ]
     },
     "execution_count": 10,
     "metadata": {},
     "output_type": "execute_result"
    }
   ],
   "source": [
    "data[\"Risk_Flag\"].value_counts()"
   ]
  },
  {
   "cell_type": "code",
   "execution_count": 11,
   "id": "7274ac4c",
   "metadata": {
    "execution": {
     "iopub.execute_input": "2024-08-21T05:49:33.070680Z",
     "iopub.status.busy": "2024-08-21T05:49:33.069552Z",
     "iopub.status.idle": "2024-08-21T05:49:33.834465Z",
     "shell.execute_reply": "2024-08-21T05:49:33.835385Z",
     "shell.execute_reply.started": "2024-08-21T05:06:13.104750Z"
    },
    "papermill": {
     "duration": 0.893056,
     "end_time": "2024-08-21T05:49:33.835631",
     "exception": false,
     "start_time": "2024-08-21T05:49:32.942575",
     "status": "completed"
    },
    "tags": []
   },
   "outputs": [
    {
     "data": {
      "image/png": "[encoded data removed]",
      "text/plain": [
       "<Figure size 864x576 with 2 Axes>"
      ]
     },
     "metadata": {},
     "output_type": "display_data"
    }
   ],
   "source": [
    "fig, ax = plt.subplots( figsize = (12,8) )\n",
    "\n",
    "corr_matrix = data.corr()\n",
    "corr_heatmap = sns.heatmap( corr_matrix, cmap = \"flare\", annot=True, ax=ax, annot_kws={\"size\": 14})\n",
    "\n",
    "plt.show()"
   ]
  },
  {
   "cell_type": "markdown",
   "id": "5fbbe214",
   "metadata": {
    "papermill": {
     "duration": 0.102952,
     "end_time": "2024-08-21T05:49:34.040165",
     "exception": false,
     "start_time": "2024-08-21T05:49:33.937213",
     "status": "completed"
    },
    "tags": []
   },
   "source": [
    "# Analizar columnas categoricas"
   ]
  },
  {
   "cell_type": "code",
   "execution_count": 12,
   "id": "e9121a8a",
   "metadata": {
    "execution": {
     "iopub.execute_input": "2024-08-21T05:49:34.248981Z",
     "iopub.status.busy": "2024-08-21T05:49:34.248012Z",
     "iopub.status.idle": "2024-08-21T05:49:34.251147Z",
     "shell.execute_reply": "2024-08-21T05:49:34.251789Z",
     "shell.execute_reply.started": "2024-08-21T05:06:13.928411Z"
    },
    "papermill": {
     "duration": 0.112314,
     "end_time": "2024-08-21T05:49:34.251987",
     "exception": false,
     "start_time": "2024-08-21T05:49:34.139673",
     "status": "completed"
    },
    "tags": []
   },
   "outputs": [],
   "source": [
    "def categorical_valcount_hist(feature):\n",
    "    print(data[feature].value_counts())\n",
    "    fig, ax = plt.subplots( figsize = (6,6) )\n",
    "    sns.countplot(x=feature, ax=ax, data=data)\n",
    "    plt.show()"
   ]
  },
  {
   "cell_type": "code",
   "execution_count": 13,
   "id": "a8d7860d",
   "metadata": {
    "execution": {
     "iopub.execute_input": "2024-08-21T05:49:34.512539Z",
     "iopub.status.busy": "2024-08-21T05:49:34.509339Z",
     "iopub.status.idle": "2024-08-21T05:49:34.974893Z",
     "shell.execute_reply": "2024-08-21T05:49:34.975492Z",
     "shell.execute_reply.started": "2024-08-21T05:06:13.939831Z"
    },
    "papermill": {
     "duration": 0.619629,
     "end_time": "2024-08-21T05:49:34.975697",
     "exception": false,
     "start_time": "2024-08-21T05:49:34.356068",
     "status": "completed"
    },
    "tags": []
   },
   "outputs": [
    {
     "name": "stdout",
     "output_type": "stream",
     "text": [
      "single     226272\n",
      "married     25728\n",
      "Name: Married/Single, dtype: int64\n"
     ]
    },
    {
     "data": {
      "image/png": "[encoded data removed]",
      "text/plain": [
       "<Figure size 432x432 with 1 Axes>"
      ]
     },
     "metadata": {},
     "output_type": "display_data"
    }
   ],
   "source": [
    "categorical_valcount_hist(\"Married/Single\")"
   ]
  },
  {
   "cell_type": "code",
   "execution_count": 14,
   "id": "9ff0939d",
   "metadata": {
    "execution": {
     "iopub.execute_input": "2024-08-21T05:49:35.232146Z",
     "iopub.status.busy": "2024-08-21T05:49:35.231017Z",
     "iopub.status.idle": "2024-08-21T05:49:35.705232Z",
     "shell.execute_reply": "2024-08-21T05:49:35.705820Z",
     "shell.execute_reply.started": "2024-08-21T05:06:14.474061Z"
    },
    "papermill": {
     "duration": 0.624425,
     "end_time": "2024-08-21T05:49:35.706020",
     "exception": false,
     "start_time": "2024-08-21T05:49:35.081595",
     "status": "completed"
    },
    "tags": []
   },
   "outputs": [
    {
     "name": "stdout",
     "output_type": "stream",
     "text": [
      "rented          231898\n",
      "owned            12918\n",
      "norent_noown      7184\n",
      "Name: House_Ownership, dtype: int64\n"
     ]
    },
    {
     "data": {
      "image/png": "[encoded data removed]",
      "text/plain": [
       "<Figure size 432x432 with 1 Axes>"
      ]
     },
     "metadata": {},
     "output_type": "display_data"
    }
   ],
   "source": [
    "categorical_valcount_hist(\"House_Ownership\")"
   ]
  },
  {
   "cell_type": "code",
   "execution_count": 15,
   "id": "b5fc4c3f",
   "metadata": {
    "execution": {
     "iopub.execute_input": "2024-08-21T05:49:35.927244Z",
     "iopub.status.busy": "2024-08-21T05:49:35.926409Z",
     "iopub.status.idle": "2024-08-21T05:49:35.997986Z",
     "shell.execute_reply": "2024-08-21T05:49:35.998563Z",
     "shell.execute_reply.started": "2024-08-21T05:06:14.988745Z"
    },
    "papermill": {
     "duration": 0.187906,
     "end_time": "2024-08-21T05:49:35.998777",
     "exception": false,
     "start_time": "2024-08-21T05:49:35.810871",
     "status": "completed"
    },
    "tags": []
   },
   "outputs": [
    {
     "name": "stdout",
     "output_type": "stream",
     "text": [
      "Total categories in STATE: 29\n",
      "\n",
      "Uttar_Pradesh        28400\n",
      "Maharashtra          25562\n",
      "Andhra_Pradesh       25297\n",
      "West_Bengal          23483\n",
      "Bihar                19780\n",
      "Tamil_Nadu           16537\n",
      "Madhya_Pradesh       14122\n",
      "Karnataka            11855\n",
      "Gujarat              11408\n",
      "Rajasthan             9174\n",
      "Jharkhand             8965\n",
      "Haryana               7890\n",
      "Telangana             7524\n",
      "Assam                 7062\n",
      "Kerala                5805\n",
      "Delhi                 5490\n",
      "Punjab                4720\n",
      "Odisha                4658\n",
      "Chhattisgarh          3834\n",
      "Uttarakhand           1874\n",
      "Jammu_and_Kashmir     1780\n",
      "Puducherry            1433\n",
      "Mizoram                849\n",
      "Manipur                849\n",
      "Himachal_Pradesh       833\n",
      "Tripura                809\n",
      "Uttar_Pradesh[5]       743\n",
      "Chandigarh             656\n",
      "Sikkim                 608\n",
      "Name: STATE, dtype: int64\n"
     ]
    }
   ],
   "source": [
    "print( \"Total categories in STATE:\", len( data[\"STATE\"].unique() ) )\n",
    "print()\n",
    "print( data[\"STATE\"].value_counts() )"
   ]
  },
  {
   "cell_type": "code",
   "execution_count": 16,
   "id": "f5150f09",
   "metadata": {
    "execution": {
     "iopub.execute_input": "2024-08-21T05:49:36.222180Z",
     "iopub.status.busy": "2024-08-21T05:49:36.221151Z",
     "iopub.status.idle": "2024-08-21T05:49:36.296538Z",
     "shell.execute_reply": "2024-08-21T05:49:36.295831Z",
     "shell.execute_reply.started": "2024-08-21T05:06:15.070666Z"
    },
    "papermill": {
     "duration": 0.189841,
     "end_time": "2024-08-21T05:49:36.296707",
     "exception": false,
     "start_time": "2024-08-21T05:49:36.106866",
     "status": "completed"
    },
    "tags": []
   },
   "outputs": [
    {
     "name": "stdout",
     "output_type": "stream",
     "text": [
      "Total categories in Profession: 51\n",
      "\n"
     ]
    },
    {
     "data": {
      "text/plain": [
       "Physician                     5957\n",
       "Statistician                  5806\n",
       "Web_designer                  5397\n",
       "Psychologist                  5390\n",
       "Computer_hardware_engineer    5372\n",
       "Drafter                       5359\n",
       "Magistrate                    5357\n",
       "Fashion_Designer              5304\n",
       "Air_traffic_controller        5281\n",
       "Comedian                      5259\n",
       "Industrial_Engineer           5250\n",
       "Mechanical_engineer           5217\n",
       "Chemical_engineer             5205\n",
       "Technical_writer              5195\n",
       "Hotel_Manager                 5178\n",
       "Financial_Analyst             5167\n",
       "Graphic_Designer              5166\n",
       "Flight_attendant              5128\n",
       "Biomedical_Engineer           5127\n",
       "Secretary                     5061\n",
       "Software_Developer            5053\n",
       "Petroleum_Engineer            5041\n",
       "Police_officer                5035\n",
       "Computer_operator             4990\n",
       "Politician                    4944\n",
       "Microbiologist                4881\n",
       "Technician                    4864\n",
       "Artist                        4861\n",
       "Lawyer                        4818\n",
       "Consultant                    4808\n",
       "Dentist                       4782\n",
       "Scientist                     4781\n",
       "Surgeon                       4772\n",
       "Aviator                       4758\n",
       "Technology_specialist         4737\n",
       "Design_Engineer               4729\n",
       "Surveyor                      4714\n",
       "Geologist                     4672\n",
       "Analyst                       4668\n",
       "Army_officer                  4661\n",
       "Architect                     4657\n",
       "Chef                          4635\n",
       "Librarian                     4628\n",
       "Civil_engineer                4616\n",
       "Designer                      4598\n",
       "Economist                     4573\n",
       "Firefighter                   4507\n",
       "Chartered_Accountant          4493\n",
       "Civil_servant                 4413\n",
       "Official                      4087\n",
       "Engineer                      4048\n",
       "Name: Profession, dtype: int64"
      ]
     },
     "execution_count": 16,
     "metadata": {},
     "output_type": "execute_result"
    }
   ],
   "source": [
    "print( \"Total categories in Profession:\", len( data[\"Profession\"].unique() ) )\n",
    "print()\n",
    "data[\"Profession\"].value_counts()"
   ]
  },
  {
   "cell_type": "markdown",
   "id": "56001440",
   "metadata": {
    "papermill": {
     "duration": 0.110884,
     "end_time": "2024-08-21T05:49:36.517587",
     "exception": false,
     "start_time": "2024-08-21T05:49:36.406703",
     "status": "completed"
    },
    "tags": []
   },
   "source": [
    "# Data Analysis"
   ]
  },
  {
   "cell_type": "code",
   "execution_count": 17,
   "id": "bc05168d",
   "metadata": {
    "execution": {
     "iopub.execute_input": "2024-08-21T05:49:36.922344Z",
     "iopub.status.busy": "2024-08-21T05:49:36.920933Z",
     "iopub.status.idle": "2024-08-21T05:49:36.937528Z",
     "shell.execute_reply": "2024-08-21T05:49:36.936761Z",
     "shell.execute_reply.started": "2024-08-21T05:06:15.156010Z"
    },
    "papermill": {
     "duration": 0.302057,
     "end_time": "2024-08-21T05:49:36.937692",
     "exception": false,
     "start_time": "2024-08-21T05:49:36.635635",
     "status": "completed"
    },
    "tags": []
   },
   "outputs": [
    {
     "name": "stdout",
     "output_type": "stream",
     "text": [
      "<class 'pandas.core.frame.DataFrame'>\n",
      "RangeIndex: 252000 entries, 0 to 251999\n",
      "Data columns (total 13 columns):\n",
      " #   Column             Non-Null Count   Dtype \n",
      "---  ------             --------------   ----- \n",
      " 0   Id                 252000 non-null  int64 \n",
      " 1   Income             252000 non-null  int64 \n",
      " 2   Age                252000 non-null  int64 \n",
      " 3   Experience         252000 non-null  int64 \n",
      " 4   Married/Single     252000 non-null  object\n",
      " 5   House_Ownership    252000 non-null  object\n",
      " 6   Car_Ownership      252000 non-null  object\n",
      " 7   Profession         252000 non-null  object\n",
      " 8   CITY               252000 non-null  object\n",
      " 9   STATE              252000 non-null  object\n",
      " 10  CURRENT_JOB_YRS    252000 non-null  int64 \n",
      " 11  CURRENT_HOUSE_YRS  252000 non-null  int64 \n",
      " 12  Risk_Flag          252000 non-null  int64 \n",
      "dtypes: int64(7), object(6)\n",
      "memory usage: 25.0+ MB\n"
     ]
    }
   ],
   "source": [
    "data.info()"
   ]
  },
  {
   "cell_type": "code",
   "execution_count": 18,
   "id": "9f264de9",
   "metadata": {
    "execution": {
     "iopub.execute_input": "2024-08-21T05:49:37.160212Z",
     "iopub.status.busy": "2024-08-21T05:49:37.159045Z",
     "iopub.status.idle": "2024-08-21T05:49:37.443767Z",
     "shell.execute_reply": "2024-08-21T05:49:37.443016Z",
     "shell.execute_reply.started": "2024-08-21T05:06:15.343501Z"
    },
    "papermill": {
     "duration": 0.400119,
     "end_time": "2024-08-21T05:49:37.443928",
     "exception": false,
     "start_time": "2024-08-21T05:49:37.043809",
     "status": "completed"
    },
    "tags": []
   },
   "outputs": [
    {
     "data": {
      "text/plain": [
       "<AxesSubplot:xlabel='Risk_Flag', ylabel='Income'>"
      ]
     },
     "execution_count": 18,
     "metadata": {},
     "output_type": "execute_result"
    },
    {
     "data": {
      "image/png": "[encoded data removed]",
      "text/plain": [
       "<Figure size 432x288 with 1 Axes>"
      ]
     },
     "metadata": {},
     "output_type": "display_data"
    }
   ],
   "source": [
    "sns.boxplot(x =\"Risk_Flag\",y=\"Income\" ,data = data)"
   ]
  },
  {
   "cell_type": "code",
   "execution_count": 19,
   "id": "61914c26",
   "metadata": {
    "execution": {
     "iopub.execute_input": "2024-08-21T05:49:37.681262Z",
     "iopub.status.busy": "2024-08-21T05:49:37.680361Z",
     "iopub.status.idle": "2024-08-21T05:49:37.907452Z",
     "shell.execute_reply": "2024-08-21T05:49:37.906687Z",
     "shell.execute_reply.started": "2024-08-21T05:06:15.563843Z"
    },
    "papermill": {
     "duration": 0.349397,
     "end_time": "2024-08-21T05:49:37.907613",
     "exception": false,
     "start_time": "2024-08-21T05:49:37.558216",
     "status": "completed"
    },
    "tags": []
   },
   "outputs": [
    {
     "data": {
      "text/plain": [
       "<AxesSubplot:xlabel='Risk_Flag', ylabel='Age'>"
      ]
     },
     "execution_count": 19,
     "metadata": {},
     "output_type": "execute_result"
    },
    {
     "data": {
      "image/png": "[encoded data removed]",
      "text/plain": [
       "<Figure size 432x288 with 1 Axes>"
      ]
     },
     "metadata": {},
     "output_type": "display_data"
    }
   ],
   "source": [
    "sns.boxplot(x =\"Risk_Flag\",y=\"Age\" ,data = data)"
   ]
  },
  {
   "cell_type": "code",
   "execution_count": 20,
   "id": "a7bdffa5",
   "metadata": {
    "execution": {
     "iopub.execute_input": "2024-08-21T05:49:38.143311Z",
     "iopub.status.busy": "2024-08-21T05:49:38.142535Z",
     "iopub.status.idle": "2024-08-21T05:49:38.431229Z",
     "shell.execute_reply": "2024-08-21T05:49:38.430511Z",
     "shell.execute_reply.started": "2024-08-21T05:06:15.842487Z"
    },
    "papermill": {
     "duration": 0.40575,
     "end_time": "2024-08-21T05:49:38.431402",
     "exception": false,
     "start_time": "2024-08-21T05:49:38.025652",
     "status": "completed"
    },
    "tags": []
   },
   "outputs": [
    {
     "data": {
      "text/plain": [
       "<AxesSubplot:xlabel='Risk_Flag', ylabel='Experience'>"
      ]
     },
     "execution_count": 20,
     "metadata": {},
     "output_type": "execute_result"
    },
    {
     "data": {
      "image/png": "[encoded data removed]",
      "text/plain": [
       "<Figure size 432x288 with 1 Axes>"
      ]
     },
     "metadata": {},
     "output_type": "display_data"
    }
   ],
   "source": [
    "sns.boxplot(x =\"Risk_Flag\",y=\"Experience\" ,data = data)"
   ]
  },
  {
   "cell_type": "code",
   "execution_count": 21,
   "id": "af1615a4",
   "metadata": {
    "execution": {
     "iopub.execute_input": "2024-08-21T05:49:38.668609Z",
     "iopub.status.busy": "2024-08-21T05:49:38.667635Z",
     "iopub.status.idle": "2024-08-21T05:49:38.962376Z",
     "shell.execute_reply": "2024-08-21T05:49:38.961532Z",
     "shell.execute_reply.started": "2024-08-21T05:06:16.072233Z"
    },
    "papermill": {
     "duration": 0.416813,
     "end_time": "2024-08-21T05:49:38.962609",
     "exception": false,
     "start_time": "2024-08-21T05:49:38.545796",
     "status": "completed"
    },
    "tags": []
   },
   "outputs": [
    {
     "data": {
      "text/plain": [
       "<AxesSubplot:xlabel='Risk_Flag', ylabel='CURRENT_JOB_YRS'>"
      ]
     },
     "execution_count": 21,
     "metadata": {},
     "output_type": "execute_result"
    },
    {
     "data": {
      "image/png": "[encoded data removed]",
      "text/plain": [
       "<Figure size 432x288 with 1 Axes>"
      ]
     },
     "metadata": {},
     "output_type": "display_data"
    }
   ],
   "source": [
    "sns.boxplot(x =\"Risk_Flag\",y=\"CURRENT_JOB_YRS\" ,data = data)"
   ]
  },
  {
   "cell_type": "code",
   "execution_count": 22,
   "id": "727b0261",
   "metadata": {
    "execution": {
     "iopub.execute_input": "2024-08-21T05:49:39.234067Z",
     "iopub.status.busy": "2024-08-21T05:49:39.233253Z",
     "iopub.status.idle": "2024-08-21T05:49:39.536997Z",
     "shell.execute_reply": "2024-08-21T05:49:39.536266Z",
     "shell.execute_reply.started": "2024-08-21T05:06:16.357545Z"
    },
    "papermill": {
     "duration": 0.428481,
     "end_time": "2024-08-21T05:49:39.537170",
     "exception": false,
     "start_time": "2024-08-21T05:49:39.108689",
     "status": "completed"
    },
    "tags": []
   },
   "outputs": [
    {
     "data": {
      "text/plain": [
       "<AxesSubplot:xlabel='Risk_Flag', ylabel='CURRENT_HOUSE_YRS'>"
      ]
     },
     "execution_count": 22,
     "metadata": {},
     "output_type": "execute_result"
    },
    {
     "data": {
      "image/png": "[encoded data removed]",
      "text/plain": [
       "<Figure size 432x288 with 1 Axes>"
      ]
     },
     "metadata": {},
     "output_type": "display_data"
    }
   ],
   "source": [
    "sns.boxplot(x =\"Risk_Flag\",y=\"CURRENT_HOUSE_YRS\" ,data = data)"
   ]
  },
  {
   "cell_type": "code",
   "execution_count": 23,
   "id": "46f499da",
   "metadata": {
    "execution": {
     "iopub.execute_input": "2024-08-21T05:49:39.852578Z",
     "iopub.status.busy": "2024-08-21T05:49:39.834824Z",
     "iopub.status.idle": "2024-08-21T05:49:40.500853Z",
     "shell.execute_reply": "2024-08-21T05:49:40.500084Z",
     "shell.execute_reply.started": "2024-08-21T05:06:16.591713Z"
    },
    "papermill": {
     "duration": 0.842938,
     "end_time": "2024-08-21T05:49:40.501019",
     "exception": false,
     "start_time": "2024-08-21T05:49:39.658081",
     "status": "completed"
    },
    "tags": []
   },
   "outputs": [
    {
     "data": {
      "text/plain": [
       "<AxesSubplot:xlabel='House_Ownership', ylabel='count'>"
      ]
     },
     "execution_count": 23,
     "metadata": {},
     "output_type": "execute_result"
    },
    {
     "data": {
      "image/png": "[encoded data removed]",
      "text/plain": [
       "<Figure size 576x432 with 1 Axes>"
      ]
     },
     "metadata": {},
     "output_type": "display_data"
    }
   ],
   "source": [
    "fig, ax = plt.subplots( figsize = (8, 6) )\n",
    "sns.countplot(x='House_Ownership', hue='Risk_Flag', ax=ax, data=data)"
   ]
  },
  {
   "cell_type": "code",
   "execution_count": 24,
   "id": "ff6906c9",
   "metadata": {
    "execution": {
     "iopub.execute_input": "2024-08-21T05:49:40.756249Z",
     "iopub.status.busy": "2024-08-21T05:49:40.755398Z",
     "iopub.status.idle": "2024-08-21T05:49:41.426487Z",
     "shell.execute_reply": "2024-08-21T05:49:41.425447Z",
     "shell.execute_reply.started": "2024-08-21T05:06:17.273822Z"
    },
    "papermill": {
     "duration": 0.803062,
     "end_time": "2024-08-21T05:49:41.426725",
     "exception": false,
     "start_time": "2024-08-21T05:49:40.623663",
     "status": "completed"
    },
    "tags": []
   },
   "outputs": [
    {
     "data": {
      "text/plain": [
       "<AxesSubplot:xlabel='Car_Ownership', ylabel='count'>"
      ]
     },
     "execution_count": 24,
     "metadata": {},
     "output_type": "execute_result"
    },
    {
     "data": {
      "image/png": "[encoded data removed]",
      "text/plain": [
       "<Figure size 576x432 with 1 Axes>"
      ]
     },
     "metadata": {},
     "output_type": "display_data"
    }
   ],
   "source": [
    "fig, ax = plt.subplots( figsize = (8,6) )\n",
    "sns.countplot(x='Car_Ownership', hue='Risk_Flag', ax=ax, data=data)"
   ]
  },
  {
   "cell_type": "code",
   "execution_count": 25,
   "id": "341bf730",
   "metadata": {
    "execution": {
     "iopub.execute_input": "2024-08-21T05:49:41.698118Z",
     "iopub.status.busy": "2024-08-21T05:49:41.688959Z",
     "iopub.status.idle": "2024-08-21T05:49:42.299138Z",
     "shell.execute_reply": "2024-08-21T05:49:42.298316Z",
     "shell.execute_reply.started": "2024-08-21T05:06:17.941261Z"
    },
    "papermill": {
     "duration": 0.750894,
     "end_time": "2024-08-21T05:49:42.299306",
     "exception": false,
     "start_time": "2024-08-21T05:49:41.548412",
     "status": "completed"
    },
    "tags": []
   },
   "outputs": [
    {
     "data": {
      "text/plain": [
       "<AxesSubplot:xlabel='Married/Single', ylabel='count'>"
      ]
     },
     "execution_count": 25,
     "metadata": {},
     "output_type": "execute_result"
    },
    {
     "data": {
      "image/png": "[encoded data removed]",
      "text/plain": [
       "<Figure size 576x432 with 1 Axes>"
      ]
     },
     "metadata": {},
     "output_type": "display_data"
    }
   ],
   "source": [
    "fig, ax = plt.subplots( figsize = (8,6) )\n",
    "sns.countplot( x='Married/Single', hue='Risk_Flag', data=data )"
   ]
  },
  {
   "cell_type": "code",
   "execution_count": 26,
   "id": "c5bb6c1c",
   "metadata": {
    "execution": {
     "iopub.execute_input": "2024-08-21T05:49:42.569804Z",
     "iopub.status.busy": "2024-08-21T05:49:42.569039Z",
     "iopub.status.idle": "2024-08-21T05:49:43.359142Z",
     "shell.execute_reply": "2024-08-21T05:49:43.358451Z",
     "shell.execute_reply.started": "2024-08-21T05:06:18.603508Z"
    },
    "papermill": {
     "duration": 0.936928,
     "end_time": "2024-08-21T05:49:43.359323",
     "exception": false,
     "start_time": "2024-08-21T05:49:42.422395",
     "status": "completed"
    },
    "tags": []
   },
   "outputs": [
    {
     "data": {
      "text/plain": [
       "<AxesSubplot:xlabel='Risk_Flag', ylabel='CURRENT_JOB_YRS'>"
      ]
     },
     "execution_count": 26,
     "metadata": {},
     "output_type": "execute_result"
    },
    {
     "data": {
      "image/png": "[encoded data removed]",
      "text/plain": [
       "<Figure size 720x576 with 1 Axes>"
      ]
     },
     "metadata": {},
     "output_type": "display_data"
    }
   ],
   "source": [
    "fig, ax = plt.subplots( figsize = (10,8) )\n",
    "sns.boxplot(x = \"Risk_Flag\", y = \"CURRENT_JOB_YRS\", hue='House_Ownership', data = data)"
   ]
  },
  {
   "cell_type": "markdown",
   "id": "063a440a",
   "metadata": {
    "papermill": {
     "duration": 0.132156,
     "end_time": "2024-08-21T05:49:43.624541",
     "exception": false,
     "start_time": "2024-08-21T05:49:43.492385",
     "status": "completed"
    },
    "tags": []
   },
   "source": [
    "# Feature Engineering"
   ]
  },
  {
   "cell_type": "markdown",
   "id": "fa0bd86d",
   "metadata": {
    "papermill": {
     "duration": 0.135234,
     "end_time": "2024-08-21T05:49:43.890206",
     "exception": false,
     "start_time": "2024-08-21T05:49:43.754972",
     "status": "completed"
    },
    "tags": []
   },
   "source": [
    "Se procesara a las variables categoricas de la siguiente manera:\n",
    "\n",
    "marital_status, car_ownership – binarise\n",
    "\n",
    "house_ownership – one-hot\n",
    "\n",
    "profession, city, state – target encoding"
   ]
  },
  {
   "cell_type": "code",
   "execution_count": 27,
   "id": "2efb60d0",
   "metadata": {
    "execution": {
     "iopub.execute_input": "2024-08-21T05:49:44.163801Z",
     "iopub.status.busy": "2024-08-21T05:49:44.163003Z",
     "iopub.status.idle": "2024-08-21T05:49:44.567853Z",
     "shell.execute_reply": "2024-08-21T05:49:44.567179Z",
     "shell.execute_reply.started": "2024-08-21T05:06:19.379757Z"
    },
    "papermill": {
     "duration": 0.540815,
     "end_time": "2024-08-21T05:49:44.568035",
     "exception": false,
     "start_time": "2024-08-21T05:49:44.027220",
     "status": "completed"
    },
    "tags": []
   },
   "outputs": [],
   "source": [
    "from sklearn.preprocessing import LabelEncoder\n",
    "from sklearn.preprocessing import OneHotEncoder\n",
    "import category_encoders as ce"
   ]
  },
  {
   "cell_type": "code",
   "execution_count": 28,
   "id": "0e0557aa",
   "metadata": {
    "execution": {
     "iopub.execute_input": "2024-08-21T05:49:45.011488Z",
     "iopub.status.busy": "2024-08-21T05:49:45.010629Z",
     "iopub.status.idle": "2024-08-21T05:49:45.027215Z",
     "shell.execute_reply": "2024-08-21T05:49:45.028106Z",
     "shell.execute_reply.started": "2024-08-21T05:06:19.785332Z"
    },
    "papermill": {
     "duration": 0.330744,
     "end_time": "2024-08-21T05:49:45.028335",
     "exception": false,
     "start_time": "2024-08-21T05:49:44.697591",
     "status": "completed"
    },
    "tags": []
   },
   "outputs": [
    {
     "name": "stdout",
     "output_type": "stream",
     "text": [
      "<class 'pandas.core.frame.DataFrame'>\n",
      "RangeIndex: 252000 entries, 0 to 251999\n",
      "Data columns (total 13 columns):\n",
      " #   Column             Non-Null Count   Dtype \n",
      "---  ------             --------------   ----- \n",
      " 0   Id                 252000 non-null  int64 \n",
      " 1   Income             252000 non-null  int64 \n",
      " 2   Age                252000 non-null  int64 \n",
      " 3   Experience         252000 non-null  int64 \n",
      " 4   Married/Single     252000 non-null  object\n",
      " 5   House_Ownership    252000 non-null  object\n",
      " 6   Car_Ownership      252000 non-null  object\n",
      " 7   Profession         252000 non-null  object\n",
      " 8   CITY               252000 non-null  object\n",
      " 9   STATE              252000 non-null  object\n",
      " 10  CURRENT_JOB_YRS    252000 non-null  int64 \n",
      " 11  CURRENT_HOUSE_YRS  252000 non-null  int64 \n",
      " 12  Risk_Flag          252000 non-null  int64 \n",
      "dtypes: int64(7), object(6)\n",
      "memory usage: 25.0+ MB\n"
     ]
    }
   ],
   "source": [
    "data.info()"
   ]
  },
  {
   "cell_type": "code",
   "execution_count": 29,
   "id": "888fb041",
   "metadata": {
    "execution": {
     "iopub.execute_input": "2024-08-21T05:49:45.318066Z",
     "iopub.status.busy": "2024-08-21T05:49:45.312402Z",
     "iopub.status.idle": "2024-08-21T05:49:45.521163Z",
     "shell.execute_reply": "2024-08-21T05:49:45.521806Z",
     "shell.execute_reply.started": "2024-08-21T05:06:19.975647Z"
    },
    "papermill": {
     "duration": 0.357799,
     "end_time": "2024-08-21T05:49:45.522015",
     "exception": false,
     "start_time": "2024-08-21T05:49:45.164216",
     "status": "completed"
    },
    "tags": []
   },
   "outputs": [],
   "source": [
    "label_encoder = LabelEncoder()\n",
    "\n",
    "for col in ['Married/Single','Car_Ownership']:\n",
    "    data[col] = label_encoder.fit_transform( data[col] )"
   ]
  },
  {
   "cell_type": "code",
   "execution_count": 30,
   "id": "d748c005",
   "metadata": {
    "execution": {
     "iopub.execute_input": "2024-08-21T05:49:45.813187Z",
     "iopub.status.busy": "2024-08-21T05:49:45.787938Z",
     "iopub.status.idle": "2024-08-21T05:49:45.911557Z",
     "shell.execute_reply": "2024-08-21T05:49:45.910944Z",
     "shell.execute_reply.started": "2024-08-21T05:06:20.192992Z"
    },
    "papermill": {
     "duration": 0.268057,
     "end_time": "2024-08-21T05:49:45.911734",
     "exception": false,
     "start_time": "2024-08-21T05:49:45.643677",
     "status": "completed"
    },
    "tags": []
   },
   "outputs": [],
   "source": [
    "onehot_encoder = OneHotEncoder(sparse = False)\n",
    "data['House_Ownership'] = onehot_encoder.fit_transform(data['House_Ownership'].values.reshape(-1, 1) )"
   ]
  },
  {
   "cell_type": "code",
   "execution_count": 31,
   "id": "56f712fa",
   "metadata": {
    "execution": {
     "iopub.execute_input": "2024-08-21T05:49:46.191969Z",
     "iopub.status.busy": "2024-08-21T05:49:46.190652Z",
     "iopub.status.idle": "2024-08-21T05:49:47.239044Z",
     "shell.execute_reply": "2024-08-21T05:49:47.238235Z",
     "shell.execute_reply.started": "2024-08-21T05:06:20.333300Z"
    },
    "papermill": {
     "duration": 1.201146,
     "end_time": "2024-08-21T05:49:47.239208",
     "exception": false,
     "start_time": "2024-08-21T05:49:46.038062",
     "status": "completed"
    },
    "tags": []
   },
   "outputs": [],
   "source": [
    "high_card_features = ['Profession', 'CITY', 'STATE']\n",
    "\n",
    "from category_encoders import CatBoostEncoder\n",
    "\n",
    "CBE_encoder = CatBoostEncoder()\n",
    "for col in high_card_features:\n",
    "    data[col] = CBE_encoder.fit_transform(data[col], data[\"Risk_Flag\"])\n",
    "\n",
    "\n",
    "\n",
    "##count_encoder = ce.CountEncoder()\n",
    "\n",
    "# Transform the features, rename the columns with the _count suffix, and join to dataframe\n",
    "##count_encoded = count_encoder.fit_transform( data[high_card_features] )\n",
    "##data = data.join(count_encoded.add_suffix(\"_count\"))"
   ]
  },
  {
   "cell_type": "code",
   "execution_count": 32,
   "id": "d0246ed2",
   "metadata": {
    "execution": {
     "iopub.execute_input": "2024-08-21T05:49:47.512123Z",
     "iopub.status.busy": "2024-08-21T05:49:47.505047Z",
     "iopub.status.idle": "2024-08-21T05:49:47.517386Z",
     "shell.execute_reply": "2024-08-21T05:49:47.518007Z",
     "shell.execute_reply.started": "2024-08-21T05:06:21.386501Z"
    },
    "papermill": {
     "duration": 0.152545,
     "end_time": "2024-08-21T05:49:47.518206",
     "exception": false,
     "start_time": "2024-08-21T05:49:47.365661",
     "status": "completed"
    },
    "tags": []
   },
   "outputs": [
    {
     "data": {
      "text/html": [
       "<div>\n",
       "<style scoped>\n",
       "    .dataframe tbody tr th:only-of-type {\n",
       "        vertical-align: middle;\n",
       "    }\n",
       "\n",
       "    .dataframe tbody tr th {\n",
       "        vertical-align: top;\n",
       "    }\n",
       "\n",
       "    .dataframe thead th {\n",
       "        text-align: right;\n",
       "    }\n",
       "</style>\n",
       "<table border=\"1\" class=\"dataframe\">\n",
       "  <thead>\n",
       "    <tr style=\"text-align: right;\">\n",
       "      <th></th>\n",
       "      <th>Id</th>\n",
       "      <th>Income</th>\n",
       "      <th>Age</th>\n",
       "      <th>Experience</th>\n",
       "      <th>Married/Single</th>\n",
       "      <th>House_Ownership</th>\n",
       "      <th>Car_Ownership</th>\n",
       "      <th>Profession</th>\n",
       "      <th>CITY</th>\n",
       "      <th>STATE</th>\n",
       "      <th>CURRENT_JOB_YRS</th>\n",
       "      <th>CURRENT_HOUSE_YRS</th>\n",
       "      <th>Risk_Flag</th>\n",
       "    </tr>\n",
       "  </thead>\n",
       "  <tbody>\n",
       "    <tr>\n",
       "      <th>0</th>\n",
       "      <td>1</td>\n",
       "      <td>1303834</td>\n",
       "      <td>23</td>\n",
       "      <td>3</td>\n",
       "      <td>1</td>\n",
       "      <td>0.0</td>\n",
       "      <td>0</td>\n",
       "      <td>0.1230</td>\n",
       "      <td>0.123</td>\n",
       "      <td>0.123</td>\n",
       "      <td>3</td>\n",
       "      <td>13</td>\n",
       "      <td>0</td>\n",
       "    </tr>\n",
       "    <tr>\n",
       "      <th>1</th>\n",
       "      <td>2</td>\n",
       "      <td>7574516</td>\n",
       "      <td>40</td>\n",
       "      <td>10</td>\n",
       "      <td>1</td>\n",
       "      <td>0.0</td>\n",
       "      <td>0</td>\n",
       "      <td>0.1230</td>\n",
       "      <td>0.123</td>\n",
       "      <td>0.123</td>\n",
       "      <td>9</td>\n",
       "      <td>13</td>\n",
       "      <td>0</td>\n",
       "    </tr>\n",
       "    <tr>\n",
       "      <th>2</th>\n",
       "      <td>3</td>\n",
       "      <td>3991815</td>\n",
       "      <td>66</td>\n",
       "      <td>4</td>\n",
       "      <td>0</td>\n",
       "      <td>0.0</td>\n",
       "      <td>0</td>\n",
       "      <td>0.1230</td>\n",
       "      <td>0.123</td>\n",
       "      <td>0.123</td>\n",
       "      <td>4</td>\n",
       "      <td>10</td>\n",
       "      <td>0</td>\n",
       "    </tr>\n",
       "    <tr>\n",
       "      <th>3</th>\n",
       "      <td>4</td>\n",
       "      <td>6256451</td>\n",
       "      <td>41</td>\n",
       "      <td>2</td>\n",
       "      <td>1</td>\n",
       "      <td>0.0</td>\n",
       "      <td>1</td>\n",
       "      <td>0.0615</td>\n",
       "      <td>0.123</td>\n",
       "      <td>0.123</td>\n",
       "      <td>2</td>\n",
       "      <td>12</td>\n",
       "      <td>1</td>\n",
       "    </tr>\n",
       "    <tr>\n",
       "      <th>4</th>\n",
       "      <td>5</td>\n",
       "      <td>5768871</td>\n",
       "      <td>47</td>\n",
       "      <td>11</td>\n",
       "      <td>1</td>\n",
       "      <td>0.0</td>\n",
       "      <td>0</td>\n",
       "      <td>0.1230</td>\n",
       "      <td>0.123</td>\n",
       "      <td>0.123</td>\n",
       "      <td>3</td>\n",
       "      <td>14</td>\n",
       "      <td>1</td>\n",
       "    </tr>\n",
       "  </tbody>\n",
       "</table>\n",
       "</div>"
      ],
      "text/plain": [
       "   Id   Income  Age  Experience  Married/Single  House_Ownership  \\\n",
       "0   1  1303834   23           3               1              0.0   \n",
       "1   2  7574516   40          10               1              0.0   \n",
       "2   3  3991815   66           4               0              0.0   \n",
       "3   4  6256451   41           2               1              0.0   \n",
       "4   5  5768871   47          11               1              0.0   \n",
       "\n",
       "   Car_Ownership  Profession   CITY  STATE  CURRENT_JOB_YRS  \\\n",
       "0              0      0.1230  0.123  0.123                3   \n",
       "1              0      0.1230  0.123  0.123                9   \n",
       "2              0      0.1230  0.123  0.123                4   \n",
       "3              1      0.0615  0.123  0.123                2   \n",
       "4              0      0.1230  0.123  0.123                3   \n",
       "\n",
       "   CURRENT_HOUSE_YRS  Risk_Flag  \n",
       "0                 13          0  \n",
       "1                 13          0  \n",
       "2                 10          0  \n",
       "3                 12          1  \n",
       "4                 14          1  "
      ]
     },
     "execution_count": 32,
     "metadata": {},
     "output_type": "execute_result"
    }
   ],
   "source": [
    "data.head()"
   ]
  },
  {
   "cell_type": "code",
   "execution_count": 33,
   "id": "a78b7778",
   "metadata": {
    "execution": {
     "iopub.execute_input": "2024-08-21T05:49:47.777671Z",
     "iopub.status.busy": "2024-08-21T05:49:47.776890Z",
     "iopub.status.idle": "2024-08-21T05:49:47.781078Z",
     "shell.execute_reply": "2024-08-21T05:49:47.779880Z",
     "shell.execute_reply.started": "2024-08-21T05:06:21.407506Z"
    },
    "papermill": {
     "duration": 0.13577,
     "end_time": "2024-08-21T05:49:47.781263",
     "exception": false,
     "start_time": "2024-08-21T05:49:47.645493",
     "status": "completed"
    },
    "tags": []
   },
   "outputs": [],
   "source": [
    "#data= data.drop(labels=['Profession', 'CITY', 'STATE'], axis=1)"
   ]
  },
  {
   "cell_type": "code",
   "execution_count": 34,
   "id": "42fdd360",
   "metadata": {
    "execution": {
     "iopub.execute_input": "2024-08-21T05:49:48.054351Z",
     "iopub.status.busy": "2024-08-21T05:49:48.053378Z",
     "iopub.status.idle": "2024-08-21T05:49:48.057594Z",
     "shell.execute_reply": "2024-08-21T05:49:48.058211Z",
     "shell.execute_reply.started": "2024-08-21T05:06:21.420413Z"
    },
    "papermill": {
     "duration": 0.149748,
     "end_time": "2024-08-21T05:49:48.058406",
     "exception": false,
     "start_time": "2024-08-21T05:49:47.908658",
     "status": "completed"
    },
    "tags": []
   },
   "outputs": [
    {
     "data": {
      "text/html": [
       "<div>\n",
       "<style scoped>\n",
       "    .dataframe tbody tr th:only-of-type {\n",
       "        vertical-align: middle;\n",
       "    }\n",
       "\n",
       "    .dataframe tbody tr th {\n",
       "        vertical-align: top;\n",
       "    }\n",
       "\n",
       "    .dataframe thead th {\n",
       "        text-align: right;\n",
       "    }\n",
       "</style>\n",
       "<table border=\"1\" class=\"dataframe\">\n",
       "  <thead>\n",
       "    <tr style=\"text-align: right;\">\n",
       "      <th></th>\n",
       "      <th>Id</th>\n",
       "      <th>Income</th>\n",
       "      <th>Age</th>\n",
       "      <th>Experience</th>\n",
       "      <th>Married/Single</th>\n",
       "      <th>House_Ownership</th>\n",
       "      <th>Car_Ownership</th>\n",
       "      <th>Profession</th>\n",
       "      <th>CITY</th>\n",
       "      <th>STATE</th>\n",
       "      <th>CURRENT_JOB_YRS</th>\n",
       "      <th>CURRENT_HOUSE_YRS</th>\n",
       "      <th>Risk_Flag</th>\n",
       "    </tr>\n",
       "  </thead>\n",
       "  <tbody>\n",
       "    <tr>\n",
       "      <th>0</th>\n",
       "      <td>1</td>\n",
       "      <td>1303834</td>\n",
       "      <td>23</td>\n",
       "      <td>3</td>\n",
       "      <td>1</td>\n",
       "      <td>0.0</td>\n",
       "      <td>0</td>\n",
       "      <td>0.1230</td>\n",
       "      <td>0.123</td>\n",
       "      <td>0.123</td>\n",
       "      <td>3</td>\n",
       "      <td>13</td>\n",
       "      <td>0</td>\n",
       "    </tr>\n",
       "    <tr>\n",
       "      <th>1</th>\n",
       "      <td>2</td>\n",
       "      <td>7574516</td>\n",
       "      <td>40</td>\n",
       "      <td>10</td>\n",
       "      <td>1</td>\n",
       "      <td>0.0</td>\n",
       "      <td>0</td>\n",
       "      <td>0.1230</td>\n",
       "      <td>0.123</td>\n",
       "      <td>0.123</td>\n",
       "      <td>9</td>\n",
       "      <td>13</td>\n",
       "      <td>0</td>\n",
       "    </tr>\n",
       "    <tr>\n",
       "      <th>2</th>\n",
       "      <td>3</td>\n",
       "      <td>3991815</td>\n",
       "      <td>66</td>\n",
       "      <td>4</td>\n",
       "      <td>0</td>\n",
       "      <td>0.0</td>\n",
       "      <td>0</td>\n",
       "      <td>0.1230</td>\n",
       "      <td>0.123</td>\n",
       "      <td>0.123</td>\n",
       "      <td>4</td>\n",
       "      <td>10</td>\n",
       "      <td>0</td>\n",
       "    </tr>\n",
       "    <tr>\n",
       "      <th>3</th>\n",
       "      <td>4</td>\n",
       "      <td>6256451</td>\n",
       "      <td>41</td>\n",
       "      <td>2</td>\n",
       "      <td>1</td>\n",
       "      <td>0.0</td>\n",
       "      <td>1</td>\n",
       "      <td>0.0615</td>\n",
       "      <td>0.123</td>\n",
       "      <td>0.123</td>\n",
       "      <td>2</td>\n",
       "      <td>12</td>\n",
       "      <td>1</td>\n",
       "    </tr>\n",
       "    <tr>\n",
       "      <th>4</th>\n",
       "      <td>5</td>\n",
       "      <td>5768871</td>\n",
       "      <td>47</td>\n",
       "      <td>11</td>\n",
       "      <td>1</td>\n",
       "      <td>0.0</td>\n",
       "      <td>0</td>\n",
       "      <td>0.1230</td>\n",
       "      <td>0.123</td>\n",
       "      <td>0.123</td>\n",
       "      <td>3</td>\n",
       "      <td>14</td>\n",
       "      <td>1</td>\n",
       "    </tr>\n",
       "  </tbody>\n",
       "</table>\n",
       "</div>"
      ],
      "text/plain": [
       "   Id   Income  Age  Experience  Married/Single  House_Ownership  \\\n",
       "0   1  1303834   23           3               1              0.0   \n",
       "1   2  7574516   40          10               1              0.0   \n",
       "2   3  3991815   66           4               0              0.0   \n",
       "3   4  6256451   41           2               1              0.0   \n",
       "4   5  5768871   47          11               1              0.0   \n",
       "\n",
       "   Car_Ownership  Profession   CITY  STATE  CURRENT_JOB_YRS  \\\n",
       "0              0      0.1230  0.123  0.123                3   \n",
       "1              0      0.1230  0.123  0.123                9   \n",
       "2              0      0.1230  0.123  0.123                4   \n",
       "3              1      0.0615  0.123  0.123                2   \n",
       "4              0      0.1230  0.123  0.123                3   \n",
       "\n",
       "   CURRENT_HOUSE_YRS  Risk_Flag  \n",
       "0                 13          0  \n",
       "1                 13          0  \n",
       "2                 10          0  \n",
       "3                 12          1  \n",
       "4                 14          1  "
      ]
     },
     "execution_count": 34,
     "metadata": {},
     "output_type": "execute_result"
    }
   ],
   "source": [
    "data.head()"
   ]
  },
  {
   "cell_type": "markdown",
   "id": "0dbe3754",
   "metadata": {
    "papermill": {
     "duration": 0.125699,
     "end_time": "2024-08-21T05:49:48.310656",
     "exception": false,
     "start_time": "2024-08-21T05:49:48.184957",
     "status": "completed"
    },
    "tags": []
   },
   "source": [
    "# Separar data en train y test"
   ]
  },
  {
   "cell_type": "code",
   "execution_count": 35,
   "id": "0197ab8e",
   "metadata": {
    "execution": {
     "iopub.execute_input": "2024-08-21T05:49:48.578447Z",
     "iopub.status.busy": "2024-08-21T05:49:48.576706Z",
     "iopub.status.idle": "2024-08-21T05:49:48.609704Z",
     "shell.execute_reply": "2024-08-21T05:49:48.608947Z",
     "shell.execute_reply.started": "2024-08-21T05:06:21.462707Z"
    },
    "papermill": {
     "duration": 0.169898,
     "end_time": "2024-08-21T05:49:48.609886",
     "exception": false,
     "start_time": "2024-08-21T05:49:48.439988",
     "status": "completed"
    },
    "tags": []
   },
   "outputs": [],
   "source": [
    "x = data.drop([\"Risk_Flag\",\"Id\"], axis=1)\n",
    "y = data[\"Risk_Flag\"]"
   ]
  },
  {
   "cell_type": "code",
   "execution_count": 36,
   "id": "bfe6cfed",
   "metadata": {
    "execution": {
     "iopub.execute_input": "2024-08-21T05:49:48.878013Z",
     "iopub.status.busy": "2024-08-21T05:49:48.877196Z",
     "iopub.status.idle": "2024-08-21T05:49:49.109770Z",
     "shell.execute_reply": "2024-08-21T05:49:49.108951Z",
     "shell.execute_reply.started": "2024-08-21T05:06:21.501087Z"
    },
    "papermill": {
     "duration": 0.370553,
     "end_time": "2024-08-21T05:49:49.109946",
     "exception": false,
     "start_time": "2024-08-21T05:49:48.739393",
     "status": "completed"
    },
    "tags": []
   },
   "outputs": [],
   "source": [
    "from sklearn.model_selection import train_test_split\n",
    "x_train, x_test, y_train, y_test = train_test_split(x, y, test_size = 0.2, stratify = y, random_state = 7)"
   ]
  },
  {
   "cell_type": "markdown",
   "id": "b99dd54a",
   "metadata": {
    "papermill": {
     "duration": 0.132093,
     "end_time": "2024-08-21T05:49:49.373108",
     "exception": false,
     "start_time": "2024-08-21T05:49:49.241015",
     "status": "completed"
    },
    "tags": []
   },
   "source": [
    "# Random Forest Classifier"
   ]
  },
  {
   "cell_type": "code",
   "execution_count": 37,
   "id": "5a592046",
   "metadata": {
    "execution": {
     "iopub.execute_input": "2024-08-21T05:49:49.627828Z",
     "iopub.status.busy": "2024-08-21T05:49:49.627027Z",
     "iopub.status.idle": "2024-08-21T05:49:50.033288Z",
     "shell.execute_reply": "2024-08-21T05:49:50.032596Z",
     "shell.execute_reply.started": "2024-08-21T05:06:21.730013Z"
    },
    "papermill": {
     "duration": 0.535869,
     "end_time": "2024-08-21T05:49:50.033453",
     "exception": false,
     "start_time": "2024-08-21T05:49:49.497584",
     "status": "completed"
    },
    "tags": []
   },
   "outputs": [],
   "source": [
    "from sklearn.ensemble import RandomForestClassifier\n",
    "from imblearn.over_sampling import SMOTE\n",
    "from imblearn.pipeline import Pipeline\n"
   ]
  },
  {
   "cell_type": "code",
   "execution_count": 38,
   "id": "04b13f66",
   "metadata": {
    "execution": {
     "iopub.execute_input": "2024-08-21T05:49:50.292113Z",
     "iopub.status.busy": "2024-08-21T05:49:50.291280Z",
     "iopub.status.idle": "2024-08-21T05:52:32.981962Z",
     "shell.execute_reply": "2024-08-21T05:52:32.981108Z",
     "shell.execute_reply.started": "2024-08-21T05:06:22.157502Z"
    },
    "papermill": {
     "duration": 162.821743,
     "end_time": "2024-08-21T05:52:32.982151",
     "exception": false,
     "start_time": "2024-08-21T05:49:50.160408",
     "status": "completed"
    },
    "tags": []
   },
   "outputs": [],
   "source": [
    "rf_clf = RandomForestClassifier(criterion='gini', bootstrap=True, random_state=100)\n",
    "\n",
    "smote_sampler = SMOTE(random_state=9)\n",
    "\n",
    "pipeline = Pipeline(steps = [['smote', smote_sampler],\n",
    "                             ['classifier', rf_clf]])\n",
    "\n",
    "pipeline.fit(x_train, y_train)\n",
    "\n",
    "y_pred = pipeline.predict(x_test)"
   ]
  },
  {
   "cell_type": "code",
   "execution_count": 39,
   "id": "44b13fa6",
   "metadata": {
    "execution": {
     "iopub.execute_input": "2024-08-21T05:52:33.253055Z",
     "iopub.status.busy": "2024-08-21T05:52:33.252078Z",
     "iopub.status.idle": "2024-08-21T05:52:33.326823Z",
     "shell.execute_reply": "2024-08-21T05:52:33.327447Z",
     "shell.execute_reply.started": "2024-08-21T05:08:59.268952Z"
    },
    "papermill": {
     "duration": 0.211229,
     "end_time": "2024-08-21T05:52:33.327656",
     "exception": false,
     "start_time": "2024-08-21T05:52:33.116427",
     "status": "completed"
    },
    "tags": []
   },
   "outputs": [
    {
     "name": "stdout",
     "output_type": "stream",
     "text": [
      "-------------------------TEST SCORES RF_CLF-----------------------\n",
      "Recall: 64.0103\n",
      "Precision: 49.1454\n",
      "F1-Score: 55.6015\n",
      "Accuracy score: 87.4266\n",
      "AUC Score: 77.3605\n"
     ]
    }
   ],
   "source": [
    "from sklearn.metrics import confusion_matrix, precision_score, recall_score, f1_score, accuracy_score, roc_auc_score\n",
    "\n",
    "print(\"-------------------------TEST SCORES RF_CLF-----------------------\") \n",
    "print(f\"Recall: { round(recall_score(y_test, y_pred)*100, 4) }\")\n",
    "print(f\"Precision: { round(precision_score(y_test, y_pred)*100, 4) }\")\n",
    "print(f\"F1-Score: { round(f1_score(y_test, y_pred)*100, 4) }\")\n",
    "print(f\"Accuracy score: { round(accuracy_score(y_test, y_pred)*100, 4) }\")\n",
    "print(f\"AUC Score: { round(roc_auc_score(y_test, y_pred)*100, 4) }\")"
   ]
  },
  {
   "cell_type": "markdown",
   "id": "4c544b92",
   "metadata": {
    "papermill": {
     "duration": 0.1311,
     "end_time": "2024-08-21T05:52:33.592933",
     "exception": false,
     "start_time": "2024-08-21T05:52:33.461833",
     "status": "completed"
    },
    "tags": []
   },
   "source": [
    "# Neural network"
   ]
  },
  {
   "cell_type": "code",
   "execution_count": 40,
   "id": "678b4625",
   "metadata": {
    "execution": {
     "iopub.execute_input": "2024-08-21T05:52:33.863345Z",
     "iopub.status.busy": "2024-08-21T05:52:33.862476Z",
     "iopub.status.idle": "2024-08-21T05:52:42Z",
     "shell.execute_reply": "2024-08-21T05:52:41.999193Z",
     "shell.execute_reply.started": "2024-08-21T05:08:59.346666Z"
    },
    "papermill": {
     "duration": 8.279692,
     "end_time": "2024-08-21T05:52:42.000166",
     "exception": false,
     "start_time": "2024-08-21T05:52:33.720474",
     "status": "completed"
    },
    "tags": []
   },
   "outputs": [],
   "source": [
    "from tensorflow import keras\n",
    "from tensorflow.keras import layers\n",
    "from tensorflow.keras import callbacks\n",
    "from tensorflow.keras import metrics\n",
    "\n",
    "from sklearn.preprocessing import StandardScaler\n",
    "\n",
    "num_cols = ['Income', 'Age', 'Experience','CURRENT_JOB_YRS', 'CURRENT_HOUSE_YRS']\n",
    "datann= data.copy()\n",
    "datann[num_cols] = StandardScaler().fit_transform(datann[num_cols].astype(float))\n",
    "x = datann.drop([\"Risk_Flag\",\"Id\"], axis=1)\n",
    "y = datann.Risk_Flag\n",
    "x_train, x_test, y_train, y_test = train_test_split(x, y, test_size = 0.3, stratify = y, random_state = 7)"
   ]
  },
  {
   "cell_type": "code",
   "execution_count": 41,
   "id": "e72d49aa",
   "metadata": {
    "execution": {
     "iopub.execute_input": "2024-08-21T05:52:42.278719Z",
     "iopub.status.busy": "2024-08-21T05:52:42.276015Z",
     "iopub.status.idle": "2024-08-21T05:52:42.283722Z",
     "shell.execute_reply": "2024-08-21T05:52:42.283068Z",
     "shell.execute_reply.started": "2024-08-21T05:09:06.919383Z"
    },
    "papermill": {
     "duration": 0.151672,
     "end_time": "2024-08-21T05:52:42.283933",
     "exception": false,
     "start_time": "2024-08-21T05:52:42.132261",
     "status": "completed"
    },
    "tags": []
   },
   "outputs": [
    {
     "data": {
      "text/plain": [
       "<bound method NDFrame.head of           Income       Age  Experience  Married/Single  House_Ownership  \\\n",
       "208660  0.193503  1.174762   -1.513422               1              0.0   \n",
       "84514   0.854949 -0.583344   -1.346827               1              0.0   \n",
       "24152   1.735402 -0.583344    0.652314               0              0.0   \n",
       "218055 -0.094477 -0.524740    1.651884               1              0.0   \n",
       "225640 -0.439666 -1.462396   -1.346827               0              0.0   \n",
       "...          ...       ...         ...             ...              ...   \n",
       "43125   0.666649  0.823141   -1.680018               1              0.0   \n",
       "248640 -0.788137  0.998951    0.652314               1              0.0   \n",
       "118417  1.400927  1.291969   -0.680447               1              0.0   \n",
       "110176 -0.837462  0.002692   -0.680447               1              0.0   \n",
       "238347 -1.129867  1.643590   -1.346827               1              0.0   \n",
       "\n",
       "        Car_Ownership  Profession      CITY     STATE  CURRENT_JOB_YRS  \\\n",
       "208660              0    0.091550  0.122612  0.128679        -1.462520   \n",
       "84514               0    0.163289  0.055168  0.097710        -1.188325   \n",
       "24152               0    0.131924  0.079288  0.120433        -0.914131   \n",
       "218055              0    0.100627  0.161838  0.105612         1.827814   \n",
       "225640              0    0.109298  0.045267  0.108566        -1.188325   \n",
       "...               ...         ...       ...       ...              ...   \n",
       "43125               0    0.107116  0.111915  0.126792        -1.736714   \n",
       "248640              0    0.129705  0.114859  0.116568         1.827814   \n",
       "118417              1    0.099876  0.144056  0.164333        -0.091547   \n",
       "110176              0    0.144548  0.096976  0.123486        -0.091547   \n",
       "238347              0    0.130392  0.134993  0.130142        -1.188325   \n",
       "\n",
       "        CURRENT_HOUSE_YRS  \n",
       "208660          -0.713202  \n",
       "84514            0.716356  \n",
       "24152            0.716356  \n",
       "218055          -1.427981  \n",
       "225640           0.716356  \n",
       "...                   ...  \n",
       "43125            0.001577  \n",
       "248640           0.001577  \n",
       "118417           1.431135  \n",
       "110176          -1.427981  \n",
       "238347          -1.427981  \n",
       "\n",
       "[176400 rows x 11 columns]>"
      ]
     },
     "execution_count": 41,
     "metadata": {},
     "output_type": "execute_result"
    }
   ],
   "source": [
    "x_train.head\n"
   ]
  },
  {
   "cell_type": "code",
   "execution_count": 42,
   "id": "a86b5b3a",
   "metadata": {
    "execution": {
     "iopub.execute_input": "2024-08-21T05:52:42.555363Z",
     "iopub.status.busy": "2024-08-21T05:52:42.554271Z",
     "iopub.status.idle": "2024-08-21T05:52:42.557829Z",
     "shell.execute_reply": "2024-08-21T05:52:42.558840Z",
     "shell.execute_reply.started": "2024-08-21T05:09:06.941753Z"
    },
    "papermill": {
     "duration": 0.14396,
     "end_time": "2024-08-21T05:52:42.559094",
     "exception": false,
     "start_time": "2024-08-21T05:52:42.415134",
     "status": "completed"
    },
    "tags": []
   },
   "outputs": [],
   "source": [
    "def create_model(learning_rate, METRICS):\n",
    "    model = keras.Sequential([\n",
    "    layers.BatchNormalization(input_shape=input_shape),\n",
    "    layers.Dense(64, activation='relu'),\n",
    "    layers.BatchNormalization(),\n",
    "    layers.Dropout(rate=0.4),\n",
    "    layers.Dense(128, activation='relu'),\n",
    "    layers.BatchNormalization(),\n",
    "    layers.Dropout(rate=0.4),\n",
    "    layers.Dense(128, activation='relu'),\n",
    "    layers.BatchNormalization(),\n",
    "    layers.Dropout(rate=0.4),\n",
    "    layers.Dense(1, activation = \"sigmoid\")])\n",
    "    \n",
    "    model.compile(\n",
    "    optimizer=keras.optimizers.RMSprop(learning_rate=learning_rate),\n",
    "    loss='binary_crossentropy',\n",
    "    metrics=METRICS,\n",
    "    )\n",
    "    return model\n",
    "\n",
    "def train_model(model,x_train, x_test, y_train, y_test, epochs):\n",
    "    history = model.fit(\n",
    "    x_train, y_train,\n",
    "    validation_data=(x_test, y_test),\n",
    "    batch_size=1024,\n",
    "    epochs=epochs,\n",
    "    callbacks=[early_stopping,ReduceLROnPlateau])\n",
    "    \n",
    "    epochs = history.epoch\n",
    "    \n",
    "    hist = pd.DataFrame(history.history)\n",
    "    return epochs, hist\n",
    "\n"
   ]
  },
  {
   "cell_type": "code",
   "execution_count": 43,
   "id": "3937a777",
   "metadata": {
    "execution": {
     "iopub.execute_input": "2024-08-21T05:52:42.849829Z",
     "iopub.status.busy": "2024-08-21T05:52:42.847788Z",
     "iopub.status.idle": "2024-08-21T05:52:42.852618Z",
     "shell.execute_reply": "2024-08-21T05:52:42.851594Z",
     "shell.execute_reply.started": "2024-08-21T05:09:06.960768Z"
    },
    "papermill": {
     "duration": 0.160615,
     "end_time": "2024-08-21T05:52:42.852886",
     "exception": false,
     "start_time": "2024-08-21T05:52:42.692271",
     "status": "completed"
    },
    "tags": []
   },
   "outputs": [],
   "source": [
    "early_stopping = callbacks.EarlyStopping(\n",
    "    monitor = \"AUC\",\n",
    "    mode = \"max\",\n",
    "    patience = 8,\n",
    "    min_delta=0.001,\n",
    "    restore_best_weights=True,\n",
    ")\n",
    "ReduceLROnPlateau = callbacks.ReduceLROnPlateau(\n",
    "    monitor=\"AUC\",\n",
    "    patience = 8)"
   ]
  },
  {
   "cell_type": "code",
   "execution_count": 44,
   "id": "c283be30",
   "metadata": {
    "_kg_hide-output": true,
    "execution": {
     "iopub.execute_input": "2024-08-21T05:52:43.123519Z",
     "iopub.status.busy": "2024-08-21T05:52:43.122425Z",
     "iopub.status.idle": "2024-08-21T05:59:01.427280Z",
     "shell.execute_reply": "2024-08-21T05:59:01.426560Z",
     "shell.execute_reply.started": "2024-08-21T05:09:06.980572Z"
    },
    "papermill": {
     "duration": 378.443932,
     "end_time": "2024-08-21T05:59:01.427465",
     "exception": false,
     "start_time": "2024-08-21T05:52:42.983533",
     "status": "completed"
    },
    "tags": []
   },
   "outputs": [
    {
     "name": "stdout",
     "output_type": "stream",
     "text": [
      "Epoch 1/100\n",
      "173/173 [==============================] - 8s 27ms/step - loss: 0.4049 - accuracy: 0.6378 - precision: 0.1568 - recall: 0.4443 - auc: 0.5782 - val_loss: 0.3704 - val_accuracy: 0.8743 - val_precision: 0.2176 - val_recall: 0.0085 - val_auc: 0.5717\n",
      "Epoch 2/100\n",
      "173/173 [==============================] - 4s 21ms/step - loss: 0.3655 - accuracy: 0.7236 - precision: 0.1876 - recall: 0.3745 - auc: 0.6169 - val_loss: 0.3657 - val_accuracy: 0.7308 - val_precision: 0.1852 - val_recall: 0.3495 - val_auc: 0.6062\n",
      "Epoch 3/100\n",
      "173/173 [==============================] - 4s 22ms/step - loss: 0.3626 - accuracy: 0.7296 - precision: 0.1933 - recall: 0.3778 - auc: 0.6250 - val_loss: 0.3771 - val_accuracy: 0.3944 - val_precision: 0.1452 - val_recall: 0.8029 - val_auc: 0.6266\n",
      "Epoch 4/100\n",
      "173/173 [==============================] - 4s 22ms/step - loss: 0.3611 - accuracy: 0.7310 - precision: 0.1975 - recall: 0.3874 - auc: 0.6312 - val_loss: 0.3628 - val_accuracy: 0.7702 - val_precision: 0.2085 - val_recall: 0.3106 - val_auc: 0.6328\n",
      "Epoch 5/100\n",
      "173/173 [==============================] - 4s 20ms/step - loss: 0.3605 - accuracy: 0.7403 - precision: 0.2017 - recall: 0.3759 - auc: 0.6321 - val_loss: 0.3587 - val_accuracy: 0.7383 - val_precision: 0.2046 - val_recall: 0.3904 - val_auc: 0.6407\n",
      "Epoch 6/100\n",
      "173/173 [==============================] - 4s 21ms/step - loss: 0.3595 - accuracy: 0.7345 - precision: 0.2027 - recall: 0.3948 - auc: 0.6375 - val_loss: 0.3586 - val_accuracy: 0.7335 - val_precision: 0.2035 - val_recall: 0.4003 - val_auc: 0.6434\n",
      "Epoch 7/100\n",
      "173/173 [==============================] - 4s 25ms/step - loss: 0.3586 - accuracy: 0.7398 - precision: 0.2071 - recall: 0.3944 - auc: 0.6416 - val_loss: 0.3601 - val_accuracy: 0.6597 - val_precision: 0.1876 - val_recall: 0.5306 - val_auc: 0.6463\n",
      "Epoch 8/100\n",
      "173/173 [==============================] - 4s 22ms/step - loss: 0.3582 - accuracy: 0.7393 - precision: 0.2083 - recall: 0.3998 - auc: 0.6444 - val_loss: 0.3608 - val_accuracy: 0.6767 - val_precision: 0.1911 - val_recall: 0.5035 - val_auc: 0.6491\n",
      "Epoch 9/100\n",
      "173/173 [==============================] - 4s 23ms/step - loss: 0.3575 - accuracy: 0.7397 - precision: 0.2080 - recall: 0.3974 - auc: 0.6461 - val_loss: 0.3571 - val_accuracy: 0.7507 - val_precision: 0.2100 - val_recall: 0.3720 - val_auc: 0.6517\n",
      "Epoch 10/100\n",
      "173/173 [==============================] - 4s 21ms/step - loss: 0.3574 - accuracy: 0.7364 - precision: 0.2077 - recall: 0.4062 - auc: 0.6481 - val_loss: 0.3566 - val_accuracy: 0.7040 - val_precision: 0.2000 - val_recall: 0.4689 - val_auc: 0.6537\n",
      "Epoch 11/100\n",
      "173/173 [==============================] - 4s 22ms/step - loss: 0.3569 - accuracy: 0.7386 - precision: 0.2111 - recall: 0.4110 - auc: 0.6496 - val_loss: 0.3563 - val_accuracy: 0.7654 - val_precision: 0.2200 - val_recall: 0.3564 - val_auc: 0.6578\n",
      "Epoch 12/100\n",
      "173/173 [==============================] - 4s 23ms/step - loss: 0.3563 - accuracy: 0.7411 - precision: 0.2113 - recall: 0.4042 - auc: 0.6522 - val_loss: 0.3568 - val_accuracy: 0.7550 - val_precision: 0.2143 - val_recall: 0.3721 - val_auc: 0.6578\n",
      "Epoch 13/100\n",
      "173/173 [==============================] - 4s 21ms/step - loss: 0.3561 - accuracy: 0.7408 - precision: 0.2122 - recall: 0.4084 - auc: 0.6526 - val_loss: 0.3573 - val_accuracy: 0.7728 - val_precision: 0.2233 - val_recall: 0.3419 - val_auc: 0.6601\n",
      "Epoch 14/100\n",
      "173/173 [==============================] - 4s 22ms/step - loss: 0.3556 - accuracy: 0.7412 - precision: 0.2127 - recall: 0.4087 - auc: 0.6545 - val_loss: 0.3543 - val_accuracy: 0.7305 - val_precision: 0.2103 - val_recall: 0.4321 - val_auc: 0.6619\n",
      "Epoch 15/100\n",
      "173/173 [==============================] - 5s 26ms/step - loss: 0.3553 - accuracy: 0.7415 - precision: 0.2128 - recall: 0.4083 - auc: 0.6562 - val_loss: 0.3561 - val_accuracy: 0.7947 - val_precision: 0.2386 - val_recall: 0.3051 - val_auc: 0.6626\n",
      "Epoch 16/100\n",
      "173/173 [==============================] - 4s 21ms/step - loss: 0.3551 - accuracy: 0.7453 - precision: 0.2164 - recall: 0.4084 - auc: 0.6572 - val_loss: 0.3534 - val_accuracy: 0.7267 - val_precision: 0.2116 - val_recall: 0.4483 - val_auc: 0.6658\n",
      "Epoch 17/100\n",
      "173/173 [==============================] - 3s 20ms/step - loss: 0.3554 - accuracy: 0.7434 - precision: 0.2137 - recall: 0.4055 - auc: 0.6566 - val_loss: 0.3528 - val_accuracy: 0.7491 - val_precision: 0.2216 - val_recall: 0.4139 - val_auc: 0.6677\n",
      "Epoch 18/100\n",
      "173/173 [==============================] - 3s 20ms/step - loss: 0.3548 - accuracy: 0.7414 - precision: 0.2141 - recall: 0.4126 - auc: 0.6587 - val_loss: 0.3532 - val_accuracy: 0.7685 - val_precision: 0.2297 - val_recall: 0.3751 - val_auc: 0.6674\n",
      "Epoch 19/100\n",
      "173/173 [==============================] - 4s 20ms/step - loss: 0.3546 - accuracy: 0.7452 - precision: 0.2153 - recall: 0.4052 - auc: 0.6589 - val_loss: 0.3525 - val_accuracy: 0.7258 - val_precision: 0.2122 - val_recall: 0.4533 - val_auc: 0.6687\n",
      "Epoch 20/100\n",
      "173/173 [==============================] - 4s 20ms/step - loss: 0.3543 - accuracy: 0.7424 - precision: 0.2160 - recall: 0.4162 - auc: 0.6613 - val_loss: 0.3528 - val_accuracy: 0.7422 - val_precision: 0.2164 - val_recall: 0.4181 - val_auc: 0.6689\n",
      "Epoch 21/100\n",
      "173/173 [==============================] - 4s 20ms/step - loss: 0.3542 - accuracy: 0.7459 - precision: 0.2184 - recall: 0.4133 - auc: 0.6607 - val_loss: 0.3518 - val_accuracy: 0.7642 - val_precision: 0.2294 - val_recall: 0.3886 - val_auc: 0.6730\n",
      "Epoch 22/100\n",
      "173/173 [==============================] - 4s 21ms/step - loss: 0.3540 - accuracy: 0.7459 - precision: 0.2174 - recall: 0.4102 - auc: 0.6616 - val_loss: 0.3529 - val_accuracy: 0.7910 - val_precision: 0.2446 - val_recall: 0.3348 - val_auc: 0.6702\n",
      "Epoch 23/100\n",
      "173/173 [==============================] - 3s 20ms/step - loss: 0.3539 - accuracy: 0.7486 - precision: 0.2203 - recall: 0.4110 - auc: 0.6616 - val_loss: 0.3517 - val_accuracy: 0.7531 - val_precision: 0.2264 - val_recall: 0.4170 - val_auc: 0.6751\n",
      "Epoch 24/100\n",
      "173/173 [==============================] - 5s 26ms/step - loss: 0.3532 - accuracy: 0.7506 - precision: 0.2218 - recall: 0.4097 - auc: 0.6640 - val_loss: 0.3525 - val_accuracy: 0.7804 - val_precision: 0.2376 - val_recall: 0.3553 - val_auc: 0.6731\n",
      "Epoch 25/100\n",
      "173/173 [==============================] - 4s 21ms/step - loss: 0.3532 - accuracy: 0.7502 - precision: 0.2218 - recall: 0.4113 - auc: 0.6644 - val_loss: 0.3523 - val_accuracy: 0.7444 - val_precision: 0.2205 - val_recall: 0.4253 - val_auc: 0.6722\n",
      "Epoch 26/100\n",
      "173/173 [==============================] - 3s 19ms/step - loss: 0.3534 - accuracy: 0.7544 - precision: 0.2256 - recall: 0.4098 - auc: 0.6648 - val_loss: 0.3512 - val_accuracy: 0.7470 - val_precision: 0.2233 - val_recall: 0.4266 - val_auc: 0.6726\n",
      "Epoch 27/100\n",
      "173/173 [==============================] - 3s 20ms/step - loss: 0.3531 - accuracy: 0.7470 - precision: 0.2203 - recall: 0.4163 - auc: 0.6650 - val_loss: 0.3503 - val_accuracy: 0.7931 - val_precision: 0.2530 - val_recall: 0.3493 - val_auc: 0.6823\n",
      "Epoch 28/100\n",
      "173/173 [==============================] - 4s 21ms/step - loss: 0.3528 - accuracy: 0.7549 - precision: 0.2250 - recall: 0.4060 - auc: 0.6663 - val_loss: 0.3510 - val_accuracy: 0.7972 - val_precision: 0.2543 - val_recall: 0.3360 - val_auc: 0.6790\n",
      "Epoch 29/100\n",
      "173/173 [==============================] - 4s 20ms/step - loss: 0.3527 - accuracy: 0.7528 - precision: 0.2243 - recall: 0.4108 - auc: 0.6670 - val_loss: 0.3499 - val_accuracy: 0.7581 - val_precision: 0.2325 - val_recall: 0.4199 - val_auc: 0.6790\n",
      "Epoch 30/100\n",
      "173/173 [==============================] - 4s 21ms/step - loss: 0.3524 - accuracy: 0.7520 - precision: 0.2229 - recall: 0.4088 - auc: 0.6667 - val_loss: 0.3496 - val_accuracy: 0.7628 - val_precision: 0.2366 - val_recall: 0.4170 - val_auc: 0.6819\n",
      "Epoch 31/100\n",
      "173/173 [==============================] - 4s 21ms/step - loss: 0.3525 - accuracy: 0.7561 - precision: 0.2252 - recall: 0.4029 - auc: 0.6657 - val_loss: 0.3503 - val_accuracy: 0.7944 - val_precision: 0.2569 - val_recall: 0.3549 - val_auc: 0.6798\n",
      "Epoch 32/100\n",
      "173/173 [==============================] - 5s 27ms/step - loss: 0.3525 - accuracy: 0.7531 - precision: 0.2239 - recall: 0.4084 - auc: 0.6669 - val_loss: 0.3494 - val_accuracy: 0.7451 - val_precision: 0.2256 - val_recall: 0.4409 - val_auc: 0.6799\n",
      "Epoch 33/100\n",
      "173/173 [==============================] - 3s 20ms/step - loss: 0.3521 - accuracy: 0.7549 - precision: 0.2261 - recall: 0.4096 - auc: 0.6689 - val_loss: 0.3499 - val_accuracy: 0.7599 - val_precision: 0.2328 - val_recall: 0.4145 - val_auc: 0.6801\n",
      "Epoch 34/100\n",
      "173/173 [==============================] - 4s 20ms/step - loss: 0.3521 - accuracy: 0.7581 - precision: 0.2295 - recall: 0.4100 - auc: 0.6683 - val_loss: 0.3498 - val_accuracy: 0.7450 - val_precision: 0.2233 - val_recall: 0.4329 - val_auc: 0.6774\n",
      "Epoch 35/100\n",
      "173/173 [==============================] - 3s 20ms/step - loss: 0.3514 - accuracy: 0.7532 - precision: 0.2268 - recall: 0.4178 - auc: 0.6713 - val_loss: 0.3493 - val_accuracy: 0.7788 - val_precision: 0.2457 - val_recall: 0.3855 - val_auc: 0.6824\n",
      "Epoch 36/100\n",
      "173/173 [==============================] - 4s 22ms/step - loss: 0.3519 - accuracy: 0.7540 - precision: 0.2261 - recall: 0.4128 - auc: 0.6692 - val_loss: 0.3489 - val_accuracy: 0.7600 - val_precision: 0.2342 - val_recall: 0.4190 - val_auc: 0.6834\n",
      "Epoch 37/100\n",
      "173/173 [==============================] - 4s 23ms/step - loss: 0.3520 - accuracy: 0.7553 - precision: 0.2267 - recall: 0.4104 - auc: 0.6682 - val_loss: 0.3492 - val_accuracy: 0.7908 - val_precision: 0.2534 - val_recall: 0.3603 - val_auc: 0.6846\n",
      "Epoch 38/100\n",
      "173/173 [==============================] - 4s 24ms/step - loss: 0.3513 - accuracy: 0.7507 - precision: 0.2256 - recall: 0.4221 - auc: 0.6714 - val_loss: 0.3487 - val_accuracy: 0.8028 - val_precision: 0.2652 - val_recall: 0.3405 - val_auc: 0.6875\n",
      "Epoch 39/100\n",
      "173/173 [==============================] - 4s 24ms/step - loss: 0.3515 - accuracy: 0.7499 - precision: 0.2235 - recall: 0.4175 - auc: 0.6710 - val_loss: 0.3487 - val_accuracy: 0.7732 - val_precision: 0.2401 - val_recall: 0.3897 - val_auc: 0.6843\n",
      "Epoch 40/100\n",
      "173/173 [==============================] - 5s 29ms/step - loss: 0.3515 - accuracy: 0.7557 - precision: 0.2266 - recall: 0.4089 - auc: 0.6701 - val_loss: 0.3474 - val_accuracy: 0.7429 - val_precision: 0.2285 - val_recall: 0.4589 - val_auc: 0.6878\n",
      "Epoch 41/100\n",
      "173/173 [==============================] - 4s 23ms/step - loss: 0.3514 - accuracy: 0.7516 - precision: 0.2261 - recall: 0.4207 - auc: 0.6712 - val_loss: 0.3476 - val_accuracy: 0.7170 - val_precision: 0.2198 - val_recall: 0.5101 - val_auc: 0.6879\n",
      "Epoch 42/100\n",
      "173/173 [==============================] - 3s 20ms/step - loss: 0.3514 - accuracy: 0.7520 - precision: 0.2260 - recall: 0.4193 - auc: 0.6711 - val_loss: 0.3475 - val_accuracy: 0.7370 - val_precision: 0.2281 - val_recall: 0.4773 - val_auc: 0.6891\n",
      "Epoch 43/100\n",
      "173/173 [==============================] - 4s 22ms/step - loss: 0.3508 - accuracy: 0.7524 - precision: 0.2274 - recall: 0.4224 - auc: 0.6729 - val_loss: 0.3481 - val_accuracy: 0.7481 - val_precision: 0.2302 - val_recall: 0.4470 - val_auc: 0.6859\n",
      "Epoch 44/100\n",
      "173/173 [==============================] - 4s 23ms/step - loss: 0.3506 - accuracy: 0.7540 - precision: 0.2287 - recall: 0.4215 - auc: 0.6729 - val_loss: 0.3484 - val_accuracy: 0.8027 - val_precision: 0.2673 - val_recall: 0.3469 - val_auc: 0.6870\n",
      "Epoch 45/100\n",
      "173/173 [==============================] - 4s 22ms/step - loss: 0.3508 - accuracy: 0.7536 - precision: 0.2274 - recall: 0.4184 - auc: 0.6733 - val_loss: 0.3480 - val_accuracy: 0.7566 - val_precision: 0.2338 - val_recall: 0.4298 - val_auc: 0.6849\n",
      "Epoch 46/100\n",
      "173/173 [==============================] - 4s 22ms/step - loss: 0.3511 - accuracy: 0.7537 - precision: 0.2277 - recall: 0.4191 - auc: 0.6725 - val_loss: 0.3488 - val_accuracy: 0.8154 - val_precision: 0.2784 - val_recall: 0.3145 - val_auc: 0.6892\n",
      "Epoch 47/100\n",
      "173/173 [==============================] - 4s 22ms/step - loss: 0.3510 - accuracy: 0.7586 - precision: 0.2292 - recall: 0.4076 - auc: 0.6720 - val_loss: 0.3467 - val_accuracy: 0.7722 - val_precision: 0.2446 - val_recall: 0.4080 - val_auc: 0.6913\n",
      "Epoch 48/100\n",
      "173/173 [==============================] - 4s 22ms/step - loss: 0.3509 - accuracy: 0.7545 - precision: 0.2284 - recall: 0.4191 - auc: 0.6735 - val_loss: 0.3474 - val_accuracy: 0.7357 - val_precision: 0.2245 - val_recall: 0.4682 - val_auc: 0.6876\n",
      "Epoch 49/100\n",
      "173/173 [==============================] - 5s 27ms/step - loss: 0.3508 - accuracy: 0.7511 - precision: 0.2271 - recall: 0.4258 - auc: 0.6738 - val_loss: 0.3479 - val_accuracy: 0.7891 - val_precision: 0.2554 - val_recall: 0.3729 - val_auc: 0.6863\n",
      "Epoch 50/100\n",
      "173/173 [==============================] - 3s 20ms/step - loss: 0.3510 - accuracy: 0.7544 - precision: 0.2277 - recall: 0.4167 - auc: 0.6722 - val_loss: 0.3513 - val_accuracy: 0.8193 - val_precision: 0.2803 - val_recall: 0.2993 - val_auc: 0.6842\n",
      "Epoch 51/100\n",
      "173/173 [==============================] - 4s 21ms/step - loss: 0.3507 - accuracy: 0.7534 - precision: 0.2281 - recall: 0.4213 - auc: 0.6742 - val_loss: 0.3478 - val_accuracy: 0.7572 - val_precision: 0.2351 - val_recall: 0.4323 - val_auc: 0.6881\n",
      "Epoch 52/100\n",
      "173/173 [==============================] - 4s 21ms/step - loss: 0.3502 - accuracy: 0.7499 - precision: 0.2274 - recall: 0.4308 - auc: 0.6757 - val_loss: 0.3470 - val_accuracy: 0.7861 - val_precision: 0.2549 - val_recall: 0.3844 - val_auc: 0.6909\n",
      "Epoch 53/100\n",
      "173/173 [==============================] - 4s 20ms/step - loss: 0.3508 - accuracy: 0.7519 - precision: 0.2258 - recall: 0.4190 - auc: 0.6731 - val_loss: 0.3459 - val_accuracy: 0.7597 - val_precision: 0.2403 - val_recall: 0.4409 - val_auc: 0.6947\n",
      "Epoch 54/100\n",
      "173/173 [==============================] - 4s 21ms/step - loss: 0.3512 - accuracy: 0.7543 - precision: 0.2275 - recall: 0.4164 - auc: 0.6717 - val_loss: 0.3470 - val_accuracy: 0.7106 - val_precision: 0.2168 - val_recall: 0.5180 - val_auc: 0.6898\n",
      "Epoch 55/100\n",
      "173/173 [==============================] - 4s 21ms/step - loss: 0.3509 - accuracy: 0.7532 - precision: 0.2272 - recall: 0.4191 - auc: 0.6728 - val_loss: 0.3470 - val_accuracy: 0.7799 - val_precision: 0.2484 - val_recall: 0.3897 - val_auc: 0.6879\n",
      "Epoch 56/100\n",
      "173/173 [==============================] - 4s 22ms/step - loss: 0.3503 - accuracy: 0.7517 - precision: 0.2288 - recall: 0.4296 - auc: 0.6751 - val_loss: 0.3468 - val_accuracy: 0.7716 - val_precision: 0.2449 - val_recall: 0.4114 - val_auc: 0.6901\n",
      "Epoch 57/100\n",
      "173/173 [==============================] - 5s 28ms/step - loss: 0.3503 - accuracy: 0.7567 - precision: 0.2294 - recall: 0.4144 - auc: 0.6744 - val_loss: 0.3460 - val_accuracy: 0.7866 - val_precision: 0.2579 - val_recall: 0.3915 - val_auc: 0.6942\n",
      "Epoch 58/100\n",
      "173/173 [==============================] - 3s 20ms/step - loss: 0.3501 - accuracy: 0.7521 - precision: 0.2282 - recall: 0.4264 - auc: 0.6754 - val_loss: 0.3465 - val_accuracy: 0.7472 - val_precision: 0.2331 - val_recall: 0.4608 - val_auc: 0.6919\n",
      "Epoch 59/100\n",
      "173/173 [==============================] - 4s 23ms/step - loss: 0.3504 - accuracy: 0.7519 - precision: 0.2271 - recall: 0.4231 - auc: 0.6743 - val_loss: 0.3460 - val_accuracy: 0.7591 - val_precision: 0.2371 - val_recall: 0.4324 - val_auc: 0.6892\n",
      "Epoch 60/100\n",
      "173/173 [==============================] - 3s 20ms/step - loss: 0.3503 - accuracy: 0.7530 - precision: 0.2294 - recall: 0.4275 - auc: 0.6756 - val_loss: 0.3465 - val_accuracy: 0.7645 - val_precision: 0.2415 - val_recall: 0.4271 - val_auc: 0.6904\n",
      "Epoch 61/100\n",
      "173/173 [==============================] - 4s 22ms/step - loss: 0.3504 - accuracy: 0.7569 - precision: 0.2309 - recall: 0.4192 - auc: 0.6747 - val_loss: 0.3455 - val_accuracy: 0.7424 - val_precision: 0.2309 - val_recall: 0.4694 - val_auc: 0.6942\n",
      "Epoch 62/100\n",
      "173/173 [==============================] - 4s 22ms/step - loss: 0.3498 - accuracy: 0.7547 - precision: 0.2305 - recall: 0.4252 - auc: 0.6771 - val_loss: 0.3466 - val_accuracy: 0.7031 - val_precision: 0.2172 - val_recall: 0.5429 - val_auc: 0.6946\n",
      "Epoch 63/100\n",
      "173/173 [==============================] - 4s 21ms/step - loss: 0.3503 - accuracy: 0.7505 - precision: 0.2264 - recall: 0.4256 - auc: 0.6748 - val_loss: 0.3454 - val_accuracy: 0.7205 - val_precision: 0.2217 - val_recall: 0.5066 - val_auc: 0.6923\n",
      "Epoch 64/100\n",
      "173/173 [==============================] - 4s 21ms/step - loss: 0.3506 - accuracy: 0.7532 - precision: 0.2295 - recall: 0.4271 - auc: 0.6742 - val_loss: 0.3455 - val_accuracy: 0.7927 - val_precision: 0.2647 - val_recall: 0.3853 - val_auc: 0.6938\n",
      "Epoch 65/100\n",
      "173/173 [==============================] - 4s 21ms/step - loss: 0.3500 - accuracy: 0.7537 - precision: 0.2303 - recall: 0.4281 - auc: 0.6759 - val_loss: 0.3481 - val_accuracy: 0.7860 - val_precision: 0.2541 - val_recall: 0.3823 - val_auc: 0.6886\n",
      "Epoch 66/100\n",
      "173/173 [==============================] - 5s 28ms/step - loss: 0.3503 - accuracy: 0.7501 - precision: 0.2264 - recall: 0.4267 - auc: 0.6762 - val_loss: 0.3459 - val_accuracy: 0.7149 - val_precision: 0.2215 - val_recall: 0.5242 - val_auc: 0.6946\n",
      "Epoch 67/100\n",
      "173/173 [==============================] - 4s 21ms/step - loss: 0.3498 - accuracy: 0.7533 - precision: 0.2295 - recall: 0.4267 - auc: 0.6767 - val_loss: 0.3455 - val_accuracy: 0.7546 - val_precision: 0.2343 - val_recall: 0.4385 - val_auc: 0.6920\n",
      "Epoch 68/100\n",
      "173/173 [==============================] - 4s 20ms/step - loss: 0.3505 - accuracy: 0.7571 - precision: 0.2317 - recall: 0.4209 - auc: 0.6738 - val_loss: 0.3451 - val_accuracy: 0.7687 - val_precision: 0.2457 - val_recall: 0.4252 - val_auc: 0.6962\n",
      "Epoch 69/100\n",
      "173/173 [==============================] - 4s 21ms/step - loss: 0.3501 - accuracy: 0.7530 - precision: 0.2279 - recall: 0.4220 - auc: 0.6763 - val_loss: 0.3468 - val_accuracy: 0.7639 - val_precision: 0.2382 - val_recall: 0.4183 - val_auc: 0.6897\n",
      "Epoch 70/100\n",
      "173/173 [==============================] - 3s 20ms/step - loss: 0.3500 - accuracy: 0.7589 - precision: 0.2317 - recall: 0.4146 - auc: 0.6752 - val_loss: 0.3463 - val_accuracy: 0.7365 - val_precision: 0.2261 - val_recall: 0.4716 - val_auc: 0.6896\n",
      "Epoch 71/100\n",
      "173/173 [==============================] - 4s 21ms/step - loss: 0.3500 - accuracy: 0.7541 - precision: 0.2301 - recall: 0.4256 - auc: 0.6771 - val_loss: 0.3486 - val_accuracy: 0.7165 - val_precision: 0.2184 - val_recall: 0.5061 - val_auc: 0.6895\n",
      "Epoch 72/100\n",
      "173/173 [==============================] - 4s 21ms/step - loss: 0.3491 - accuracy: 0.7515 - precision: 0.2296 - recall: 0.4333 - auc: 0.6795 - val_loss: 0.3448 - val_accuracy: 0.7481 - val_precision: 0.2341 - val_recall: 0.4613 - val_auc: 0.6948\n",
      "Epoch 73/100\n",
      "173/173 [==============================] - 4s 20ms/step - loss: 0.3495 - accuracy: 0.7556 - precision: 0.2321 - recall: 0.4277 - auc: 0.6781 - val_loss: 0.3439 - val_accuracy: 0.7642 - val_precision: 0.2451 - val_recall: 0.4408 - val_auc: 0.6973\n",
      "Epoch 74/100\n",
      "173/173 [==============================] - 4s 24ms/step - loss: 0.3494 - accuracy: 0.7550 - precision: 0.2308 - recall: 0.4250 - auc: 0.6787 - val_loss: 0.3449 - val_accuracy: 0.7759 - val_precision: 0.2534 - val_recall: 0.4224 - val_auc: 0.6969\n",
      "Epoch 75/100\n",
      "173/173 [==============================] - 4s 20ms/step - loss: 0.3503 - accuracy: 0.7537 - precision: 0.2278 - recall: 0.4196 - auc: 0.6754 - val_loss: 0.3452 - val_accuracy: 0.8004 - val_precision: 0.2730 - val_recall: 0.3747 - val_auc: 0.6961\n",
      "Epoch 76/100\n",
      "173/173 [==============================] - 4s 21ms/step - loss: 0.3495 - accuracy: 0.7537 - precision: 0.2303 - recall: 0.4280 - auc: 0.6780 - val_loss: 0.3454 - val_accuracy: 0.7913 - val_precision: 0.2608 - val_recall: 0.3799 - val_auc: 0.6935\n",
      "Epoch 77/100\n",
      "173/173 [==============================] - 4s 21ms/step - loss: 0.3503 - accuracy: 0.7559 - precision: 0.2287 - recall: 0.4149 - auc: 0.6749 - val_loss: 0.3440 - val_accuracy: 0.7670 - val_precision: 0.2471 - val_recall: 0.4369 - val_auc: 0.6970\n",
      "Epoch 78/100\n",
      "173/173 [==============================] - 4s 21ms/step - loss: 0.3499 - accuracy: 0.7564 - precision: 0.2300 - recall: 0.4175 - auc: 0.6757 - val_loss: 0.3463 - val_accuracy: 0.7003 - val_precision: 0.2156 - val_recall: 0.5444 - val_auc: 0.6953\n",
      "Epoch 79/100\n",
      "173/173 [==============================] - 4s 21ms/step - loss: 0.3499 - accuracy: 0.7531 - precision: 0.2290 - recall: 0.4254 - auc: 0.6760 - val_loss: 0.3437 - val_accuracy: 0.7618 - val_precision: 0.2468 - val_recall: 0.4564 - val_auc: 0.6997\n",
      "Epoch 80/100\n",
      "173/173 [==============================] - 4s 21ms/step - loss: 0.3499 - accuracy: 0.7549 - precision: 0.2298 - recall: 0.4221 - auc: 0.6768 - val_loss: 0.3446 - val_accuracy: 0.7518 - val_precision: 0.2391 - val_recall: 0.4662 - val_auc: 0.6985\n",
      "Epoch 81/100\n",
      "173/173 [==============================] - 4s 21ms/step - loss: 0.3493 - accuracy: 0.7553 - precision: 0.2319 - recall: 0.4278 - auc: 0.6795 - val_loss: 0.3449 - val_accuracy: 0.7447 - val_precision: 0.2338 - val_recall: 0.4722 - val_auc: 0.6964\n",
      "Epoch 82/100\n",
      "173/173 [==============================] - 3s 19ms/step - loss: 0.3492 - accuracy: 0.7564 - precision: 0.2328 - recall: 0.4272 - auc: 0.6788 - val_loss: 0.3490 - val_accuracy: 0.8193 - val_precision: 0.2877 - val_recall: 0.3178 - val_auc: 0.6906\n",
      "Epoch 83/100\n",
      "173/173 [==============================] - 4s 24ms/step - loss: 0.3500 - accuracy: 0.7566 - precision: 0.2296 - recall: 0.4155 - auc: 0.6754 - val_loss: 0.3442 - val_accuracy: 0.7929 - val_precision: 0.2668 - val_recall: 0.3913 - val_auc: 0.6991\n",
      "Epoch 84/100\n",
      "173/173 [==============================] - 3s 19ms/step - loss: 0.3491 - accuracy: 0.7575 - precision: 0.2323 - recall: 0.4217 - auc: 0.6786 - val_loss: 0.3452 - val_accuracy: 0.7613 - val_precision: 0.2412 - val_recall: 0.4383 - val_auc: 0.6922\n",
      "Epoch 85/100\n",
      "173/173 [==============================] - 3s 19ms/step - loss: 0.3488 - accuracy: 0.7577 - precision: 0.2328 - recall: 0.4227 - auc: 0.6789 - val_loss: 0.3441 - val_accuracy: 0.7415 - val_precision: 0.2306 - val_recall: 0.4717 - val_auc: 0.6959\n",
      "Epoch 86/100\n",
      "173/173 [==============================] - 4s 20ms/step - loss: 0.3494 - accuracy: 0.7572 - precision: 0.2316 - recall: 0.4203 - auc: 0.6781 - val_loss: 0.3479 - val_accuracy: 0.6772 - val_precision: 0.2082 - val_recall: 0.5796 - val_auc: 0.6949\n",
      "Epoch 87/100\n",
      "173/173 [==============================] - 3s 20ms/step - loss: 0.3493 - accuracy: 0.7561 - precision: 0.2304 - recall: 0.4200 - auc: 0.6780 - val_loss: 0.3438 - val_accuracy: 0.7682 - val_precision: 0.2495 - val_recall: 0.4403 - val_auc: 0.6981\n",
      "Epoch 88/100\n",
      "173/173 [==============================] - 3s 20ms/step - loss: 0.3495 - accuracy: 0.7544 - precision: 0.2298 - recall: 0.4239 - auc: 0.6778 - val_loss: 0.3446 - val_accuracy: 0.7720 - val_precision: 0.2483 - val_recall: 0.4210 - val_auc: 0.6921\n",
      "Epoch 89/100\n",
      "173/173 [==============================] - 4s 20ms/step - loss: 0.3494 - accuracy: 0.7561 - precision: 0.2313 - recall: 0.4229 - auc: 0.6777 - val_loss: 0.3459 - val_accuracy: 0.7577 - val_precision: 0.2431 - val_recall: 0.4589 - val_auc: 0.6967\n",
      "Epoch 90/100\n",
      "173/173 [==============================] - 4s 20ms/step - loss: 0.3498 - accuracy: 0.7579 - precision: 0.2326 - recall: 0.4210 - auc: 0.6767 - val_loss: 0.3444 - val_accuracy: 0.7621 - val_precision: 0.2432 - val_recall: 0.4425 - val_auc: 0.6957\n",
      "Epoch 91/100\n",
      "173/173 [==============================] - 3s 20ms/step - loss: 0.3491 - accuracy: 0.7557 - precision: 0.2317 - recall: 0.4258 - auc: 0.6790 - val_loss: 0.3458 - val_accuracy: 0.7708 - val_precision: 0.2456 - val_recall: 0.4168 - val_auc: 0.6919\n",
      "Epoch 92/100\n",
      "173/173 [==============================] - 4s 26ms/step - loss: 0.3496 - accuracy: 0.7574 - precision: 0.2313 - recall: 0.4184 - auc: 0.6772 - val_loss: 0.3444 - val_accuracy: 0.7497 - val_precision: 0.2387 - val_recall: 0.4725 - val_auc: 0.6967\n",
      "Epoch 93/100\n",
      "173/173 [==============================] - 4s 21ms/step - loss: 0.3488 - accuracy: 0.7553 - precision: 0.2324 - recall: 0.4296 - auc: 0.6808 - val_loss: 0.3448 - val_accuracy: 0.7387 - val_precision: 0.2317 - val_recall: 0.4855 - val_auc: 0.6952\n",
      "Epoch 94/100\n",
      "173/173 [==============================] - 4s 23ms/step - loss: 0.3485 - accuracy: 0.7560 - precision: 0.2314 - recall: 0.4236 - auc: 0.6797 - val_loss: 0.3447 - val_accuracy: 0.7595 - val_precision: 0.2442 - val_recall: 0.4560 - val_auc: 0.6952\n",
      "Epoch 95/100\n",
      "173/173 [==============================] - 4s 21ms/step - loss: 0.3491 - accuracy: 0.7576 - precision: 0.2329 - recall: 0.4232 - auc: 0.6775 - val_loss: 0.3445 - val_accuracy: 0.7497 - val_precision: 0.2374 - val_recall: 0.4676 - val_auc: 0.6956\n",
      "Epoch 96/100\n",
      "173/173 [==============================] - 4s 21ms/step - loss: 0.3492 - accuracy: 0.7567 - precision: 0.2334 - recall: 0.4279 - auc: 0.6783 - val_loss: 0.3439 - val_accuracy: 0.7662 - val_precision: 0.2475 - val_recall: 0.4413 - val_auc: 0.6957\n",
      "Epoch 97/100\n",
      "173/173 [==============================] - 3s 20ms/step - loss: 0.3488 - accuracy: 0.7551 - precision: 0.2312 - recall: 0.4261 - auc: 0.6798 - val_loss: 0.3454 - val_accuracy: 0.7840 - val_precision: 0.2579 - val_recall: 0.4026 - val_auc: 0.6949\n",
      "Epoch 98/100\n",
      "173/173 [==============================] - 3s 20ms/step - loss: 0.3492 - accuracy: 0.7553 - precision: 0.2311 - recall: 0.4252 - auc: 0.6789 - val_loss: 0.3440 - val_accuracy: 0.7281 - val_precision: 0.2277 - val_recall: 0.5063 - val_auc: 0.6985\n",
      "Epoch 99/100\n",
      "173/173 [==============================] - 3s 20ms/step - loss: 0.3490 - accuracy: 0.7530 - precision: 0.2318 - recall: 0.4355 - auc: 0.6800 - val_loss: 0.3446 - val_accuracy: 0.7723 - val_precision: 0.2490 - val_recall: 0.4223 - val_auc: 0.6947\n",
      "Epoch 100/100\n",
      "173/173 [==============================] - 4s 21ms/step - loss: 0.3493 - accuracy: 0.7569 - precision: 0.2323 - recall: 0.4236 - auc: 0.6777 - val_loss: 0.3465 - val_accuracy: 0.8049 - val_precision: 0.2724 - val_recall: 0.3506 - val_auc: 0.6914\n"
     ]
    }
   ],
   "source": [
    "input_shape = [x_train.shape[1]]\n",
    "learning_rate = 0.006\n",
    "epochs = 100\n",
    "classification_threshold = 0.1566\n",
    "METRICS = [\n",
    "      keras.metrics.BinaryAccuracy(name='accuracy', \n",
    "                                      threshold=classification_threshold),\n",
    "      keras.metrics.Precision(thresholds=classification_threshold,\n",
    "                                 name='precision' \n",
    "                                 ),\n",
    "      keras.metrics.Recall(thresholds=classification_threshold,\n",
    "                              name=\"recall\"),\n",
    "      keras.metrics.AUC()\n",
    "    ]\n",
    "\n",
    "    \n",
    "model = create_model(learning_rate, METRICS)\n",
    "epochs, hist = train_model(model,x_train, x_test, y_train, y_test, epochs)\n",
    "\n"
   ]
  },
  {
   "cell_type": "code",
   "execution_count": 45,
   "id": "83b9c75b",
   "metadata": {
    "execution": {
     "iopub.execute_input": "2024-08-21T05:59:07.592678Z",
     "iopub.status.busy": "2024-08-21T05:59:07.588430Z",
     "iopub.status.idle": "2024-08-21T05:59:08.186923Z",
     "shell.execute_reply": "2024-08-21T05:59:08.187527Z",
     "shell.execute_reply.started": "2024-08-21T05:14:40.703037Z"
    },
    "papermill": {
     "duration": 3.61349,
     "end_time": "2024-08-21T05:59:08.187723",
     "exception": false,
     "start_time": "2024-08-21T05:59:04.574233",
     "status": "completed"
    },
    "tags": []
   },
   "outputs": [
    {
     "data": {
      "image/png": "[encoded data removed]",
      "text/plain": [
       "<Figure size 1440x864 with 1 Axes>"
      ]
     },
     "metadata": {},
     "output_type": "display_data"
    }
   ],
   "source": [
    "def plot_curve(epochs, hist):\n",
    "\n",
    "  plt.figure(figsize=(20,12))\n",
    "  plt.xlabel(\"Epoch\")\n",
    "  plt.ylabel(\"Value\")\n",
    "\n",
    "  for m in hist:\n",
    "    x = hist[m]\n",
    "    plt.plot(epochs[1:], x[1:], label=m)\n",
    "\n",
    "  plt.legend()\n",
    "\n",
    "\n",
    "plot_curve(epochs, hist)"
   ]
  },
  {
   "cell_type": "markdown",
   "id": "8ec350a7",
   "metadata": {
    "papermill": {
     "duration": 2.978638,
     "end_time": "2024-08-21T05:59:14.348046",
     "exception": false,
     "start_time": "2024-08-21T05:59:11.369408",
     "status": "completed"
    },
    "tags": []
   },
   "source": [
    "loss: 0.3331 - auc: 0.7323 - precision: 0.5627 - recall: 0.0582 - binary_accuracy: 0.8786 - val_loss: 0.3291 - val_auc: 0.7621 - val_precision: 0.6596 - val_recall: 0.0200 - val_binary_accuracy: 0.8782"
   ]
  },
  {
   "cell_type": "code",
   "execution_count": 46,
   "id": "6eee26f5",
   "metadata": {
    "execution": {
     "iopub.execute_input": "2024-08-21T05:59:20.495051Z",
     "iopub.status.busy": "2024-08-21T05:59:20.491995Z",
     "iopub.status.idle": "2024-08-21T05:59:24.707327Z",
     "shell.execute_reply": "2024-08-21T05:59:24.706597Z",
     "shell.execute_reply.started": "2024-08-21T05:14:41.342941Z"
    },
    "papermill": {
     "duration": 7.31426,
     "end_time": "2024-08-21T05:59:24.707504",
     "exception": false,
     "start_time": "2024-08-21T05:59:17.393244",
     "status": "completed"
    },
    "tags": []
   },
   "outputs": [],
   "source": [
    "y_pred = model.predict(x_test)"
   ]
  },
  {
   "cell_type": "code",
   "execution_count": 47,
   "id": "85996592",
   "metadata": {
    "execution": {
     "iopub.execute_input": "2024-08-21T05:59:30.838376Z",
     "iopub.status.busy": "2024-08-21T05:59:30.837201Z",
     "iopub.status.idle": "2024-08-21T05:59:30.841939Z",
     "shell.execute_reply": "2024-08-21T05:59:30.840607Z",
     "shell.execute_reply.started": "2024-08-21T05:14:47.225352Z"
    },
    "papermill": {
     "duration": 3.091254,
     "end_time": "2024-08-21T05:59:30.842209",
     "exception": false,
     "start_time": "2024-08-21T05:59:27.750955",
     "status": "completed"
    },
    "tags": []
   },
   "outputs": [],
   "source": [
    "#y_pred = model.predict(x_test)\n",
    "# Array para encontras threshold optimo\n",
    "#thresholds = np.arange(0.0, 1.0, 0.0001)\n",
    "#fscore = np.zeros(shape=(len(thresholds)))\n",
    "#print('Length of sequence: {}'.format(len(thresholds)))\n",
    "\n",
    "\n",
    "#for index, elem in enumerate(thresholds):\n",
    "\n",
    "   #y_pred_prob = (y_pred > elem).astype('int')\n",
    "\n",
    "    #fscore[index] = f1_score(y_test, y_pred_prob)\n",
    "\n",
    "\n",
    "#index = np.argmax(fscore)\n",
    "#thresholdOpt = round(thresholds[index], ndigits = 4)\n",
    "#fscoreOpt = round(fscore[index], ndigits = 4)\n",
    "#print('Best Threshold: {} with F-Score: {}'.format(thresholdOpt, fscoreOpt))"
   ]
  },
  {
   "cell_type": "markdown",
   "id": "1201990f",
   "metadata": {
    "papermill": {
     "duration": 3.16731,
     "end_time": "2024-08-21T05:59:37.214245",
     "exception": false,
     "start_time": "2024-08-21T05:59:34.046935",
     "status": "completed"
    },
    "tags": []
   },
   "source": [
    "# XGBoost"
   ]
  },
  {
   "cell_type": "code",
   "execution_count": 48,
   "id": "4c7722d7",
   "metadata": {
    "execution": {
     "iopub.execute_input": "2024-08-21T05:59:43.375955Z",
     "iopub.status.busy": "2024-08-21T05:59:43.375128Z",
     "iopub.status.idle": "2024-08-21T05:59:43.601660Z",
     "shell.execute_reply": "2024-08-21T05:59:43.600999Z",
     "shell.execute_reply.started": "2024-08-21T05:14:47.227499Z"
    },
    "papermill": {
     "duration": 3.288726,
     "end_time": "2024-08-21T05:59:43.601840",
     "exception": false,
     "start_time": "2024-08-21T05:59:40.313114",
     "status": "completed"
    },
    "tags": []
   },
   "outputs": [],
   "source": [
    "x = data.drop([\"Risk_Flag\",\"Id\"], axis=1)\n",
    "y = data.Risk_Flag\n",
    "\n",
    "x[num_cols] = StandardScaler().fit_transform(x[num_cols].astype(float))\n",
    "x_train, x_test, y_train, y_test = train_test_split(x, y, test_size = 0.25, stratify = y, random_state = 7)"
   ]
  },
  {
   "cell_type": "code",
   "execution_count": 49,
   "id": "ee26e7da",
   "metadata": {
    "execution": {
     "iopub.execute_input": "2024-08-21T05:59:49.756029Z",
     "iopub.status.busy": "2024-08-21T05:59:49.755039Z",
     "iopub.status.idle": "2024-08-21T05:59:49.758676Z",
     "shell.execute_reply": "2024-08-21T05:59:49.759295Z",
     "shell.execute_reply.started": "2024-08-21T05:14:47.229600Z"
    },
    "papermill": {
     "duration": 3.102413,
     "end_time": "2024-08-21T05:59:49.759488",
     "exception": false,
     "start_time": "2024-08-21T05:59:46.657075",
     "status": "completed"
    },
    "tags": []
   },
   "outputs": [
    {
     "data": {
      "text/plain": [
       "0    221004\n",
       "1     30996\n",
       "Name: Risk_Flag, dtype: int64"
      ]
     },
     "execution_count": 49,
     "metadata": {},
     "output_type": "execute_result"
    }
   ],
   "source": [
    "data.Risk_Flag.value_counts()"
   ]
  },
  {
   "cell_type": "code",
   "execution_count": 50,
   "id": "8ed48f31",
   "metadata": {
    "execution": {
     "iopub.execute_input": "2024-08-21T05:59:55.879415Z",
     "iopub.status.busy": "2024-08-21T05:59:55.878393Z",
     "iopub.status.idle": "2024-08-21T05:59:56.013969Z",
     "shell.execute_reply": "2024-08-21T05:59:56.013273Z",
     "shell.execute_reply.started": "2024-08-21T05:14:47.232109Z"
    },
    "papermill": {
     "duration": 3.14505,
     "end_time": "2024-08-21T05:59:56.014138",
     "exception": false,
     "start_time": "2024-08-21T05:59:52.869088",
     "status": "completed"
    },
    "tags": []
   },
   "outputs": [],
   "source": [
    "import xgboost as xgb\n",
    "from sklearn.model_selection import GridSearchCV\n",
    "\n",
    "param_grid = {\n",
    "    \"max_depth\": [3, 5, 7],\n",
    "    \"learning_rate\": [0.01, 0.05],\n",
    "    \"gamma\": [0, 0.25, 1],\n",
    "    \"reg_lambda\": [5,10],\n",
    "    \"subsample\": [0.8],\n",
    "    \"colsample_bytree\": [0.5],\n",
    "}\n",
    "\n",
    "##model = xgb.XGBClassifier(objective=\"binary:logistic\", verbosity=0)\n",
    "\n",
    "#grid_cv = GridSearchCV(model, param_grid, n_jobs=-1, cv=3, scoring=\"roc_auc\")\n",
    "\n",
    "#grid_cv.fit(x_train, y_train)\n",
    "\n"
   ]
  },
  {
   "cell_type": "code",
   "execution_count": 51,
   "id": "e7dae490",
   "metadata": {
    "execution": {
     "iopub.execute_input": "2024-08-21T06:00:02.346161Z",
     "iopub.status.busy": "2024-08-21T06:00:02.344369Z",
     "iopub.status.idle": "2024-08-21T06:00:02.349531Z",
     "shell.execute_reply": "2024-08-21T06:00:02.348402Z",
     "shell.execute_reply.started": "2024-08-21T05:14:47.234709Z"
    },
    "papermill": {
     "duration": 3.321967,
     "end_time": "2024-08-21T06:00:02.349870",
     "exception": false,
     "start_time": "2024-08-21T05:59:59.027903",
     "status": "completed"
    },
    "tags": []
   },
   "outputs": [],
   "source": [
    "#grid_cv.best_score_\n"
   ]
  },
  {
   "cell_type": "code",
   "execution_count": 52,
   "id": "85136273",
   "metadata": {
    "execution": {
     "iopub.execute_input": "2024-08-21T06:00:09.433170Z",
     "iopub.status.busy": "2024-08-21T06:00:09.430560Z",
     "iopub.status.idle": "2024-08-21T06:00:09.434245Z",
     "shell.execute_reply": "2024-08-21T06:00:09.434887Z",
     "shell.execute_reply.started": "2024-08-21T05:14:47.236604Z"
    },
    "papermill": {
     "duration": 3.551857,
     "end_time": "2024-08-21T06:00:09.435108",
     "exception": false,
     "start_time": "2024-08-21T06:00:05.883251",
     "status": "completed"
    },
    "tags": []
   },
   "outputs": [],
   "source": [
    "#best_params = grid_cv.best_params_\n",
    "#best_params\n",
    "eval_set = [(x_train, y_train), (x_test, y_test)]"
   ]
  },
  {
   "cell_type": "code",
   "execution_count": 53,
   "id": "f7ea4b2d",
   "metadata": {
    "execution": {
     "iopub.execute_input": "2024-08-21T06:00:16.281009Z",
     "iopub.status.busy": "2024-08-21T06:00:16.279664Z",
     "iopub.status.idle": "2024-08-21T06:00:33.428491Z",
     "shell.execute_reply": "2024-08-21T06:00:33.427718Z",
     "shell.execute_reply.started": "2024-08-21T05:14:47.239452Z"
    },
    "papermill": {
     "duration": 20.606763,
     "end_time": "2024-08-21T06:00:33.428673",
     "exception": false,
     "start_time": "2024-08-21T06:00:12.821910",
     "status": "completed"
    },
    "tags": []
   },
   "outputs": [
    {
     "name": "stderr",
     "output_type": "stream",
     "text": [
      "/opt/conda/lib/python3.7/site-packages/xgboost/sklearn.py:1224: UserWarning: The use of label encoder in XGBClassifier is deprecated and will be removed in a future release. To remove this warning, do the following: 1) Pass option use_label_encoder=False when constructing XGBClassifier object; and 2) Encode your labels (y) as integers starting with 0, i.e. 0, 1, 2, ..., [num_class - 1].\n",
      "  warnings.warn(label_encoder_deprecation_msg, UserWarning)\n"
     ]
    },
    {
     "name": "stdout",
     "output_type": "stream",
     "text": [
      "[0]\tvalidation_0-auc:0.56894\tvalidation_0-logloss:0.44776\tvalidation_1-auc:0.55462\tvalidation_1-logloss:0.44893\n",
      "[1]\tvalidation_0-auc:0.70900\tvalidation_0-logloss:0.36602\tvalidation_1-auc:0.67108\tvalidation_1-logloss:0.37468\n",
      "[2]\tvalidation_0-auc:0.80767\tvalidation_0-logloss:0.31790\tvalidation_1-auc:0.75385\tvalidation_1-logloss:0.33491\n",
      "[3]\tvalidation_0-auc:0.84947\tvalidation_0-logloss:0.29434\tvalidation_1-auc:0.79387\tvalidation_1-logloss:0.31529\n",
      "[4]\tvalidation_0-auc:0.86550\tvalidation_0-logloss:0.28308\tvalidation_1-auc:0.80808\tvalidation_1-logloss:0.30685\n",
      "[5]\tvalidation_0-auc:0.88262\tvalidation_0-logloss:0.26964\tvalidation_1-auc:0.81612\tvalidation_1-logloss:0.29974\n",
      "[6]\tvalidation_0-auc:0.89699\tvalidation_0-logloss:0.25773\tvalidation_1-auc:0.83164\tvalidation_1-logloss:0.29085\n",
      "[7]\tvalidation_0-auc:0.90432\tvalidation_0-logloss:0.25061\tvalidation_1-auc:0.83896\tvalidation_1-logloss:0.28615\n",
      "[8]\tvalidation_0-auc:0.91149\tvalidation_0-logloss:0.24367\tvalidation_1-auc:0.84135\tvalidation_1-logloss:0.28372\n",
      "[9]\tvalidation_0-auc:0.91572\tvalidation_0-logloss:0.23861\tvalidation_1-auc:0.84782\tvalidation_1-logloss:0.27975\n",
      "[10]\tvalidation_0-auc:0.91762\tvalidation_0-logloss:0.23681\tvalidation_1-auc:0.84846\tvalidation_1-logloss:0.27951\n",
      "[11]\tvalidation_0-auc:0.92225\tvalidation_0-logloss:0.23178\tvalidation_1-auc:0.84967\tvalidation_1-logloss:0.27813\n",
      "[12]\tvalidation_0-auc:0.92932\tvalidation_0-logloss:0.22221\tvalidation_1-auc:0.86055\tvalidation_1-logloss:0.27064\n",
      "[13]\tvalidation_0-auc:0.93230\tvalidation_0-logloss:0.21930\tvalidation_1-auc:0.86124\tvalidation_1-logloss:0.27044\n",
      "[14]\tvalidation_0-auc:0.93766\tvalidation_0-logloss:0.21228\tvalidation_1-auc:0.86523\tvalidation_1-logloss:0.26702\n",
      "[15]\tvalidation_0-auc:0.94103\tvalidation_0-logloss:0.20731\tvalidation_1-auc:0.86989\tvalidation_1-logloss:0.26341\n",
      "[16]\tvalidation_0-auc:0.94182\tvalidation_0-logloss:0.20628\tvalidation_1-auc:0.86992\tvalidation_1-logloss:0.26359\n",
      "[17]\tvalidation_0-auc:0.94353\tvalidation_0-logloss:0.20450\tvalidation_1-auc:0.86891\tvalidation_1-logloss:0.26414\n",
      "[18]\tvalidation_0-auc:0.94453\tvalidation_0-logloss:0.20312\tvalidation_1-auc:0.86985\tvalidation_1-logloss:0.26351\n",
      "[19]\tvalidation_0-auc:0.94738\tvalidation_0-logloss:0.19963\tvalidation_1-auc:0.87113\tvalidation_1-logloss:0.26271\n",
      "[20]\tvalidation_0-auc:0.95048\tvalidation_0-logloss:0.19548\tvalidation_1-auc:0.87133\tvalidation_1-logloss:0.26220\n",
      "[21]\tvalidation_0-auc:0.95257\tvalidation_0-logloss:0.19252\tvalidation_1-auc:0.87188\tvalidation_1-logloss:0.26160\n",
      "[22]\tvalidation_0-auc:0.95511\tvalidation_0-logloss:0.18829\tvalidation_1-auc:0.87414\tvalidation_1-logloss:0.25991\n",
      "[23]\tvalidation_0-auc:0.95635\tvalidation_0-logloss:0.18632\tvalidation_1-auc:0.87389\tvalidation_1-logloss:0.26009\n",
      "[24]\tvalidation_0-auc:0.95790\tvalidation_0-logloss:0.18374\tvalidation_1-auc:0.87471\tvalidation_1-logloss:0.25959\n",
      "[25]\tvalidation_0-auc:0.95821\tvalidation_0-logloss:0.18325\tvalidation_1-auc:0.87474\tvalidation_1-logloss:0.25959\n",
      "[26]\tvalidation_0-auc:0.95950\tvalidation_0-logloss:0.18102\tvalidation_1-auc:0.87522\tvalidation_1-logloss:0.25909\n",
      "[27]\tvalidation_0-auc:0.96076\tvalidation_0-logloss:0.17913\tvalidation_1-auc:0.87542\tvalidation_1-logloss:0.25902\n",
      "[28]\tvalidation_0-auc:0.96294\tvalidation_0-logloss:0.17597\tvalidation_1-auc:0.87433\tvalidation_1-logloss:0.26002\n",
      "[29]\tvalidation_0-auc:0.96328\tvalidation_0-logloss:0.17546\tvalidation_1-auc:0.87413\tvalidation_1-logloss:0.26012\n",
      "[30]\tvalidation_0-auc:0.96458\tvalidation_0-logloss:0.17354\tvalidation_1-auc:0.87450\tvalidation_1-logloss:0.26013\n",
      "[31]\tvalidation_0-auc:0.96521\tvalidation_0-logloss:0.17221\tvalidation_1-auc:0.87479\tvalidation_1-logloss:0.25989\n",
      "[32]\tvalidation_0-auc:0.96582\tvalidation_0-logloss:0.17105\tvalidation_1-auc:0.87527\tvalidation_1-logloss:0.25961\n",
      "[33]\tvalidation_0-auc:0.96670\tvalidation_0-logloss:0.16859\tvalidation_1-auc:0.87749\tvalidation_1-logloss:0.25812\n",
      "[34]\tvalidation_0-auc:0.96733\tvalidation_0-logloss:0.16738\tvalidation_1-auc:0.87818\tvalidation_1-logloss:0.25768\n",
      "[35]\tvalidation_0-auc:0.96833\tvalidation_0-logloss:0.16563\tvalidation_1-auc:0.87816\tvalidation_1-logloss:0.25791\n",
      "[36]\tvalidation_0-auc:0.96869\tvalidation_0-logloss:0.16501\tvalidation_1-auc:0.87787\tvalidation_1-logloss:0.25816\n",
      "[37]\tvalidation_0-auc:0.96915\tvalidation_0-logloss:0.16421\tvalidation_1-auc:0.87783\tvalidation_1-logloss:0.25823\n",
      "[38]\tvalidation_0-auc:0.96996\tvalidation_0-logloss:0.16259\tvalidation_1-auc:0.87767\tvalidation_1-logloss:0.25856\n",
      "[39]\tvalidation_0-auc:0.97049\tvalidation_0-logloss:0.16178\tvalidation_1-auc:0.87779\tvalidation_1-logloss:0.25863\n",
      "[40]\tvalidation_0-auc:0.97066\tvalidation_0-logloss:0.16139\tvalidation_1-auc:0.87791\tvalidation_1-logloss:0.25856\n",
      "[41]\tvalidation_0-auc:0.97194\tvalidation_0-logloss:0.15917\tvalidation_1-auc:0.87794\tvalidation_1-logloss:0.25867\n",
      "[42]\tvalidation_0-auc:0.97247\tvalidation_0-logloss:0.15828\tvalidation_1-auc:0.87801\tvalidation_1-logloss:0.25871\n",
      "[43]\tvalidation_0-auc:0.97275\tvalidation_0-logloss:0.15751\tvalidation_1-auc:0.87816\tvalidation_1-logloss:0.25863\n",
      "[44]\tvalidation_0-auc:0.97347\tvalidation_0-logloss:0.15621\tvalidation_1-auc:0.87792\tvalidation_1-logloss:0.25873\n"
     ]
    },
    {
     "data": {
      "text/plain": [
       "XGBClassifier(base_score=0.5, booster='gbtree', colsample_bylevel=1,\n",
       "              colsample_bynode=1, colsample_bytree=0.7,\n",
       "              enable_categorical=False, gamma=1, gpu_id=-1,\n",
       "              importance_type=None, interaction_constraints='',\n",
       "              learning_rate=0.6, max_delta_step=0, max_depth=14,\n",
       "              min_child_weight=1, missing=nan, monotone_constraints='()',\n",
       "              n_estimators=300, n_jobs=4, num_parallel_tree=1, predictor='auto',\n",
       "              random_state=0, reg_alpha=1, reg_lambda=7, scale_pos_weight=1,\n",
       "              subsample=0.9, tree_method='exact', validate_parameters=1,\n",
       "              verbosity=None)"
      ]
     },
     "execution_count": 53,
     "metadata": {},
     "output_type": "execute_result"
    }
   ],
   "source": [
    "final_xgbcl = xgb.XGBClassifier(booster=\"gbtree\",\n",
    "                                gamma= 1,\n",
    "                                learning_rate=0.6,\n",
    "                                max_depth =14,\n",
    "                                reg_lambda= 7,\n",
    "                                reg_alpha = 1,\n",
    "                                subsample= 0.9,\n",
    "                                objective=\"binary:logistic\",\n",
    "                                colsample_bytree=0.7,\n",
    "                                scale_pos_weight=1,\n",
    "                                n_estimators = 300\n",
    "                               )\n",
    "    \n",
    "final_xgbcl.fit(x_train,y_train,eval_set=eval_set,early_stopping_rounds=10,eval_metric=[\"auc\",\"logloss\"],)"
   ]
  },
  {
   "cell_type": "code",
   "execution_count": 54,
   "id": "40a8be96",
   "metadata": {
    "execution": {
     "iopub.execute_input": "2024-08-21T06:00:39.852133Z",
     "iopub.status.busy": "2024-08-21T06:00:39.851050Z",
     "iopub.status.idle": "2024-08-21T06:00:39.853707Z",
     "shell.execute_reply": "2024-08-21T06:00:39.854326Z",
     "shell.execute_reply.started": "2024-08-21T05:14:47.241197Z"
    },
    "papermill": {
     "duration": 3.225158,
     "end_time": "2024-08-21T06:00:39.854522",
     "exception": false,
     "start_time": "2024-08-21T06:00:36.629364",
     "status": "completed"
    },
    "tags": []
   },
   "outputs": [],
   "source": [
    "results = final_xgbcl.evals_result()\n",
    "epochs = len(results[\"validation_0\"][\"auc\"])\n",
    "x_axis = range(0, epochs)"
   ]
  },
  {
   "cell_type": "code",
   "execution_count": 55,
   "id": "fd96bd92",
   "metadata": {
    "execution": {
     "iopub.execute_input": "2024-08-21T06:00:45.996094Z",
     "iopub.status.busy": "2024-08-21T06:00:45.994870Z",
     "iopub.status.idle": "2024-08-21T06:00:46.305343Z",
     "shell.execute_reply": "2024-08-21T06:00:46.305984Z",
     "shell.execute_reply.started": "2024-08-21T05:14:47.243456Z"
    },
    "papermill": {
     "duration": 3.430219,
     "end_time": "2024-08-21T06:00:46.306201",
     "exception": false,
     "start_time": "2024-08-21T06:00:42.875982",
     "status": "completed"
    },
    "tags": []
   },
   "outputs": [
    {
     "data": {
      "image/png": "[encoded data removed]",
      "text/plain": [
       "<Figure size 432x288 with 1 Axes>"
      ]
     },
     "metadata": {},
     "output_type": "display_data"
    }
   ],
   "source": [
    "from matplotlib import pyplot\n",
    "\n",
    "fig, ax = pyplot.subplots()\n",
    "ax.plot(x_axis, results['validation_0'][\"auc\"], label='Train')\n",
    "ax.plot(x_axis, results['validation_1'][\"auc\"], label='Test')\n",
    "ax.legend()\n",
    "pyplot.ylabel(\"auc\")\n",
    "pyplot.title('XGBoost auc')\n",
    "pyplot.show()"
   ]
  },
  {
   "cell_type": "code",
   "execution_count": 56,
   "id": "e5134d51",
   "metadata": {
    "execution": {
     "iopub.execute_input": "2024-08-21T06:00:52.672865Z",
     "iopub.status.busy": "2024-08-21T06:00:52.672103Z",
     "iopub.status.idle": "2024-08-21T06:00:52.764909Z",
     "shell.execute_reply": "2024-08-21T06:00:52.765600Z",
     "shell.execute_reply.started": "2024-08-21T05:14:47.245818Z"
    },
    "papermill": {
     "duration": 3.28891,
     "end_time": "2024-08-21T06:00:52.765846",
     "exception": false,
     "start_time": "2024-08-21T06:00:49.476936",
     "status": "completed"
    },
    "tags": []
   },
   "outputs": [],
   "source": [
    "y_pred = final_xgbcl.predict(x_test)\n"
   ]
  },
  {
   "cell_type": "code",
   "execution_count": 57,
   "id": "e4e7d26b",
   "metadata": {
    "execution": {
     "iopub.execute_input": "2024-08-21T06:00:58.875349Z",
     "iopub.status.busy": "2024-08-21T06:00:58.874495Z",
     "iopub.status.idle": "2024-08-21T06:00:58.966577Z",
     "shell.execute_reply": "2024-08-21T06:00:58.965818Z",
     "shell.execute_reply.started": "2024-08-21T05:14:47.247804Z"
    },
    "papermill": {
     "duration": 3.196272,
     "end_time": "2024-08-21T06:00:58.966775",
     "exception": false,
     "start_time": "2024-08-21T06:00:55.770503",
     "status": "completed"
    },
    "tags": []
   },
   "outputs": [
    {
     "name": "stdout",
     "output_type": "stream",
     "text": [
      "-------------------------TEST SCORES XGBOOST-----------------------\n",
      "Recall: 32.1203\n",
      "Precision: 58.0322\n",
      "F1-Score: 41.3524\n",
      "Accuracy score: 88.7937\n",
      "AUC Score: 64.4312\n"
     ]
    }
   ],
   "source": [
    "print(\"-------------------------TEST SCORES XGBOOST-----------------------\") \n",
    "print(f\"Recall: { round(recall_score(y_test, y_pred)*100, 4) }\")\n",
    "print(f\"Precision: { round(precision_score(y_test, y_pred)*100, 4) }\")\n",
    "print(f\"F1-Score: { round(f1_score(y_test, y_pred)*100, 4) }\")\n",
    "print(f\"Accuracy score: { round(accuracy_score(y_test, y_pred)*100, 4) }\")\n",
    "print(f\"AUC Score: { round(roc_auc_score(y_test, y_pred)*100, 4) }\")"
   ]
  },
  {
   "cell_type": "markdown",
   "id": "8ff652a7",
   "metadata": {
    "papermill": {
     "duration": 3.247657,
     "end_time": "2024-08-21T06:01:05.437958",
     "exception": false,
     "start_time": "2024-08-21T06:01:02.190301",
     "status": "completed"
    },
    "tags": []
   },
   "source": [
    "# Logistic regression"
   ]
  },
  {
   "cell_type": "code",
   "execution_count": 58,
   "id": "bb80b7f4",
   "metadata": {
    "execution": {
     "iopub.execute_input": "2024-08-21T06:01:12.009710Z",
     "iopub.status.busy": "2024-08-21T06:01:12.008777Z",
     "iopub.status.idle": "2024-08-21T06:01:12.524949Z",
     "shell.execute_reply": "2024-08-21T06:01:12.525564Z",
     "shell.execute_reply.started": "2024-08-21T05:14:47.249934Z"
    },
    "papermill": {
     "duration": 3.904574,
     "end_time": "2024-08-21T06:01:12.526136",
     "exception": false,
     "start_time": "2024-08-21T06:01:08.621562",
     "status": "completed"
    },
    "tags": []
   },
   "outputs": [],
   "source": [
    "datalr= data.copy()\n",
    "x = datalr.drop([\"Risk_Flag\",\"Id\"], axis=1)\n",
    "y = datalr.Risk_Flag\n",
    "x_train, x_test, y_train, y_test = train_test_split(x, y, test_size = 0.3, stratify = y, random_state = 7)\n",
    "os = SMOTE(random_state=42)\n",
    "columns = x_train.columns\n",
    "os_data_x, os_data_y = os.fit_resample(x_train, y_train)\n",
    "os_data_x = pd.DataFrame(data=os_data_x,columns=columns )\n",
    "os_data_y = pd.DataFrame(data=os_data_y,columns=['Risk_Flag'])"
   ]
  },
  {
   "cell_type": "code",
   "execution_count": 59,
   "id": "d1defc53",
   "metadata": {
    "execution": {
     "iopub.execute_input": "2024-08-21T06:01:18.965073Z",
     "iopub.status.busy": "2024-08-21T06:01:18.964122Z",
     "iopub.status.idle": "2024-08-21T06:01:18.967316Z",
     "shell.execute_reply": "2024-08-21T06:01:18.966593Z",
     "shell.execute_reply.started": "2024-08-21T05:14:47.251933Z"
    },
    "papermill": {
     "duration": 3.218098,
     "end_time": "2024-08-21T06:01:18.967474",
     "exception": false,
     "start_time": "2024-08-21T06:01:15.749376",
     "status": "completed"
    },
    "tags": []
   },
   "outputs": [],
   "source": [
    "from sklearn.linear_model import LogisticRegression\n",
    "logreg = LogisticRegression()"
   ]
  },
  {
   "cell_type": "code",
   "execution_count": 60,
   "id": "33b21606",
   "metadata": {
    "execution": {
     "iopub.execute_input": "2024-08-21T06:01:25.240478Z",
     "iopub.status.busy": "2024-08-21T06:01:25.236104Z",
     "iopub.status.idle": "2024-08-21T06:01:25.596205Z",
     "shell.execute_reply": "2024-08-21T06:01:25.597497Z",
     "shell.execute_reply.started": "2024-08-21T05:14:47.253632Z"
    },
    "papermill": {
     "duration": 3.490673,
     "end_time": "2024-08-21T06:01:25.597890",
     "exception": false,
     "start_time": "2024-08-21T06:01:22.107217",
     "status": "completed"
    },
    "tags": []
   },
   "outputs": [
    {
     "name": "stderr",
     "output_type": "stream",
     "text": [
      "/opt/conda/lib/python3.7/site-packages/sklearn/utils/validation.py:985: DataConversionWarning: A column-vector y was passed when a 1d array was expected. Please change the shape of y to (n_samples, ), for example using ravel().\n",
      "  y = column_or_1d(y, warn=True)\n"
     ]
    }
   ],
   "source": [
    "logreg.fit(os_data_x, os_data_y)\n",
    "y_pred = logreg.predict(x_test)"
   ]
  },
  {
   "cell_type": "code",
   "execution_count": 61,
   "id": "2bcf34aa",
   "metadata": {
    "execution": {
     "iopub.execute_input": "2024-08-21T06:01:32.066890Z",
     "iopub.status.busy": "2024-08-21T06:01:32.066051Z",
     "iopub.status.idle": "2024-08-21T06:01:32.172264Z",
     "shell.execute_reply": "2024-08-21T06:01:32.172945Z",
     "shell.execute_reply.started": "2024-08-21T05:14:47.255390Z"
    },
    "papermill": {
     "duration": 3.384068,
     "end_time": "2024-08-21T06:01:32.173184",
     "exception": false,
     "start_time": "2024-08-21T06:01:28.789116",
     "status": "completed"
    },
    "tags": []
   },
   "outputs": [
    {
     "name": "stdout",
     "output_type": "stream",
     "text": [
      "-------------------------TEST SCORES LOGREG-----------------------\n",
      "Recall: 0.0\n",
      "Precision: 0.0\n",
      "F1-Score: 0.0\n",
      "Accuracy score: 87.6997\n",
      "AUC Score: 50.0\n"
     ]
    },
    {
     "name": "stderr",
     "output_type": "stream",
     "text": [
      "/opt/conda/lib/python3.7/site-packages/sklearn/metrics/_classification.py:1308: UndefinedMetricWarning: Precision is ill-defined and being set to 0.0 due to no predicted samples. Use `zero_division` parameter to control this behavior.\n",
      "  _warn_prf(average, modifier, msg_start, len(result))\n"
     ]
    }
   ],
   "source": [
    "print(\"-------------------------TEST SCORES LOGREG-----------------------\") \n",
    "print(f\"Recall: { round(recall_score(y_test, y_pred)*100, 4) }\")\n",
    "print(f\"Precision: { round(precision_score(y_test, y_pred)*100, 4) }\")\n",
    "print(f\"F1-Score: { round(f1_score(y_test, y_pred)*100, 4) }\")\n",
    "print(f\"Accuracy score: { round(accuracy_score(y_test, y_pred)*100, 4) }\")\n",
    "print(f\"AUC Score: { round(roc_auc_score(y_test, y_pred)*100, 4) }\")"
   ]
  },
  {
   "cell_type": "code",
   "execution_count": 62,
   "id": "bd19e9e9",
   "metadata": {
    "execution": {
     "iopub.execute_input": "2024-08-21T06:01:38.488996Z",
     "iopub.status.busy": "2024-08-21T06:01:38.486795Z",
     "iopub.status.idle": "2024-08-21T06:01:38.496893Z",
     "shell.execute_reply": "2024-08-21T06:01:38.496000Z",
     "shell.execute_reply.started": "2024-08-21T05:14:47.257073Z"
    },
    "papermill": {
     "duration": 3.143419,
     "end_time": "2024-08-21T06:01:38.497075",
     "exception": false,
     "start_time": "2024-08-21T06:01:35.353656",
     "status": "completed"
    },
    "tags": []
   },
   "outputs": [],
   "source": [
    "#def create_model_lr(learning_rate, METRICS):\n",
    "    #model = keras.Sequential([\n",
    "   # layers.BatchNormalization(input_shape=input_shape),\n",
    "  #  layers.Dense(64, activation='relu'),\n",
    "   # layers.BatchNormalization(),\n",
    "  #  layers.Dropout(rate=0.4),\n",
    "   #3 layers.Dense(128, activation='relu'),\n",
    "  #  layers.BatchNormalization(),\n",
    "  #  layers.Dropout(rate=0.4),\n",
    "  #  layers.Dense(128, activation='relu'),\n",
    "  #  layers.BatchNormalization(),\n",
    "   # layers.Dropout(rate=0.4),\n",
    " #   layers.Dense(1, activation = \"sigmoid\")])\n",
    "    \n",
    "  #  model.compile(\n",
    "  #  optimizer=keras.optimizers.RMSprop(learning_rate=learning_rate),\n",
    "   # loss='binary_crossentropy',\n",
    "   # metrics=METRICS,\n",
    "    #)\n",
    "   # return model\n",
    "\n",
    "#def train_model_lr(model,x_train, x_test, y_train, y_test, epochs):\n",
    "   # history = model.fit(\n",
    " #   x_train, y_train,\n",
    "  #  validation_data=(x_test, y_test),\n",
    "   # batch_size=1024,\n",
    "  #  epochs=epochs,\n",
    "  #  callbacks=[early_stopping,ReduceLROnPlateau])\n",
    "    \n",
    "  #  epochs = history.epoch\n",
    "    \n",
    "  #  hist = pd.DataFrame(history.history)\n",
    "   # return epochs, hist"
   ]
  },
  {
   "cell_type": "code",
   "execution_count": 63,
   "id": "b5f7f6dc",
   "metadata": {
    "execution": {
     "iopub.execute_input": "2024-08-21T06:01:44.955301Z",
     "iopub.status.busy": "2024-08-21T06:01:44.954184Z",
     "iopub.status.idle": "2024-08-21T06:01:44.957215Z",
     "shell.execute_reply": "2024-08-21T06:01:44.956576Z",
     "shell.execute_reply.started": "2024-08-21T05:14:47.260198Z"
    },
    "papermill": {
     "duration": 3.255606,
     "end_time": "2024-08-21T06:01:44.957392",
     "exception": false,
     "start_time": "2024-08-21T06:01:41.701786",
     "status": "completed"
    },
    "tags": []
   },
   "outputs": [],
   "source": [
    "#early_stopping = callbacks.EarlyStopping(\n",
    "    #monitor = \"AUC\",\n",
    "    #mode = \"max\",\n",
    "    #patience = 8,\n",
    "    #min_delta=0.001,\n",
    "    #restore_best_weights=True,\n",
    "#)\n",
    "#ReduceLROnPlateau = callbacks.ReduceLROnPlateau(\n",
    "   # monitor=\"AUC\",\n",
    "    #patience = 8)"
   ]
  },
  {
   "cell_type": "code",
   "execution_count": 64,
   "id": "f998848f",
   "metadata": {
    "execution": {
     "iopub.execute_input": "2024-08-21T06:01:51.291641Z",
     "iopub.status.busy": "2024-08-21T06:01:51.290511Z",
     "iopub.status.idle": "2024-08-21T06:01:51.293953Z",
     "shell.execute_reply": "2024-08-21T06:01:51.294606Z",
     "shell.execute_reply.started": "2024-08-21T05:14:47.262730Z"
    },
    "papermill": {
     "duration": 3.129758,
     "end_time": "2024-08-21T06:01:51.294860",
     "exception": false,
     "start_time": "2024-08-21T06:01:48.165102",
     "status": "completed"
    },
    "tags": []
   },
   "outputs": [],
   "source": [
    "#input_shape = [x_train.shape[1]]\n",
    "#learning_rate = 0.006\n",
    "#epochs = 100\n",
    "#classification_threshold = 0.1566\n",
    "#METRICS = [\n",
    "#      keras.metrics.BinaryAccuracy(name='accuracy'),\n",
    "#      keras.metrics.Precision(name='precision'),\n",
    " #     keras.metrics.Recall(name=\"recall\"),\n",
    "  #    keras.metrics.AUC()\n",
    "   # ]\n",
    "\n",
    "    \n",
    "#model = create_model(learning_rate, METRICS)\n",
    "#epochs, hist = train_model(model,x_train, x_test, y_train, y_test, epochs)"
   ]
  },
  {
   "cell_type": "markdown",
   "id": "726df127",
   "metadata": {
    "papermill": {
     "duration": 3.132459,
     "end_time": "2024-08-21T06:01:57.575000",
     "exception": false,
     "start_time": "2024-08-21T06:01:54.442541",
     "status": "completed"
    },
    "tags": []
   },
   "source": []
  }
 ],
 "metadata": {
  "kaggle": {
   "accelerator": "none",
   "dataSources": [
    {
     "datasetId": 1532161,
     "sourceId": 2528751,
     "sourceType": "datasetVersion"
    }
   ],
   "dockerImageVersionId": 30176,
   "isGpuEnabled": false,
   "isInternetEnabled": false,
   "language": "python",
   "sourceType": "notebook"
  },
  "kernelspec": {
   "display_name": "Python 3",
   "language": "python",
   "name": "python3"
  },
  "language_info": {
   "codemirror_mode": {
    "name": "ipython",
    "version": 3
   },
   "file_extension": ".py",
   "mimetype": "text/x-python",
   "name": "python",
   "nbconvert_exporter": "python",
   "pygments_lexer": "ipython3",
   "version": "3.7.12"
  },
  "papermill": {
   "default_parameters": {},
   "duration": 771.173458,
   "end_time": "2024-08-21T06:02:03.523896",
   "environment_variables": {},
   "exception": null,
   "input_path": "__notebook__.ipynb",
   "output_path": "__notebook__.ipynb",
   "parameters": {},
   "start_time": "2024-08-21T05:49:12.350438",
   "version": "2.3.3"
  }
 },
 "nbformat": 4,
 "nbformat_minor": 5
}
