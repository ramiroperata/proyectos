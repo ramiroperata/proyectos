{
 "cells": [
  {
   "cell_type": "code",
   "execution_count": 1,
   "id": "36d4e364",
   "metadata": {
    "_cell_guid": "b1076dfc-b9ad-4769-8c92-a6c4dae69d19",
    "_uuid": "8f2839f25d086af736a60e9eeb907d3b93b6e0e5",
    "execution": {
     "iopub.execute_input": "2024-08-21T20:22:00.422027Z",
     "iopub.status.busy": "2024-08-21T20:22:00.421252Z",
     "iopub.status.idle": "2024-08-21T20:22:01.524614Z",
     "shell.execute_reply": "2024-08-21T20:22:01.523725Z",
     "shell.execute_reply.started": "2024-08-21T19:35:16.117469Z"
    },
    "papermill": {
     "duration": 1.185166,
     "end_time": "2024-08-21T20:22:01.524836",
     "exception": false,
     "start_time": "2024-08-21T20:22:00.339670",
     "status": "completed"
    },
    "tags": []
   },
   "outputs": [],
   "source": [
    "import numpy as np # linear algebra\n",
    "import pandas as pd # data processing, CSV file I/O (e.g. pd.read_csv)\n",
    "\n",
    "\n",
    "\n",
    "\n",
    "\n",
    "import matplotlib.pyplot as plt\n",
    "import seaborn as sns\n",
    "\n",
    "sns.set_theme(style = \"darkgrid\")"
   ]
  },
  {
   "cell_type": "code",
   "execution_count": 2,
   "id": "816100b2",
   "metadata": {
    "execution": {
     "iopub.execute_input": "2024-08-21T20:22:01.668370Z",
     "iopub.status.busy": "2024-08-21T20:22:01.667560Z",
     "iopub.status.idle": "2024-08-21T20:22:02.405255Z",
     "shell.execute_reply": "2024-08-21T20:22:02.405867Z",
     "shell.execute_reply.started": "2024-08-21T19:35:17.419435Z"
    },
    "papermill": {
     "duration": 0.813677,
     "end_time": "2024-08-21T20:22:02.406068",
     "exception": false,
     "start_time": "2024-08-21T20:22:01.592391",
     "status": "completed"
    },
    "tags": []
   },
   "outputs": [
    {
     "data": {
      "text/html": [
       "<div>\n",
       "<style scoped>\n",
       "    .dataframe tbody tr th:only-of-type {\n",
       "        vertical-align: middle;\n",
       "    }\n",
       "\n",
       "    .dataframe tbody tr th {\n",
       "        vertical-align: top;\n",
       "    }\n",
       "\n",
       "    .dataframe thead th {\n",
       "        text-align: right;\n",
       "    }\n",
       "</style>\n",
       "<table border=\"1\" class=\"dataframe\">\n",
       "  <thead>\n",
       "    <tr style=\"text-align: right;\">\n",
       "      <th></th>\n",
       "      <th>Id</th>\n",
       "      <th>Income</th>\n",
       "      <th>Age</th>\n",
       "      <th>Experience</th>\n",
       "      <th>Married/Single</th>\n",
       "      <th>House_Ownership</th>\n",
       "      <th>Car_Ownership</th>\n",
       "      <th>Profession</th>\n",
       "      <th>CITY</th>\n",
       "      <th>STATE</th>\n",
       "      <th>CURRENT_JOB_YRS</th>\n",
       "      <th>CURRENT_HOUSE_YRS</th>\n",
       "      <th>Risk_Flag</th>\n",
       "    </tr>\n",
       "  </thead>\n",
       "  <tbody>\n",
       "    <tr>\n",
       "      <th>0</th>\n",
       "      <td>1</td>\n",
       "      <td>1303834</td>\n",
       "      <td>23</td>\n",
       "      <td>3</td>\n",
       "      <td>single</td>\n",
       "      <td>rented</td>\n",
       "      <td>no</td>\n",
       "      <td>Mechanical_engineer</td>\n",
       "      <td>Rewa</td>\n",
       "      <td>Madhya_Pradesh</td>\n",
       "      <td>3</td>\n",
       "      <td>13</td>\n",
       "      <td>0</td>\n",
       "    </tr>\n",
       "    <tr>\n",
       "      <th>1</th>\n",
       "      <td>2</td>\n",
       "      <td>7574516</td>\n",
       "      <td>40</td>\n",
       "      <td>10</td>\n",
       "      <td>single</td>\n",
       "      <td>rented</td>\n",
       "      <td>no</td>\n",
       "      <td>Software_Developer</td>\n",
       "      <td>Parbhani</td>\n",
       "      <td>Maharashtra</td>\n",
       "      <td>9</td>\n",
       "      <td>13</td>\n",
       "      <td>0</td>\n",
       "    </tr>\n",
       "    <tr>\n",
       "      <th>2</th>\n",
       "      <td>3</td>\n",
       "      <td>3991815</td>\n",
       "      <td>66</td>\n",
       "      <td>4</td>\n",
       "      <td>married</td>\n",
       "      <td>rented</td>\n",
       "      <td>no</td>\n",
       "      <td>Technical_writer</td>\n",
       "      <td>Alappuzha</td>\n",
       "      <td>Kerala</td>\n",
       "      <td>4</td>\n",
       "      <td>10</td>\n",
       "      <td>0</td>\n",
       "    </tr>\n",
       "    <tr>\n",
       "      <th>3</th>\n",
       "      <td>4</td>\n",
       "      <td>6256451</td>\n",
       "      <td>41</td>\n",
       "      <td>2</td>\n",
       "      <td>single</td>\n",
       "      <td>rented</td>\n",
       "      <td>yes</td>\n",
       "      <td>Software_Developer</td>\n",
       "      <td>Bhubaneswar</td>\n",
       "      <td>Odisha</td>\n",
       "      <td>2</td>\n",
       "      <td>12</td>\n",
       "      <td>1</td>\n",
       "    </tr>\n",
       "    <tr>\n",
       "      <th>4</th>\n",
       "      <td>5</td>\n",
       "      <td>5768871</td>\n",
       "      <td>47</td>\n",
       "      <td>11</td>\n",
       "      <td>single</td>\n",
       "      <td>rented</td>\n",
       "      <td>no</td>\n",
       "      <td>Civil_servant</td>\n",
       "      <td>Tiruchirappalli[10]</td>\n",
       "      <td>Tamil_Nadu</td>\n",
       "      <td>3</td>\n",
       "      <td>14</td>\n",
       "      <td>1</td>\n",
       "    </tr>\n",
       "  </tbody>\n",
       "</table>\n",
       "</div>"
      ],
      "text/plain": [
       "   Id   Income  Age  Experience Married/Single House_Ownership Car_Ownership  \\\n",
       "0   1  1303834   23           3         single          rented            no   \n",
       "1   2  7574516   40          10         single          rented            no   \n",
       "2   3  3991815   66           4        married          rented            no   \n",
       "3   4  6256451   41           2         single          rented           yes   \n",
       "4   5  5768871   47          11         single          rented            no   \n",
       "\n",
       "            Profession                 CITY           STATE  CURRENT_JOB_YRS  \\\n",
       "0  Mechanical_engineer                 Rewa  Madhya_Pradesh                3   \n",
       "1   Software_Developer             Parbhani     Maharashtra                9   \n",
       "2     Technical_writer            Alappuzha          Kerala                4   \n",
       "3   Software_Developer          Bhubaneswar          Odisha                2   \n",
       "4        Civil_servant  Tiruchirappalli[10]      Tamil_Nadu                3   \n",
       "\n",
       "   CURRENT_HOUSE_YRS  Risk_Flag  \n",
       "0                 13          0  \n",
       "1                 13          0  \n",
       "2                 10          0  \n",
       "3                 12          1  \n",
       "4                 14          1  "
      ]
     },
     "execution_count": 2,
     "metadata": {},
     "output_type": "execute_result"
    }
   ],
   "source": [
    "data = pd.read_csv(\"/kaggle/input/loan-prediction-based-on-customer-behavior/Training Data.csv\")\n",
    "data.head()"
   ]
  },
  {
   "cell_type": "markdown",
   "id": "9a9a749b",
   "metadata": {
    "papermill": {
     "duration": 0.066963,
     "end_time": "2024-08-21T20:22:02.541424",
     "exception": false,
     "start_time": "2024-08-21T20:22:02.474461",
     "status": "completed"
    },
    "tags": []
   },
   "source": [
    "# Recorrer dataset"
   ]
  },
  {
   "cell_type": "code",
   "execution_count": 3,
   "id": "1ed95b63",
   "metadata": {
    "execution": {
     "iopub.execute_input": "2024-08-21T20:22:02.684574Z",
     "iopub.status.busy": "2024-08-21T20:22:02.683475Z",
     "iopub.status.idle": "2024-08-21T20:22:02.688632Z",
     "shell.execute_reply": "2024-08-21T20:22:02.688101Z",
     "shell.execute_reply.started": "2024-08-21T19:35:18.244881Z"
    },
    "papermill": {
     "duration": 0.079166,
     "end_time": "2024-08-21T20:22:02.688806",
     "exception": false,
     "start_time": "2024-08-21T20:22:02.609640",
     "status": "completed"
    },
    "tags": []
   },
   "outputs": [
    {
     "name": "stdout",
     "output_type": "stream",
     "text": [
      "Rows: 252000\n",
      "Columns: 13\n"
     ]
    }
   ],
   "source": [
    "rows, columns = data.shape\n",
    "print('Rows:', rows)\n",
    "print('Columns:', columns)"
   ]
  },
  {
   "cell_type": "code",
   "execution_count": 4,
   "id": "546e801f",
   "metadata": {
    "execution": {
     "iopub.execute_input": "2024-08-21T20:22:02.835094Z",
     "iopub.status.busy": "2024-08-21T20:22:02.834281Z",
     "iopub.status.idle": "2024-08-21T20:22:02.937003Z",
     "shell.execute_reply": "2024-08-21T20:22:02.936403Z",
     "shell.execute_reply.started": "2024-08-21T19:35:18.253498Z"
    },
    "papermill": {
     "duration": 0.178898,
     "end_time": "2024-08-21T20:22:02.937169",
     "exception": false,
     "start_time": "2024-08-21T20:22:02.758271",
     "status": "completed"
    },
    "tags": []
   },
   "outputs": [
    {
     "name": "stdout",
     "output_type": "stream",
     "text": [
      "<class 'pandas.core.frame.DataFrame'>\n",
      "RangeIndex: 252000 entries, 0 to 251999\n",
      "Data columns (total 13 columns):\n",
      " #   Column             Non-Null Count   Dtype \n",
      "---  ------             --------------   ----- \n",
      " 0   Id                 252000 non-null  int64 \n",
      " 1   Income             252000 non-null  int64 \n",
      " 2   Age                252000 non-null  int64 \n",
      " 3   Experience         252000 non-null  int64 \n",
      " 4   Married/Single     252000 non-null  object\n",
      " 5   House_Ownership    252000 non-null  object\n",
      " 6   Car_Ownership      252000 non-null  object\n",
      " 7   Profession         252000 non-null  object\n",
      " 8   CITY               252000 non-null  object\n",
      " 9   STATE              252000 non-null  object\n",
      " 10  CURRENT_JOB_YRS    252000 non-null  int64 \n",
      " 11  CURRENT_HOUSE_YRS  252000 non-null  int64 \n",
      " 12  Risk_Flag          252000 non-null  int64 \n",
      "dtypes: int64(7), object(6)\n",
      "memory usage: 25.0+ MB\n"
     ]
    }
   ],
   "source": [
    "data.info()"
   ]
  },
  {
   "cell_type": "code",
   "execution_count": 5,
   "id": "76b84732",
   "metadata": {
    "execution": {
     "iopub.execute_input": "2024-08-21T20:22:03.082958Z",
     "iopub.status.busy": "2024-08-21T20:22:03.082122Z",
     "iopub.status.idle": "2024-08-21T20:22:03.167436Z",
     "shell.execute_reply": "2024-08-21T20:22:03.166667Z",
     "shell.execute_reply.started": "2024-08-21T19:35:18.478023Z"
    },
    "papermill": {
     "duration": 0.160808,
     "end_time": "2024-08-21T20:22:03.167600",
     "exception": false,
     "start_time": "2024-08-21T20:22:03.006792",
     "status": "completed"
    },
    "tags": []
   },
   "outputs": [
    {
     "data": {
      "text/plain": [
       "Id                   0\n",
       "Income               0\n",
       "Age                  0\n",
       "Experience           0\n",
       "Married/Single       0\n",
       "House_Ownership      0\n",
       "Car_Ownership        0\n",
       "Profession           0\n",
       "CITY                 0\n",
       "STATE                0\n",
       "CURRENT_JOB_YRS      0\n",
       "CURRENT_HOUSE_YRS    0\n",
       "Risk_Flag            0\n",
       "dtype: int64"
      ]
     },
     "execution_count": 5,
     "metadata": {},
     "output_type": "execute_result"
    }
   ],
   "source": [
    "data.isnull().sum()"
   ]
  },
  {
   "cell_type": "code",
   "execution_count": 6,
   "id": "94e743cd",
   "metadata": {
    "execution": {
     "iopub.execute_input": "2024-08-21T20:22:03.311176Z",
     "iopub.status.busy": "2024-08-21T20:22:03.310234Z",
     "iopub.status.idle": "2024-08-21T20:22:03.314709Z",
     "shell.execute_reply": "2024-08-21T20:22:03.314059Z",
     "shell.execute_reply.started": "2024-08-21T19:35:18.668509Z"
    },
    "papermill": {
     "duration": 0.078846,
     "end_time": "2024-08-21T20:22:03.314905",
     "exception": false,
     "start_time": "2024-08-21T20:22:03.236059",
     "status": "completed"
    },
    "tags": []
   },
   "outputs": [
    {
     "data": {
      "text/plain": [
       "Index(['Id', 'Income', 'Age', 'Experience', 'Married/Single',\n",
       "       'House_Ownership', 'Car_Ownership', 'Profession', 'CITY', 'STATE',\n",
       "       'CURRENT_JOB_YRS', 'CURRENT_HOUSE_YRS', 'Risk_Flag'],\n",
       "      dtype='object')"
      ]
     },
     "execution_count": 6,
     "metadata": {},
     "output_type": "execute_result"
    }
   ],
   "source": [
    "data.columns"
   ]
  },
  {
   "cell_type": "markdown",
   "id": "dd68f08b",
   "metadata": {
    "papermill": {
     "duration": 0.06788,
     "end_time": "2024-08-21T20:22:03.451564",
     "exception": false,
     "start_time": "2024-08-21T20:22:03.383684",
     "status": "completed"
    },
    "tags": []
   },
   "source": [
    "# Analizar columnas numericas"
   ]
  },
  {
   "cell_type": "code",
   "execution_count": 7,
   "id": "9ff76406",
   "metadata": {
    "execution": {
     "iopub.execute_input": "2024-08-21T20:22:03.610482Z",
     "iopub.status.busy": "2024-08-21T20:22:03.609694Z",
     "iopub.status.idle": "2024-08-21T20:22:03.691662Z",
     "shell.execute_reply": "2024-08-21T20:22:03.690941Z",
     "shell.execute_reply.started": "2024-08-21T19:35:18.677168Z"
    },
    "papermill": {
     "duration": 0.170779,
     "end_time": "2024-08-21T20:22:03.691833",
     "exception": false,
     "start_time": "2024-08-21T20:22:03.521054",
     "status": "completed"
    },
    "tags": []
   },
   "outputs": [
    {
     "data": {
      "text/html": [
       "<div>\n",
       "<style scoped>\n",
       "    .dataframe tbody tr th:only-of-type {\n",
       "        vertical-align: middle;\n",
       "    }\n",
       "\n",
       "    .dataframe tbody tr th {\n",
       "        vertical-align: top;\n",
       "    }\n",
       "\n",
       "    .dataframe thead th {\n",
       "        text-align: right;\n",
       "    }\n",
       "</style>\n",
       "<table border=\"1\" class=\"dataframe\">\n",
       "  <thead>\n",
       "    <tr style=\"text-align: right;\">\n",
       "      <th></th>\n",
       "      <th>Id</th>\n",
       "      <th>Income</th>\n",
       "      <th>Age</th>\n",
       "      <th>Experience</th>\n",
       "      <th>CURRENT_JOB_YRS</th>\n",
       "      <th>CURRENT_HOUSE_YRS</th>\n",
       "      <th>Risk_Flag</th>\n",
       "    </tr>\n",
       "  </thead>\n",
       "  <tbody>\n",
       "    <tr>\n",
       "      <th>count</th>\n",
       "      <td>252000.000000</td>\n",
       "      <td>2.520000e+05</td>\n",
       "      <td>252000.000000</td>\n",
       "      <td>252000.000000</td>\n",
       "      <td>252000.000000</td>\n",
       "      <td>252000.000000</td>\n",
       "      <td>252000.000000</td>\n",
       "    </tr>\n",
       "    <tr>\n",
       "      <th>mean</th>\n",
       "      <td>126000.500000</td>\n",
       "      <td>4.997117e+06</td>\n",
       "      <td>49.954071</td>\n",
       "      <td>10.084437</td>\n",
       "      <td>6.333877</td>\n",
       "      <td>11.997794</td>\n",
       "      <td>0.123000</td>\n",
       "    </tr>\n",
       "    <tr>\n",
       "      <th>std</th>\n",
       "      <td>72746.278255</td>\n",
       "      <td>2.878311e+06</td>\n",
       "      <td>17.063855</td>\n",
       "      <td>6.002590</td>\n",
       "      <td>3.647053</td>\n",
       "      <td>1.399037</td>\n",
       "      <td>0.328438</td>\n",
       "    </tr>\n",
       "    <tr>\n",
       "      <th>min</th>\n",
       "      <td>1.000000</td>\n",
       "      <td>1.031000e+04</td>\n",
       "      <td>21.000000</td>\n",
       "      <td>0.000000</td>\n",
       "      <td>0.000000</td>\n",
       "      <td>10.000000</td>\n",
       "      <td>0.000000</td>\n",
       "    </tr>\n",
       "    <tr>\n",
       "      <th>25%</th>\n",
       "      <td>63000.750000</td>\n",
       "      <td>2.503015e+06</td>\n",
       "      <td>35.000000</td>\n",
       "      <td>5.000000</td>\n",
       "      <td>3.000000</td>\n",
       "      <td>11.000000</td>\n",
       "      <td>0.000000</td>\n",
       "    </tr>\n",
       "    <tr>\n",
       "      <th>50%</th>\n",
       "      <td>126000.500000</td>\n",
       "      <td>5.000694e+06</td>\n",
       "      <td>50.000000</td>\n",
       "      <td>10.000000</td>\n",
       "      <td>6.000000</td>\n",
       "      <td>12.000000</td>\n",
       "      <td>0.000000</td>\n",
       "    </tr>\n",
       "    <tr>\n",
       "      <th>75%</th>\n",
       "      <td>189000.250000</td>\n",
       "      <td>7.477502e+06</td>\n",
       "      <td>65.000000</td>\n",
       "      <td>15.000000</td>\n",
       "      <td>9.000000</td>\n",
       "      <td>13.000000</td>\n",
       "      <td>0.000000</td>\n",
       "    </tr>\n",
       "    <tr>\n",
       "      <th>max</th>\n",
       "      <td>252000.000000</td>\n",
       "      <td>9.999938e+06</td>\n",
       "      <td>79.000000</td>\n",
       "      <td>20.000000</td>\n",
       "      <td>14.000000</td>\n",
       "      <td>14.000000</td>\n",
       "      <td>1.000000</td>\n",
       "    </tr>\n",
       "  </tbody>\n",
       "</table>\n",
       "</div>"
      ],
      "text/plain": [
       "                  Id        Income            Age     Experience  \\\n",
       "count  252000.000000  2.520000e+05  252000.000000  252000.000000   \n",
       "mean   126000.500000  4.997117e+06      49.954071      10.084437   \n",
       "std     72746.278255  2.878311e+06      17.063855       6.002590   \n",
       "min         1.000000  1.031000e+04      21.000000       0.000000   \n",
       "25%     63000.750000  2.503015e+06      35.000000       5.000000   \n",
       "50%    126000.500000  5.000694e+06      50.000000      10.000000   \n",
       "75%    189000.250000  7.477502e+06      65.000000      15.000000   \n",
       "max    252000.000000  9.999938e+06      79.000000      20.000000   \n",
       "\n",
       "       CURRENT_JOB_YRS  CURRENT_HOUSE_YRS      Risk_Flag  \n",
       "count    252000.000000      252000.000000  252000.000000  \n",
       "mean          6.333877          11.997794       0.123000  \n",
       "std           3.647053           1.399037       0.328438  \n",
       "min           0.000000          10.000000       0.000000  \n",
       "25%           3.000000          11.000000       0.000000  \n",
       "50%           6.000000          12.000000       0.000000  \n",
       "75%           9.000000          13.000000       0.000000  \n",
       "max          14.000000          14.000000       1.000000  "
      ]
     },
     "execution_count": 7,
     "metadata": {},
     "output_type": "execute_result"
    }
   ],
   "source": [
    "data.describe()"
   ]
  },
  {
   "cell_type": "code",
   "execution_count": 8,
   "id": "6505703c",
   "metadata": {
    "execution": {
     "iopub.execute_input": "2024-08-21T20:22:03.839356Z",
     "iopub.status.busy": "2024-08-21T20:22:03.838493Z",
     "iopub.status.idle": "2024-08-21T20:22:03.913132Z",
     "shell.execute_reply": "2024-08-21T20:22:03.912313Z",
     "shell.execute_reply.started": "2024-08-21T19:35:18.783345Z"
    },
    "papermill": {
     "duration": 0.150644,
     "end_time": "2024-08-21T20:22:03.913317",
     "exception": false,
     "start_time": "2024-08-21T20:22:03.762673",
     "status": "completed"
    },
    "tags": []
   },
   "outputs": [
    {
     "data": {
      "text/html": [
       "<div>\n",
       "<style scoped>\n",
       "    .dataframe tbody tr th:only-of-type {\n",
       "        vertical-align: middle;\n",
       "    }\n",
       "\n",
       "    .dataframe tbody tr th {\n",
       "        vertical-align: top;\n",
       "    }\n",
       "\n",
       "    .dataframe thead th {\n",
       "        text-align: right;\n",
       "    }\n",
       "</style>\n",
       "<table border=\"1\" class=\"dataframe\">\n",
       "  <thead>\n",
       "    <tr style=\"text-align: right;\">\n",
       "      <th></th>\n",
       "      <th>Id</th>\n",
       "      <th>Income</th>\n",
       "      <th>Age</th>\n",
       "      <th>Experience</th>\n",
       "      <th>CURRENT_JOB_YRS</th>\n",
       "      <th>CURRENT_HOUSE_YRS</th>\n",
       "      <th>Risk_Flag</th>\n",
       "    </tr>\n",
       "  </thead>\n",
       "  <tbody>\n",
       "    <tr>\n",
       "      <th>Id</th>\n",
       "      <td>1.000000</td>\n",
       "      <td>-0.001324</td>\n",
       "      <td>-0.001816</td>\n",
       "      <td>-0.005810</td>\n",
       "      <td>-0.003250</td>\n",
       "      <td>0.001972</td>\n",
       "      <td>0.032153</td>\n",
       "    </tr>\n",
       "    <tr>\n",
       "      <th>Income</th>\n",
       "      <td>-0.001324</td>\n",
       "      <td>1.000000</td>\n",
       "      <td>-0.000652</td>\n",
       "      <td>0.006422</td>\n",
       "      <td>0.007045</td>\n",
       "      <td>-0.002397</td>\n",
       "      <td>-0.003091</td>\n",
       "    </tr>\n",
       "    <tr>\n",
       "      <th>Age</th>\n",
       "      <td>-0.001816</td>\n",
       "      <td>-0.000652</td>\n",
       "      <td>1.000000</td>\n",
       "      <td>-0.001118</td>\n",
       "      <td>0.002154</td>\n",
       "      <td>-0.020134</td>\n",
       "      <td>-0.021809</td>\n",
       "    </tr>\n",
       "    <tr>\n",
       "      <th>Experience</th>\n",
       "      <td>-0.005810</td>\n",
       "      <td>0.006422</td>\n",
       "      <td>-0.001118</td>\n",
       "      <td>1.000000</td>\n",
       "      <td>0.646098</td>\n",
       "      <td>0.019309</td>\n",
       "      <td>-0.034523</td>\n",
       "    </tr>\n",
       "    <tr>\n",
       "      <th>CURRENT_JOB_YRS</th>\n",
       "      <td>-0.003250</td>\n",
       "      <td>0.007045</td>\n",
       "      <td>0.002154</td>\n",
       "      <td>0.646098</td>\n",
       "      <td>1.000000</td>\n",
       "      <td>0.005372</td>\n",
       "      <td>-0.016942</td>\n",
       "    </tr>\n",
       "    <tr>\n",
       "      <th>CURRENT_HOUSE_YRS</th>\n",
       "      <td>0.001972</td>\n",
       "      <td>-0.002397</td>\n",
       "      <td>-0.020134</td>\n",
       "      <td>0.019309</td>\n",
       "      <td>0.005372</td>\n",
       "      <td>1.000000</td>\n",
       "      <td>-0.004375</td>\n",
       "    </tr>\n",
       "    <tr>\n",
       "      <th>Risk_Flag</th>\n",
       "      <td>0.032153</td>\n",
       "      <td>-0.003091</td>\n",
       "      <td>-0.021809</td>\n",
       "      <td>-0.034523</td>\n",
       "      <td>-0.016942</td>\n",
       "      <td>-0.004375</td>\n",
       "      <td>1.000000</td>\n",
       "    </tr>\n",
       "  </tbody>\n",
       "</table>\n",
       "</div>"
      ],
      "text/plain": [
       "                         Id    Income       Age  Experience  CURRENT_JOB_YRS  \\\n",
       "Id                 1.000000 -0.001324 -0.001816   -0.005810        -0.003250   \n",
       "Income            -0.001324  1.000000 -0.000652    0.006422         0.007045   \n",
       "Age               -0.001816 -0.000652  1.000000   -0.001118         0.002154   \n",
       "Experience        -0.005810  0.006422 -0.001118    1.000000         0.646098   \n",
       "CURRENT_JOB_YRS   -0.003250  0.007045  0.002154    0.646098         1.000000   \n",
       "CURRENT_HOUSE_YRS  0.001972 -0.002397 -0.020134    0.019309         0.005372   \n",
       "Risk_Flag          0.032153 -0.003091 -0.021809   -0.034523        -0.016942   \n",
       "\n",
       "                   CURRENT_HOUSE_YRS  Risk_Flag  \n",
       "Id                          0.001972   0.032153  \n",
       "Income                     -0.002397  -0.003091  \n",
       "Age                        -0.020134  -0.021809  \n",
       "Experience                  0.019309  -0.034523  \n",
       "CURRENT_JOB_YRS             0.005372  -0.016942  \n",
       "CURRENT_HOUSE_YRS           1.000000  -0.004375  \n",
       "Risk_Flag                  -0.004375   1.000000  "
      ]
     },
     "execution_count": 8,
     "metadata": {},
     "output_type": "execute_result"
    }
   ],
   "source": [
    "data.corr()"
   ]
  },
  {
   "cell_type": "code",
   "execution_count": 9,
   "id": "7c42a018",
   "metadata": {
    "execution": {
     "iopub.execute_input": "2024-08-21T20:22:04.059083Z",
     "iopub.status.busy": "2024-08-21T20:22:04.058270Z",
     "iopub.status.idle": "2024-08-21T20:22:05.710645Z",
     "shell.execute_reply": "2024-08-21T20:22:05.711323Z",
     "shell.execute_reply.started": "2024-08-21T19:35:18.873683Z"
    },
    "papermill": {
     "duration": 1.728353,
     "end_time": "2024-08-21T20:22:05.711549",
     "exception": false,
     "start_time": "2024-08-21T20:22:03.983196",
     "status": "completed"
    },
    "tags": []
   },
   "outputs": [
    {
     "data": {
      "image/png": "[encoded data removed]",
      "text/plain": [
       "<Figure size 1584x1440 with 9 Axes>"
      ]
     },
     "metadata": {},
     "output_type": "display_data"
    }
   ],
   "source": [
    "data.hist( figsize = (22, 20) )\n",
    "plt.show()"
   ]
  },
  {
   "cell_type": "code",
   "execution_count": 10,
   "id": "c60d5fcf",
   "metadata": {
    "execution": {
     "iopub.execute_input": "2024-08-21T20:22:05.870664Z",
     "iopub.status.busy": "2024-08-21T20:22:05.869882Z",
     "iopub.status.idle": "2024-08-21T20:22:05.873821Z",
     "shell.execute_reply": "2024-08-21T20:22:05.873219Z",
     "shell.execute_reply.started": "2024-08-21T19:35:20.729540Z"
    },
    "papermill": {
     "duration": 0.088122,
     "end_time": "2024-08-21T20:22:05.873976",
     "exception": false,
     "start_time": "2024-08-21T20:22:05.785854",
     "status": "completed"
    },
    "tags": []
   },
   "outputs": [
    {
     "data": {
      "text/plain": [
       "0    221004\n",
       "1     30996\n",
       "Name: Risk_Flag, dtype: int64"
      ]
     },
     "execution_count": 10,
     "metadata": {},
     "output_type": "execute_result"
    }
   ],
   "source": [
    "data[\"Risk_Flag\"].value_counts()"
   ]
  },
  {
   "cell_type": "code",
   "execution_count": 11,
   "id": "b3b8304c",
   "metadata": {
    "execution": {
     "iopub.execute_input": "2024-08-21T20:22:06.055547Z",
     "iopub.status.busy": "2024-08-21T20:22:06.054739Z",
     "iopub.status.idle": "2024-08-21T20:22:06.596929Z",
     "shell.execute_reply": "2024-08-21T20:22:06.596205Z",
     "shell.execute_reply.started": "2024-08-21T19:35:20.742184Z"
    },
    "papermill": {
     "duration": 0.645164,
     "end_time": "2024-08-21T20:22:06.597080",
     "exception": false,
     "start_time": "2024-08-21T20:22:05.951916",
     "status": "completed"
    },
    "tags": []
   },
   "outputs": [
    {
     "data": {
      "image/png": "[encoded data removed]",
      "text/plain": [
       "<Figure size 864x576 with 2 Axes>"
      ]
     },
     "metadata": {},
     "output_type": "display_data"
    }
   ],
   "source": [
    "fig, ax = plt.subplots( figsize = (12,8) )\n",
    "\n",
    "corr_matrix = data.corr()\n",
    "corr_heatmap = sns.heatmap( corr_matrix, cmap = \"flare\", annot=True, ax=ax, annot_kws={\"size\": 14})\n",
    "\n",
    "plt.show()"
   ]
  },
  {
   "cell_type": "markdown",
   "id": "b995a585",
   "metadata": {
    "papermill": {
     "duration": 0.074394,
     "end_time": "2024-08-21T20:22:06.747550",
     "exception": false,
     "start_time": "2024-08-21T20:22:06.673156",
     "status": "completed"
    },
    "tags": []
   },
   "source": [
    "# Analizar columnas categoricas"
   ]
  },
  {
   "cell_type": "code",
   "execution_count": 12,
   "id": "5a3cf5e9",
   "metadata": {
    "execution": {
     "iopub.execute_input": "2024-08-21T20:22:06.904664Z",
     "iopub.status.busy": "2024-08-21T20:22:06.903870Z",
     "iopub.status.idle": "2024-08-21T20:22:06.907345Z",
     "shell.execute_reply": "2024-08-21T20:22:06.906735Z",
     "shell.execute_reply.started": "2024-08-21T19:35:21.518341Z"
    },
    "papermill": {
     "duration": 0.084449,
     "end_time": "2024-08-21T20:22:06.907516",
     "exception": false,
     "start_time": "2024-08-21T20:22:06.823067",
     "status": "completed"
    },
    "tags": []
   },
   "outputs": [],
   "source": [
    "def categorical_valcount_hist(feature):\n",
    "    print(data[feature].value_counts())\n",
    "    fig, ax = plt.subplots( figsize = (6,6) )\n",
    "    sns.countplot(x=feature, ax=ax, data=data)\n",
    "    plt.show()"
   ]
  },
  {
   "cell_type": "code",
   "execution_count": 13,
   "id": "22fdec28",
   "metadata": {
    "execution": {
     "iopub.execute_input": "2024-08-21T20:22:07.091141Z",
     "iopub.status.busy": "2024-08-21T20:22:07.089223Z",
     "iopub.status.idle": "2024-08-21T20:22:07.519094Z",
     "shell.execute_reply": "2024-08-21T20:22:07.519629Z",
     "shell.execute_reply.started": "2024-08-21T19:35:21.527392Z"
    },
    "papermill": {
     "duration": 0.534208,
     "end_time": "2024-08-21T20:22:07.519866",
     "exception": false,
     "start_time": "2024-08-21T20:22:06.985658",
     "status": "completed"
    },
    "tags": []
   },
   "outputs": [
    {
     "name": "stdout",
     "output_type": "stream",
     "text": [
      "single     226272\n",
      "married     25728\n",
      "Name: Married/Single, dtype: int64\n"
     ]
    },
    {
     "data": {
      "image/png": "[encoded data removed]",
      "text/plain": [
       "<Figure size 432x432 with 1 Axes>"
      ]
     },
     "metadata": {},
     "output_type": "display_data"
    }
   ],
   "source": [
    "categorical_valcount_hist(\"Married/Single\")"
   ]
  },
  {
   "cell_type": "code",
   "execution_count": 14,
   "id": "21342dff",
   "metadata": {
    "execution": {
     "iopub.execute_input": "2024-08-21T20:22:07.719176Z",
     "iopub.status.busy": "2024-08-21T20:22:07.704489Z",
     "iopub.status.idle": "2024-08-21T20:22:08.044275Z",
     "shell.execute_reply": "2024-08-21T20:22:08.043591Z",
     "shell.execute_reply.started": "2024-08-21T19:35:22.049847Z"
    },
    "papermill": {
     "duration": 0.445001,
     "end_time": "2024-08-21T20:22:08.044468",
     "exception": false,
     "start_time": "2024-08-21T20:22:07.599467",
     "status": "completed"
    },
    "tags": []
   },
   "outputs": [
    {
     "name": "stdout",
     "output_type": "stream",
     "text": [
      "rented          231898\n",
      "owned            12918\n",
      "norent_noown      7184\n",
      "Name: House_Ownership, dtype: int64\n"
     ]
    },
    {
     "data": {
      "image/png": "[encoded data removed]",
      "text/plain": [
       "<Figure size 432x432 with 1 Axes>"
      ]
     },
     "metadata": {},
     "output_type": "display_data"
    }
   ],
   "source": [
    "categorical_valcount_hist(\"House_Ownership\")"
   ]
  },
  {
   "cell_type": "code",
   "execution_count": 15,
   "id": "690c4265",
   "metadata": {
    "execution": {
     "iopub.execute_input": "2024-08-21T20:22:08.226361Z",
     "iopub.status.busy": "2024-08-21T20:22:08.225588Z",
     "iopub.status.idle": "2024-08-21T20:22:08.256295Z",
     "shell.execute_reply": "2024-08-21T20:22:08.257040Z",
     "shell.execute_reply.started": "2024-08-21T19:35:22.577523Z"
    },
    "papermill": {
     "duration": 0.132775,
     "end_time": "2024-08-21T20:22:08.257236",
     "exception": false,
     "start_time": "2024-08-21T20:22:08.124461",
     "status": "completed"
    },
    "tags": []
   },
   "outputs": [
    {
     "name": "stdout",
     "output_type": "stream",
     "text": [
      "Total categories in STATE: 29\n",
      "\n",
      "Uttar_Pradesh        28400\n",
      "Maharashtra          25562\n",
      "Andhra_Pradesh       25297\n",
      "West_Bengal          23483\n",
      "Bihar                19780\n",
      "Tamil_Nadu           16537\n",
      "Madhya_Pradesh       14122\n",
      "Karnataka            11855\n",
      "Gujarat              11408\n",
      "Rajasthan             9174\n",
      "Jharkhand             8965\n",
      "Haryana               7890\n",
      "Telangana             7524\n",
      "Assam                 7062\n",
      "Kerala                5805\n",
      "Delhi                 5490\n",
      "Punjab                4720\n",
      "Odisha                4658\n",
      "Chhattisgarh          3834\n",
      "Uttarakhand           1874\n",
      "Jammu_and_Kashmir     1780\n",
      "Puducherry            1433\n",
      "Mizoram                849\n",
      "Manipur                849\n",
      "Himachal_Pradesh       833\n",
      "Tripura                809\n",
      "Uttar_Pradesh[5]       743\n",
      "Chandigarh             656\n",
      "Sikkim                 608\n",
      "Name: STATE, dtype: int64\n"
     ]
    }
   ],
   "source": [
    "print( \"Total categories in STATE:\", len( data[\"STATE\"].unique() ) )\n",
    "print()\n",
    "print( data[\"STATE\"].value_counts() )"
   ]
  },
  {
   "cell_type": "code",
   "execution_count": 16,
   "id": "d1e68d5f",
   "metadata": {
    "execution": {
     "iopub.execute_input": "2024-08-21T20:22:08.432436Z",
     "iopub.status.busy": "2024-08-21T20:22:08.431675Z",
     "iopub.status.idle": "2024-08-21T20:22:08.467360Z",
     "shell.execute_reply": "2024-08-21T20:22:08.467915Z",
     "shell.execute_reply.started": "2024-08-21T19:35:22.664884Z"
    },
    "papermill": {
     "duration": 0.132681,
     "end_time": "2024-08-21T20:22:08.468122",
     "exception": false,
     "start_time": "2024-08-21T20:22:08.335441",
     "status": "completed"
    },
    "tags": []
   },
   "outputs": [
    {
     "name": "stdout",
     "output_type": "stream",
     "text": [
      "Total categories in Profession: 51\n",
      "\n"
     ]
    },
    {
     "data": {
      "text/plain": [
       "Physician                     5957\n",
       "Statistician                  5806\n",
       "Web_designer                  5397\n",
       "Psychologist                  5390\n",
       "Computer_hardware_engineer    5372\n",
       "Drafter                       5359\n",
       "Magistrate                    5357\n",
       "Fashion_Designer              5304\n",
       "Air_traffic_controller        5281\n",
       "Comedian                      5259\n",
       "Industrial_Engineer           5250\n",
       "Mechanical_engineer           5217\n",
       "Chemical_engineer             5205\n",
       "Technical_writer              5195\n",
       "Hotel_Manager                 5178\n",
       "Financial_Analyst             5167\n",
       "Graphic_Designer              5166\n",
       "Flight_attendant              5128\n",
       "Biomedical_Engineer           5127\n",
       "Secretary                     5061\n",
       "Software_Developer            5053\n",
       "Petroleum_Engineer            5041\n",
       "Police_officer                5035\n",
       "Computer_operator             4990\n",
       "Politician                    4944\n",
       "Microbiologist                4881\n",
       "Technician                    4864\n",
       "Artist                        4861\n",
       "Lawyer                        4818\n",
       "Consultant                    4808\n",
       "Dentist                       4782\n",
       "Scientist                     4781\n",
       "Surgeon                       4772\n",
       "Aviator                       4758\n",
       "Technology_specialist         4737\n",
       "Design_Engineer               4729\n",
       "Surveyor                      4714\n",
       "Geologist                     4672\n",
       "Analyst                       4668\n",
       "Army_officer                  4661\n",
       "Architect                     4657\n",
       "Chef                          4635\n",
       "Librarian                     4628\n",
       "Civil_engineer                4616\n",
       "Designer                      4598\n",
       "Economist                     4573\n",
       "Firefighter                   4507\n",
       "Chartered_Accountant          4493\n",
       "Civil_servant                 4413\n",
       "Official                      4087\n",
       "Engineer                      4048\n",
       "Name: Profession, dtype: int64"
      ]
     },
     "execution_count": 16,
     "metadata": {},
     "output_type": "execute_result"
    }
   ],
   "source": [
    "print( \"Total categories in Profession:\", len( data[\"Profession\"].unique() ) )\n",
    "print()\n",
    "data[\"Profession\"].value_counts()"
   ]
  },
  {
   "cell_type": "markdown",
   "id": "14903dd0",
   "metadata": {
    "papermill": {
     "duration": 0.077762,
     "end_time": "2024-08-21T20:22:08.625086",
     "exception": false,
     "start_time": "2024-08-21T20:22:08.547324",
     "status": "completed"
    },
    "tags": []
   },
   "source": [
    "# Data Analysis"
   ]
  },
  {
   "cell_type": "code",
   "execution_count": 17,
   "id": "d5a96293",
   "metadata": {
    "execution": {
     "iopub.execute_input": "2024-08-21T20:22:08.858686Z",
     "iopub.status.busy": "2024-08-21T20:22:08.857913Z",
     "iopub.status.idle": "2024-08-21T20:22:08.873355Z",
     "shell.execute_reply": "2024-08-21T20:22:08.872681Z",
     "shell.execute_reply.started": "2024-08-21T19:35:22.750423Z"
    },
    "papermill": {
     "duration": 0.169443,
     "end_time": "2024-08-21T20:22:08.873519",
     "exception": false,
     "start_time": "2024-08-21T20:22:08.704076",
     "status": "completed"
    },
    "tags": []
   },
   "outputs": [
    {
     "name": "stdout",
     "output_type": "stream",
     "text": [
      "<class 'pandas.core.frame.DataFrame'>\n",
      "RangeIndex: 252000 entries, 0 to 251999\n",
      "Data columns (total 13 columns):\n",
      " #   Column             Non-Null Count   Dtype \n",
      "---  ------             --------------   ----- \n",
      " 0   Id                 252000 non-null  int64 \n",
      " 1   Income             252000 non-null  int64 \n",
      " 2   Age                252000 non-null  int64 \n",
      " 3   Experience         252000 non-null  int64 \n",
      " 4   Married/Single     252000 non-null  object\n",
      " 5   House_Ownership    252000 non-null  object\n",
      " 6   Car_Ownership      252000 non-null  object\n",
      " 7   Profession         252000 non-null  object\n",
      " 8   CITY               252000 non-null  object\n",
      " 9   STATE              252000 non-null  object\n",
      " 10  CURRENT_JOB_YRS    252000 non-null  int64 \n",
      " 11  CURRENT_HOUSE_YRS  252000 non-null  int64 \n",
      " 12  Risk_Flag          252000 non-null  int64 \n",
      "dtypes: int64(7), object(6)\n",
      "memory usage: 25.0+ MB\n"
     ]
    }
   ],
   "source": [
    "data.info()"
   ]
  },
  {
   "cell_type": "code",
   "execution_count": 18,
   "id": "b20f1636",
   "metadata": {
    "execution": {
     "iopub.execute_input": "2024-08-21T20:22:09.039278Z",
     "iopub.status.busy": "2024-08-21T20:22:09.038501Z",
     "iopub.status.idle": "2024-08-21T20:22:09.268012Z",
     "shell.execute_reply": "2024-08-21T20:22:09.267426Z",
     "shell.execute_reply.started": "2024-08-21T19:35:22.946906Z"
    },
    "papermill": {
     "duration": 0.315029,
     "end_time": "2024-08-21T20:22:09.268175",
     "exception": false,
     "start_time": "2024-08-21T20:22:08.953146",
     "status": "completed"
    },
    "tags": []
   },
   "outputs": [
    {
     "data": {
      "text/plain": [
       "<AxesSubplot:xlabel='Risk_Flag', ylabel='Income'>"
      ]
     },
     "execution_count": 18,
     "metadata": {},
     "output_type": "execute_result"
    },
    {
     "data": {
      "image/png": "[encoded data removed]",
      "text/plain": [
       "<Figure size 432x288 with 1 Axes>"
      ]
     },
     "metadata": {},
     "output_type": "display_data"
    }
   ],
   "source": [
    "sns.boxplot(x =\"Risk_Flag\",y=\"Income\" ,data = data)"
   ]
  },
  {
   "cell_type": "code",
   "execution_count": 19,
   "id": "975dc445",
   "metadata": {
    "execution": {
     "iopub.execute_input": "2024-08-21T20:22:09.434557Z",
     "iopub.status.busy": "2024-08-21T20:22:09.433437Z",
     "iopub.status.idle": "2024-08-21T20:22:09.668545Z",
     "shell.execute_reply": "2024-08-21T20:22:09.667902Z",
     "shell.execute_reply.started": "2024-08-21T19:35:23.229221Z"
    },
    "papermill": {
     "duration": 0.321207,
     "end_time": "2024-08-21T20:22:09.668702",
     "exception": false,
     "start_time": "2024-08-21T20:22:09.347495",
     "status": "completed"
    },
    "tags": []
   },
   "outputs": [
    {
     "data": {
      "text/plain": [
       "<AxesSubplot:xlabel='Risk_Flag', ylabel='Age'>"
      ]
     },
     "execution_count": 19,
     "metadata": {},
     "output_type": "execute_result"
    },
    {
     "data": {
      "image/png": "[encoded data removed]",
      "text/plain": [
       "<Figure size 432x288 with 1 Axes>"
      ]
     },
     "metadata": {},
     "output_type": "display_data"
    }
   ],
   "source": [
    "sns.boxplot(x =\"Risk_Flag\",y=\"Age\" ,data = data)"
   ]
  },
  {
   "cell_type": "code",
   "execution_count": 20,
   "id": "61f57e4e",
   "metadata": {
    "execution": {
     "iopub.execute_input": "2024-08-21T20:22:09.845178Z",
     "iopub.status.busy": "2024-08-21T20:22:09.844449Z",
     "iopub.status.idle": "2024-08-21T20:22:10.092004Z",
     "shell.execute_reply": "2024-08-21T20:22:10.091376Z",
     "shell.execute_reply.started": "2024-08-21T19:35:23.510424Z"
    },
    "papermill": {
     "duration": 0.339925,
     "end_time": "2024-08-21T20:22:10.092168",
     "exception": false,
     "start_time": "2024-08-21T20:22:09.752243",
     "status": "completed"
    },
    "tags": []
   },
   "outputs": [
    {
     "data": {
      "text/plain": [
       "<AxesSubplot:xlabel='Risk_Flag', ylabel='Experience'>"
      ]
     },
     "execution_count": 20,
     "metadata": {},
     "output_type": "execute_result"
    },
    {
     "data": {
      "image/png": "[encoded data removed]",
      "text/plain": [
       "<Figure size 432x288 with 1 Axes>"
      ]
     },
     "metadata": {},
     "output_type": "display_data"
    }
   ],
   "source": [
    "sns.boxplot(x =\"Risk_Flag\",y=\"Experience\" ,data = data)"
   ]
  },
  {
   "cell_type": "code",
   "execution_count": 21,
   "id": "05819f85",
   "metadata": {
    "execution": {
     "iopub.execute_input": "2024-08-21T20:22:10.267533Z",
     "iopub.status.busy": "2024-08-21T20:22:10.266696Z",
     "iopub.status.idle": "2024-08-21T20:22:10.502966Z",
     "shell.execute_reply": "2024-08-21T20:22:10.503472Z",
     "shell.execute_reply.started": "2024-08-21T19:35:23.833329Z"
    },
    "papermill": {
     "duration": 0.32493,
     "end_time": "2024-08-21T20:22:10.503667",
     "exception": false,
     "start_time": "2024-08-21T20:22:10.178737",
     "status": "completed"
    },
    "tags": []
   },
   "outputs": [
    {
     "data": {
      "text/plain": [
       "<AxesSubplot:xlabel='Risk_Flag', ylabel='CURRENT_JOB_YRS'>"
      ]
     },
     "execution_count": 21,
     "metadata": {},
     "output_type": "execute_result"
    },
    {
     "data": {
      "image/png": "[encoded data removed]",
      "text/plain": [
       "<Figure size 432x288 with 1 Axes>"
      ]
     },
     "metadata": {},
     "output_type": "display_data"
    }
   ],
   "source": [
    "sns.boxplot(x =\"Risk_Flag\",y=\"CURRENT_JOB_YRS\" ,data = data)"
   ]
  },
  {
   "cell_type": "code",
   "execution_count": 22,
   "id": "7ce952dc",
   "metadata": {
    "execution": {
     "iopub.execute_input": "2024-08-21T20:22:10.679104Z",
     "iopub.status.busy": "2024-08-21T20:22:10.678384Z",
     "iopub.status.idle": "2024-08-21T20:22:10.924654Z",
     "shell.execute_reply": "2024-08-21T20:22:10.925225Z",
     "shell.execute_reply.started": "2024-08-21T19:35:24.117071Z"
    },
    "papermill": {
     "duration": 0.336655,
     "end_time": "2024-08-21T20:22:10.925428",
     "exception": false,
     "start_time": "2024-08-21T20:22:10.588773",
     "status": "completed"
    },
    "tags": []
   },
   "outputs": [
    {
     "data": {
      "text/plain": [
       "<AxesSubplot:xlabel='Risk_Flag', ylabel='CURRENT_HOUSE_YRS'>"
      ]
     },
     "execution_count": 22,
     "metadata": {},
     "output_type": "execute_result"
    },
    {
     "data": {
      "image/png": "[encoded data removed]",
      "text/plain": [
       "<Figure size 432x288 with 1 Axes>"
      ]
     },
     "metadata": {},
     "output_type": "display_data"
    }
   ],
   "source": [
    "sns.boxplot(x =\"Risk_Flag\",y=\"CURRENT_HOUSE_YRS\" ,data = data)"
   ]
  },
  {
   "cell_type": "code",
   "execution_count": 23,
   "id": "8f68c7d4",
   "metadata": {
    "execution": {
     "iopub.execute_input": "2024-08-21T20:22:11.136101Z",
     "iopub.status.busy": "2024-08-21T20:22:11.122038Z",
     "iopub.status.idle": "2024-08-21T20:22:11.568778Z",
     "shell.execute_reply": "2024-08-21T20:22:11.568028Z",
     "shell.execute_reply.started": "2024-08-21T19:35:24.413873Z"
    },
    "papermill": {
     "duration": 0.556653,
     "end_time": "2024-08-21T20:22:11.568936",
     "exception": false,
     "start_time": "2024-08-21T20:22:11.012283",
     "status": "completed"
    },
    "tags": []
   },
   "outputs": [
    {
     "data": {
      "text/plain": [
       "<AxesSubplot:xlabel='House_Ownership', ylabel='count'>"
      ]
     },
     "execution_count": 23,
     "metadata": {},
     "output_type": "execute_result"
    },
    {
     "data": {
      "image/png": "[encoded data removed]",
      "text/plain": [
       "<Figure size 576x432 with 1 Axes>"
      ]
     },
     "metadata": {},
     "output_type": "display_data"
    }
   ],
   "source": [
    "fig, ax = plt.subplots( figsize = (8, 6) )\n",
    "sns.countplot(x='House_Ownership', hue='Risk_Flag', ax=ax, data=data)"
   ]
  },
  {
   "cell_type": "code",
   "execution_count": 24,
   "id": "a2a43d7e",
   "metadata": {
    "execution": {
     "iopub.execute_input": "2024-08-21T20:22:11.769081Z",
     "iopub.status.busy": "2024-08-21T20:22:11.768039Z",
     "iopub.status.idle": "2024-08-21T20:22:12.204718Z",
     "shell.execute_reply": "2024-08-21T20:22:12.204020Z",
     "shell.execute_reply.started": "2024-08-21T19:35:25.097103Z"
    },
    "papermill": {
     "duration": 0.548568,
     "end_time": "2024-08-21T20:22:12.204888",
     "exception": false,
     "start_time": "2024-08-21T20:22:11.656320",
     "status": "completed"
    },
    "tags": []
   },
   "outputs": [
    {
     "data": {
      "text/plain": [
       "<AxesSubplot:xlabel='Car_Ownership', ylabel='count'>"
      ]
     },
     "execution_count": 24,
     "metadata": {},
     "output_type": "execute_result"
    },
    {
     "data": {
      "image/png": "[encoded data removed]",
      "text/plain": [
       "<Figure size 576x432 with 1 Axes>"
      ]
     },
     "metadata": {},
     "output_type": "display_data"
    }
   ],
   "source": [
    "fig, ax = plt.subplots( figsize = (8,6) )\n",
    "sns.countplot(x='Car_Ownership', hue='Risk_Flag', ax=ax, data=data)"
   ]
  },
  {
   "cell_type": "code",
   "execution_count": 25,
   "id": "f8332d2f",
   "metadata": {
    "execution": {
     "iopub.execute_input": "2024-08-21T20:22:12.403083Z",
     "iopub.status.busy": "2024-08-21T20:22:12.394850Z",
     "iopub.status.idle": "2024-08-21T20:22:12.839347Z",
     "shell.execute_reply": "2024-08-21T20:22:12.838605Z",
     "shell.execute_reply.started": "2024-08-21T19:35:25.771323Z"
    },
    "papermill": {
     "duration": 0.545291,
     "end_time": "2024-08-21T20:22:12.839510",
     "exception": false,
     "start_time": "2024-08-21T20:22:12.294219",
     "status": "completed"
    },
    "tags": []
   },
   "outputs": [
    {
     "data": {
      "text/plain": [
       "<AxesSubplot:xlabel='Married/Single', ylabel='count'>"
      ]
     },
     "execution_count": 25,
     "metadata": {},
     "output_type": "execute_result"
    },
    {
     "data": {
      "image/png": "[encoded data removed]",
      "text/plain": [
       "<Figure size 576x432 with 1 Axes>"
      ]
     },
     "metadata": {},
     "output_type": "display_data"
    }
   ],
   "source": [
    "fig, ax = plt.subplots( figsize = (8,6) )\n",
    "sns.countplot( x='Married/Single', hue='Risk_Flag', data=data )"
   ]
  },
  {
   "cell_type": "code",
   "execution_count": 26,
   "id": "76e6cae9",
   "metadata": {
    "execution": {
     "iopub.execute_input": "2024-08-21T20:22:13.049216Z",
     "iopub.status.busy": "2024-08-21T20:22:13.042018Z",
     "iopub.status.idle": "2024-08-21T20:22:13.630328Z",
     "shell.execute_reply": "2024-08-21T20:22:13.630862Z",
     "shell.execute_reply.started": "2024-08-21T19:35:26.443363Z"
    },
    "papermill": {
     "duration": 0.70009,
     "end_time": "2024-08-21T20:22:13.631051",
     "exception": false,
     "start_time": "2024-08-21T20:22:12.930961",
     "status": "completed"
    },
    "tags": []
   },
   "outputs": [
    {
     "data": {
      "text/plain": [
       "<AxesSubplot:xlabel='Risk_Flag', ylabel='CURRENT_JOB_YRS'>"
      ]
     },
     "execution_count": 26,
     "metadata": {},
     "output_type": "execute_result"
    },
    {
     "data": {
      "image/png": "[encoded data removed]",
      "text/plain": [
       "<Figure size 720x576 with 1 Axes>"
      ]
     },
     "metadata": {},
     "output_type": "display_data"
    }
   ],
   "source": [
    "fig, ax = plt.subplots( figsize = (10,8) )\n",
    "sns.boxplot(x = \"Risk_Flag\", y = \"CURRENT_JOB_YRS\", hue='House_Ownership', data = data)"
   ]
  },
  {
   "cell_type": "markdown",
   "id": "64583d28",
   "metadata": {
    "papermill": {
     "duration": 0.092876,
     "end_time": "2024-08-21T20:22:13.817013",
     "exception": false,
     "start_time": "2024-08-21T20:22:13.724137",
     "status": "completed"
    },
    "tags": []
   },
   "source": [
    "# Feature Engineering"
   ]
  },
  {
   "cell_type": "markdown",
   "id": "ddbdf372",
   "metadata": {
    "papermill": {
     "duration": 0.090713,
     "end_time": "2024-08-21T20:22:13.998592",
     "exception": false,
     "start_time": "2024-08-21T20:22:13.907879",
     "status": "completed"
    },
    "tags": []
   },
   "source": [
    "Se procesara a las variables categoricas de la siguiente manera:\n",
    "\n",
    "marital_status, car_ownership – binarise\n",
    "\n",
    "house_ownership – one-hot\n",
    "\n",
    "profession, city, state – target encoding"
   ]
  },
  {
   "cell_type": "code",
   "execution_count": 27,
   "id": "4fcfdbc8",
   "metadata": {
    "execution": {
     "iopub.execute_input": "2024-08-21T20:22:14.190792Z",
     "iopub.status.busy": "2024-08-21T20:22:14.189967Z",
     "iopub.status.idle": "2024-08-21T20:22:14.536962Z",
     "shell.execute_reply": "2024-08-21T20:22:14.536096Z",
     "shell.execute_reply.started": "2024-08-21T19:35:27.285372Z"
    },
    "papermill": {
     "duration": 0.446333,
     "end_time": "2024-08-21T20:22:14.537131",
     "exception": false,
     "start_time": "2024-08-21T20:22:14.090798",
     "status": "completed"
    },
    "tags": []
   },
   "outputs": [],
   "source": [
    "from sklearn.preprocessing import LabelEncoder\n",
    "from sklearn.preprocessing import OneHotEncoder\n",
    "import category_encoders as ce"
   ]
  },
  {
   "cell_type": "code",
   "execution_count": 28,
   "id": "a96f46fc",
   "metadata": {
    "execution": {
     "iopub.execute_input": "2024-08-21T20:22:14.796305Z",
     "iopub.status.busy": "2024-08-21T20:22:14.795527Z",
     "iopub.status.idle": "2024-08-21T20:22:14.810929Z",
     "shell.execute_reply": "2024-08-21T20:22:14.811484Z",
     "shell.execute_reply.started": "2024-08-21T19:35:27.724822Z"
    },
    "papermill": {
     "duration": 0.182933,
     "end_time": "2024-08-21T20:22:14.811694",
     "exception": false,
     "start_time": "2024-08-21T20:22:14.628761",
     "status": "completed"
    },
    "tags": []
   },
   "outputs": [
    {
     "name": "stdout",
     "output_type": "stream",
     "text": [
      "<class 'pandas.core.frame.DataFrame'>\n",
      "RangeIndex: 252000 entries, 0 to 251999\n",
      "Data columns (total 13 columns):\n",
      " #   Column             Non-Null Count   Dtype \n",
      "---  ------             --------------   ----- \n",
      " 0   Id                 252000 non-null  int64 \n",
      " 1   Income             252000 non-null  int64 \n",
      " 2   Age                252000 non-null  int64 \n",
      " 3   Experience         252000 non-null  int64 \n",
      " 4   Married/Single     252000 non-null  object\n",
      " 5   House_Ownership    252000 non-null  object\n",
      " 6   Car_Ownership      252000 non-null  object\n",
      " 7   Profession         252000 non-null  object\n",
      " 8   CITY               252000 non-null  object\n",
      " 9   STATE              252000 non-null  object\n",
      " 10  CURRENT_JOB_YRS    252000 non-null  int64 \n",
      " 11  CURRENT_HOUSE_YRS  252000 non-null  int64 \n",
      " 12  Risk_Flag          252000 non-null  int64 \n",
      "dtypes: int64(7), object(6)\n",
      "memory usage: 25.0+ MB\n"
     ]
    }
   ],
   "source": [
    "data.info()"
   ]
  },
  {
   "cell_type": "code",
   "execution_count": 29,
   "id": "1f190870",
   "metadata": {
    "execution": {
     "iopub.execute_input": "2024-08-21T20:22:15.036553Z",
     "iopub.status.busy": "2024-08-21T20:22:15.031433Z",
     "iopub.status.idle": "2024-08-21T20:22:15.153722Z",
     "shell.execute_reply": "2024-08-21T20:22:15.152797Z",
     "shell.execute_reply.started": "2024-08-21T19:35:27.914717Z"
    },
    "papermill": {
     "duration": 0.248958,
     "end_time": "2024-08-21T20:22:15.153920",
     "exception": false,
     "start_time": "2024-08-21T20:22:14.904962",
     "status": "completed"
    },
    "tags": []
   },
   "outputs": [],
   "source": [
    "label_encoder = LabelEncoder()\n",
    "\n",
    "for col in ['Married/Single','Car_Ownership']:\n",
    "    data[col] = label_encoder.fit_transform( data[col] )"
   ]
  },
  {
   "cell_type": "code",
   "execution_count": 30,
   "id": "47ef73ea",
   "metadata": {
    "execution": {
     "iopub.execute_input": "2024-08-21T20:22:15.355839Z",
     "iopub.status.busy": "2024-08-21T20:22:15.354969Z",
     "iopub.status.idle": "2024-08-21T20:22:15.440649Z",
     "shell.execute_reply": "2024-08-21T20:22:15.439953Z",
     "shell.execute_reply.started": "2024-08-21T19:35:28.131823Z"
    },
    "papermill": {
     "duration": 0.192316,
     "end_time": "2024-08-21T20:22:15.440851",
     "exception": false,
     "start_time": "2024-08-21T20:22:15.248535",
     "status": "completed"
    },
    "tags": []
   },
   "outputs": [],
   "source": [
    "onehot_encoder = OneHotEncoder(sparse = False)\n",
    "data['House_Ownership'] = onehot_encoder.fit_transform(data['House_Ownership'].values.reshape(-1, 1) )"
   ]
  },
  {
   "cell_type": "code",
   "execution_count": 31,
   "id": "437ff84b",
   "metadata": {
    "execution": {
     "iopub.execute_input": "2024-08-21T20:22:15.632718Z",
     "iopub.status.busy": "2024-08-21T20:22:15.631972Z",
     "iopub.status.idle": "2024-08-21T20:22:16.390477Z",
     "shell.execute_reply": "2024-08-21T20:22:16.389772Z",
     "shell.execute_reply.started": "2024-08-21T19:35:28.271660Z"
    },
    "papermill": {
     "duration": 0.858137,
     "end_time": "2024-08-21T20:22:16.390638",
     "exception": false,
     "start_time": "2024-08-21T20:22:15.532501",
     "status": "completed"
    },
    "tags": []
   },
   "outputs": [],
   "source": [
    "high_card_features = ['Profession', 'CITY', 'STATE']\n",
    "\n",
    "from category_encoders import CatBoostEncoder\n",
    "\n",
    "CBE_encoder = CatBoostEncoder()\n",
    "for col in high_card_features:\n",
    "    data[col] = CBE_encoder.fit_transform(data[col], data[\"Risk_Flag\"])\n",
    "\n",
    "\n",
    "\n",
    "##count_encoder = ce.CountEncoder()\n",
    "\n",
    "# Transform the features, rename the columns with the _count suffix, and join to dataframe\n",
    "##count_encoded = count_encoder.fit_transform( data[high_card_features] )\n",
    "##data = data.join(count_encoded.add_suffix(\"_count\"))"
   ]
  },
  {
   "cell_type": "code",
   "execution_count": 32,
   "id": "9a91c0c3",
   "metadata": {
    "execution": {
     "iopub.execute_input": "2024-08-21T20:22:16.595940Z",
     "iopub.status.busy": "2024-08-21T20:22:16.595035Z",
     "iopub.status.idle": "2024-08-21T20:22:16.599659Z",
     "shell.execute_reply": "2024-08-21T20:22:16.598991Z",
     "shell.execute_reply.started": "2024-08-21T19:35:29.327748Z"
    },
    "papermill": {
     "duration": 0.115476,
     "end_time": "2024-08-21T20:22:16.599857",
     "exception": false,
     "start_time": "2024-08-21T20:22:16.484381",
     "status": "completed"
    },
    "tags": []
   },
   "outputs": [
    {
     "data": {
      "text/html": [
       "<div>\n",
       "<style scoped>\n",
       "    .dataframe tbody tr th:only-of-type {\n",
       "        vertical-align: middle;\n",
       "    }\n",
       "\n",
       "    .dataframe tbody tr th {\n",
       "        vertical-align: top;\n",
       "    }\n",
       "\n",
       "    .dataframe thead th {\n",
       "        text-align: right;\n",
       "    }\n",
       "</style>\n",
       "<table border=\"1\" class=\"dataframe\">\n",
       "  <thead>\n",
       "    <tr style=\"text-align: right;\">\n",
       "      <th></th>\n",
       "      <th>Id</th>\n",
       "      <th>Income</th>\n",
       "      <th>Age</th>\n",
       "      <th>Experience</th>\n",
       "      <th>Married/Single</th>\n",
       "      <th>House_Ownership</th>\n",
       "      <th>Car_Ownership</th>\n",
       "      <th>Profession</th>\n",
       "      <th>CITY</th>\n",
       "      <th>STATE</th>\n",
       "      <th>CURRENT_JOB_YRS</th>\n",
       "      <th>CURRENT_HOUSE_YRS</th>\n",
       "      <th>Risk_Flag</th>\n",
       "    </tr>\n",
       "  </thead>\n",
       "  <tbody>\n",
       "    <tr>\n",
       "      <th>0</th>\n",
       "      <td>1</td>\n",
       "      <td>1303834</td>\n",
       "      <td>23</td>\n",
       "      <td>3</td>\n",
       "      <td>1</td>\n",
       "      <td>0.0</td>\n",
       "      <td>0</td>\n",
       "      <td>0.1230</td>\n",
       "      <td>0.123</td>\n",
       "      <td>0.123</td>\n",
       "      <td>3</td>\n",
       "      <td>13</td>\n",
       "      <td>0</td>\n",
       "    </tr>\n",
       "    <tr>\n",
       "      <th>1</th>\n",
       "      <td>2</td>\n",
       "      <td>7574516</td>\n",
       "      <td>40</td>\n",
       "      <td>10</td>\n",
       "      <td>1</td>\n",
       "      <td>0.0</td>\n",
       "      <td>0</td>\n",
       "      <td>0.1230</td>\n",
       "      <td>0.123</td>\n",
       "      <td>0.123</td>\n",
       "      <td>9</td>\n",
       "      <td>13</td>\n",
       "      <td>0</td>\n",
       "    </tr>\n",
       "    <tr>\n",
       "      <th>2</th>\n",
       "      <td>3</td>\n",
       "      <td>3991815</td>\n",
       "      <td>66</td>\n",
       "      <td>4</td>\n",
       "      <td>0</td>\n",
       "      <td>0.0</td>\n",
       "      <td>0</td>\n",
       "      <td>0.1230</td>\n",
       "      <td>0.123</td>\n",
       "      <td>0.123</td>\n",
       "      <td>4</td>\n",
       "      <td>10</td>\n",
       "      <td>0</td>\n",
       "    </tr>\n",
       "    <tr>\n",
       "      <th>3</th>\n",
       "      <td>4</td>\n",
       "      <td>6256451</td>\n",
       "      <td>41</td>\n",
       "      <td>2</td>\n",
       "      <td>1</td>\n",
       "      <td>0.0</td>\n",
       "      <td>1</td>\n",
       "      <td>0.0615</td>\n",
       "      <td>0.123</td>\n",
       "      <td>0.123</td>\n",
       "      <td>2</td>\n",
       "      <td>12</td>\n",
       "      <td>1</td>\n",
       "    </tr>\n",
       "    <tr>\n",
       "      <th>4</th>\n",
       "      <td>5</td>\n",
       "      <td>5768871</td>\n",
       "      <td>47</td>\n",
       "      <td>11</td>\n",
       "      <td>1</td>\n",
       "      <td>0.0</td>\n",
       "      <td>0</td>\n",
       "      <td>0.1230</td>\n",
       "      <td>0.123</td>\n",
       "      <td>0.123</td>\n",
       "      <td>3</td>\n",
       "      <td>14</td>\n",
       "      <td>1</td>\n",
       "    </tr>\n",
       "  </tbody>\n",
       "</table>\n",
       "</div>"
      ],
      "text/plain": [
       "   Id   Income  Age  Experience  Married/Single  House_Ownership  \\\n",
       "0   1  1303834   23           3               1              0.0   \n",
       "1   2  7574516   40          10               1              0.0   \n",
       "2   3  3991815   66           4               0              0.0   \n",
       "3   4  6256451   41           2               1              0.0   \n",
       "4   5  5768871   47          11               1              0.0   \n",
       "\n",
       "   Car_Ownership  Profession   CITY  STATE  CURRENT_JOB_YRS  \\\n",
       "0              0      0.1230  0.123  0.123                3   \n",
       "1              0      0.1230  0.123  0.123                9   \n",
       "2              0      0.1230  0.123  0.123                4   \n",
       "3              1      0.0615  0.123  0.123                2   \n",
       "4              0      0.1230  0.123  0.123                3   \n",
       "\n",
       "   CURRENT_HOUSE_YRS  Risk_Flag  \n",
       "0                 13          0  \n",
       "1                 13          0  \n",
       "2                 10          0  \n",
       "3                 12          1  \n",
       "4                 14          1  "
      ]
     },
     "execution_count": 32,
     "metadata": {},
     "output_type": "execute_result"
    }
   ],
   "source": [
    "data.head()"
   ]
  },
  {
   "cell_type": "code",
   "execution_count": 33,
   "id": "7b092ae6",
   "metadata": {
    "execution": {
     "iopub.execute_input": "2024-08-21T20:22:16.793497Z",
     "iopub.status.busy": "2024-08-21T20:22:16.792583Z",
     "iopub.status.idle": "2024-08-21T20:22:16.796061Z",
     "shell.execute_reply": "2024-08-21T20:22:16.795320Z",
     "shell.execute_reply.started": "2024-08-21T19:35:29.349253Z"
    },
    "papermill": {
     "duration": 0.101619,
     "end_time": "2024-08-21T20:22:16.796234",
     "exception": false,
     "start_time": "2024-08-21T20:22:16.694615",
     "status": "completed"
    },
    "tags": []
   },
   "outputs": [],
   "source": [
    "#data= data.drop(labels=['Profession', 'CITY', 'STATE'], axis=1)"
   ]
  },
  {
   "cell_type": "code",
   "execution_count": 34,
   "id": "2e231e34",
   "metadata": {
    "execution": {
     "iopub.execute_input": "2024-08-21T20:22:17.002555Z",
     "iopub.status.busy": "2024-08-21T20:22:17.001616Z",
     "iopub.status.idle": "2024-08-21T20:22:17.006287Z",
     "shell.execute_reply": "2024-08-21T20:22:17.005525Z",
     "shell.execute_reply.started": "2024-08-21T19:35:29.362257Z"
    },
    "papermill": {
     "duration": 0.115206,
     "end_time": "2024-08-21T20:22:17.006451",
     "exception": false,
     "start_time": "2024-08-21T20:22:16.891245",
     "status": "completed"
    },
    "tags": []
   },
   "outputs": [
    {
     "data": {
      "text/html": [
       "<div>\n",
       "<style scoped>\n",
       "    .dataframe tbody tr th:only-of-type {\n",
       "        vertical-align: middle;\n",
       "    }\n",
       "\n",
       "    .dataframe tbody tr th {\n",
       "        vertical-align: top;\n",
       "    }\n",
       "\n",
       "    .dataframe thead th {\n",
       "        text-align: right;\n",
       "    }\n",
       "</style>\n",
       "<table border=\"1\" class=\"dataframe\">\n",
       "  <thead>\n",
       "    <tr style=\"text-align: right;\">\n",
       "      <th></th>\n",
       "      <th>Id</th>\n",
       "      <th>Income</th>\n",
       "      <th>Age</th>\n",
       "      <th>Experience</th>\n",
       "      <th>Married/Single</th>\n",
       "      <th>House_Ownership</th>\n",
       "      <th>Car_Ownership</th>\n",
       "      <th>Profession</th>\n",
       "      <th>CITY</th>\n",
       "      <th>STATE</th>\n",
       "      <th>CURRENT_JOB_YRS</th>\n",
       "      <th>CURRENT_HOUSE_YRS</th>\n",
       "      <th>Risk_Flag</th>\n",
       "    </tr>\n",
       "  </thead>\n",
       "  <tbody>\n",
       "    <tr>\n",
       "      <th>0</th>\n",
       "      <td>1</td>\n",
       "      <td>1303834</td>\n",
       "      <td>23</td>\n",
       "      <td>3</td>\n",
       "      <td>1</td>\n",
       "      <td>0.0</td>\n",
       "      <td>0</td>\n",
       "      <td>0.1230</td>\n",
       "      <td>0.123</td>\n",
       "      <td>0.123</td>\n",
       "      <td>3</td>\n",
       "      <td>13</td>\n",
       "      <td>0</td>\n",
       "    </tr>\n",
       "    <tr>\n",
       "      <th>1</th>\n",
       "      <td>2</td>\n",
       "      <td>7574516</td>\n",
       "      <td>40</td>\n",
       "      <td>10</td>\n",
       "      <td>1</td>\n",
       "      <td>0.0</td>\n",
       "      <td>0</td>\n",
       "      <td>0.1230</td>\n",
       "      <td>0.123</td>\n",
       "      <td>0.123</td>\n",
       "      <td>9</td>\n",
       "      <td>13</td>\n",
       "      <td>0</td>\n",
       "    </tr>\n",
       "    <tr>\n",
       "      <th>2</th>\n",
       "      <td>3</td>\n",
       "      <td>3991815</td>\n",
       "      <td>66</td>\n",
       "      <td>4</td>\n",
       "      <td>0</td>\n",
       "      <td>0.0</td>\n",
       "      <td>0</td>\n",
       "      <td>0.1230</td>\n",
       "      <td>0.123</td>\n",
       "      <td>0.123</td>\n",
       "      <td>4</td>\n",
       "      <td>10</td>\n",
       "      <td>0</td>\n",
       "    </tr>\n",
       "    <tr>\n",
       "      <th>3</th>\n",
       "      <td>4</td>\n",
       "      <td>6256451</td>\n",
       "      <td>41</td>\n",
       "      <td>2</td>\n",
       "      <td>1</td>\n",
       "      <td>0.0</td>\n",
       "      <td>1</td>\n",
       "      <td>0.0615</td>\n",
       "      <td>0.123</td>\n",
       "      <td>0.123</td>\n",
       "      <td>2</td>\n",
       "      <td>12</td>\n",
       "      <td>1</td>\n",
       "    </tr>\n",
       "    <tr>\n",
       "      <th>4</th>\n",
       "      <td>5</td>\n",
       "      <td>5768871</td>\n",
       "      <td>47</td>\n",
       "      <td>11</td>\n",
       "      <td>1</td>\n",
       "      <td>0.0</td>\n",
       "      <td>0</td>\n",
       "      <td>0.1230</td>\n",
       "      <td>0.123</td>\n",
       "      <td>0.123</td>\n",
       "      <td>3</td>\n",
       "      <td>14</td>\n",
       "      <td>1</td>\n",
       "    </tr>\n",
       "  </tbody>\n",
       "</table>\n",
       "</div>"
      ],
      "text/plain": [
       "   Id   Income  Age  Experience  Married/Single  House_Ownership  \\\n",
       "0   1  1303834   23           3               1              0.0   \n",
       "1   2  7574516   40          10               1              0.0   \n",
       "2   3  3991815   66           4               0              0.0   \n",
       "3   4  6256451   41           2               1              0.0   \n",
       "4   5  5768871   47          11               1              0.0   \n",
       "\n",
       "   Car_Ownership  Profession   CITY  STATE  CURRENT_JOB_YRS  \\\n",
       "0              0      0.1230  0.123  0.123                3   \n",
       "1              0      0.1230  0.123  0.123                9   \n",
       "2              0      0.1230  0.123  0.123                4   \n",
       "3              1      0.0615  0.123  0.123                2   \n",
       "4              0      0.1230  0.123  0.123                3   \n",
       "\n",
       "   CURRENT_HOUSE_YRS  Risk_Flag  \n",
       "0                 13          0  \n",
       "1                 13          0  \n",
       "2                 10          0  \n",
       "3                 12          1  \n",
       "4                 14          1  "
      ]
     },
     "execution_count": 34,
     "metadata": {},
     "output_type": "execute_result"
    }
   ],
   "source": [
    "data.head()"
   ]
  },
  {
   "cell_type": "markdown",
   "id": "d08d097e",
   "metadata": {
    "papermill": {
     "duration": 0.100155,
     "end_time": "2024-08-21T20:22:17.203892",
     "exception": false,
     "start_time": "2024-08-21T20:22:17.103737",
     "status": "completed"
    },
    "tags": []
   },
   "source": [
    "# Separar data en train y test"
   ]
  },
  {
   "cell_type": "code",
   "execution_count": 35,
   "id": "1536ec6d",
   "metadata": {
    "execution": {
     "iopub.execute_input": "2024-08-21T20:22:17.413379Z",
     "iopub.status.busy": "2024-08-21T20:22:17.411844Z",
     "iopub.status.idle": "2024-08-21T20:22:17.442621Z",
     "shell.execute_reply": "2024-08-21T20:22:17.443256Z",
     "shell.execute_reply.started": "2024-08-21T19:35:29.390865Z"
    },
    "papermill": {
     "duration": 0.132591,
     "end_time": "2024-08-21T20:22:17.443463",
     "exception": false,
     "start_time": "2024-08-21T20:22:17.310872",
     "status": "completed"
    },
    "tags": []
   },
   "outputs": [],
   "source": [
    "x = data.drop([\"Risk_Flag\",\"Id\"], axis=1)\n",
    "y = data[\"Risk_Flag\"]"
   ]
  },
  {
   "cell_type": "code",
   "execution_count": 36,
   "id": "30a0ada9",
   "metadata": {
    "execution": {
     "iopub.execute_input": "2024-08-21T20:22:17.633345Z",
     "iopub.status.busy": "2024-08-21T20:22:17.632598Z",
     "iopub.status.idle": "2024-08-21T20:22:17.806842Z",
     "shell.execute_reply": "2024-08-21T20:22:17.806052Z",
     "shell.execute_reply.started": "2024-08-21T19:35:29.434162Z"
    },
    "papermill": {
     "duration": 0.271201,
     "end_time": "2024-08-21T20:22:17.807005",
     "exception": false,
     "start_time": "2024-08-21T20:22:17.535804",
     "status": "completed"
    },
    "tags": []
   },
   "outputs": [],
   "source": [
    "from sklearn.model_selection import train_test_split\n",
    "x_train, x_test, y_train, y_test = train_test_split(x, y, test_size = 0.2, stratify = y, random_state = 7)"
   ]
  },
  {
   "cell_type": "markdown",
   "id": "793dbe08",
   "metadata": {
    "papermill": {
     "duration": 0.098277,
     "end_time": "2024-08-21T20:22:18.002946",
     "exception": false,
     "start_time": "2024-08-21T20:22:17.904669",
     "status": "completed"
    },
    "tags": []
   },
   "source": [
    "# Random Forest Classifier"
   ]
  },
  {
   "cell_type": "code",
   "execution_count": 37,
   "id": "e2603d9a",
   "metadata": {
    "execution": {
     "iopub.execute_input": "2024-08-21T20:22:18.197617Z",
     "iopub.status.busy": "2024-08-21T20:22:18.196775Z",
     "iopub.status.idle": "2024-08-21T20:22:18.591066Z",
     "shell.execute_reply": "2024-08-21T20:22:18.590246Z",
     "shell.execute_reply.started": "2024-08-21T19:35:29.649369Z"
    },
    "papermill": {
     "duration": 0.493774,
     "end_time": "2024-08-21T20:22:18.591240",
     "exception": false,
     "start_time": "2024-08-21T20:22:18.097466",
     "status": "completed"
    },
    "tags": []
   },
   "outputs": [],
   "source": [
    "from sklearn.ensemble import RandomForestClassifier\n",
    "from imblearn.over_sampling import SMOTE\n",
    "from imblearn.pipeline import Pipeline\n"
   ]
  },
  {
   "cell_type": "code",
   "execution_count": 38,
   "id": "b5601ec7",
   "metadata": {
    "execution": {
     "iopub.execute_input": "2024-08-21T20:22:18.789048Z",
     "iopub.status.busy": "2024-08-21T20:22:18.787930Z",
     "iopub.status.idle": "2024-08-21T20:24:47.763721Z",
     "shell.execute_reply": "2024-08-21T20:24:47.763084Z",
     "shell.execute_reply.started": "2024-08-21T19:35:30.081997Z"
    },
    "papermill": {
     "duration": 149.077719,
     "end_time": "2024-08-21T20:24:47.763938",
     "exception": false,
     "start_time": "2024-08-21T20:22:18.686219",
     "status": "completed"
    },
    "tags": []
   },
   "outputs": [],
   "source": [
    "rf_clf = RandomForestClassifier(criterion='gini', bootstrap=True, random_state=100)\n",
    "\n",
    "smote_sampler = SMOTE(random_state=9)\n",
    "\n",
    "pipeline = Pipeline(steps = [['smote', smote_sampler],\n",
    "                             ['classifier', rf_clf]])\n",
    "\n",
    "pipeline.fit(x_train, y_train)\n",
    "\n",
    "y_pred = pipeline.predict(x_test)"
   ]
  },
  {
   "cell_type": "code",
   "execution_count": 39,
   "id": "fb0f51e9",
   "metadata": {
    "execution": {
     "iopub.execute_input": "2024-08-21T20:24:47.961148Z",
     "iopub.status.busy": "2024-08-21T20:24:47.960304Z",
     "iopub.status.idle": "2024-08-21T20:24:48.032336Z",
     "shell.execute_reply": "2024-08-21T20:24:48.031506Z",
     "shell.execute_reply.started": "2024-08-21T19:37:49.095735Z"
    },
    "papermill": {
     "duration": 0.173195,
     "end_time": "2024-08-21T20:24:48.032508",
     "exception": false,
     "start_time": "2024-08-21T20:24:47.859313",
     "status": "completed"
    },
    "tags": []
   },
   "outputs": [
    {
     "name": "stdout",
     "output_type": "stream",
     "text": [
      "-------------------------TEST SCORES RF_CLF-----------------------\n",
      "Recall: 64.0103\n",
      "Precision: 49.1454\n",
      "F1-Score: 55.6015\n",
      "Accuracy score: 87.4266\n",
      "AUC Score: 77.3605\n"
     ]
    }
   ],
   "source": [
    "from sklearn.metrics import confusion_matrix, precision_score, recall_score, f1_score, accuracy_score, roc_auc_score, brier_score_loss\n",
    "\n",
    "print(\"-------------------------TEST SCORES RF_CLF-----------------------\") \n",
    "print(f\"Recall: { round(recall_score(y_test, y_pred)*100, 4) }\")\n",
    "print(f\"Precision: { round(precision_score(y_test, y_pred)*100, 4) }\")\n",
    "print(f\"F1-Score: { round(f1_score(y_test, y_pred)*100, 4) }\")\n",
    "print(f\"Accuracy score: { round(accuracy_score(y_test, y_pred)*100, 4) }\")\n",
    "print(f\"AUC Score: { round(roc_auc_score(y_test, y_pred)*100, 4) }\")"
   ]
  },
  {
   "cell_type": "code",
   "execution_count": 40,
   "id": "bc2bb057",
   "metadata": {
    "execution": {
     "iopub.execute_input": "2024-08-21T20:24:48.229307Z",
     "iopub.status.busy": "2024-08-21T20:24:48.228553Z",
     "iopub.status.idle": "2024-08-21T20:24:50.237842Z",
     "shell.execute_reply": "2024-08-21T20:24:50.237148Z"
    },
    "papermill": {
     "duration": 2.111063,
     "end_time": "2024-08-21T20:24:50.237998",
     "exception": false,
     "start_time": "2024-08-21T20:24:48.126935",
     "status": "completed"
    },
    "tags": []
   },
   "outputs": [],
   "source": [
    "y_pred = pipeline.predict_proba(x_test)[:,1]"
   ]
  },
  {
   "cell_type": "code",
   "execution_count": 41,
   "id": "bf6a1f8a",
   "metadata": {
    "execution": {
     "iopub.execute_input": "2024-08-21T20:24:50.429819Z",
     "iopub.status.busy": "2024-08-21T20:24:50.428799Z",
     "iopub.status.idle": "2024-08-21T20:24:50.449270Z",
     "shell.execute_reply": "2024-08-21T20:24:50.448567Z"
    },
    "papermill": {
     "duration": 0.118876,
     "end_time": "2024-08-21T20:24:50.449418",
     "exception": false,
     "start_time": "2024-08-21T20:24:50.330542",
     "status": "completed"
    },
    "tags": []
   },
   "outputs": [
    {
     "name": "stdout",
     "output_type": "stream",
     "text": [
      "-------------------------TEST SCORES RF_CLF-----------------------\n",
      "Brier Score Loss: 9.4661\n",
      "AUC Score: 90.9753\n"
     ]
    }
   ],
   "source": [
    "print(\"-------------------------TEST SCORES RF_CLF-----------------------\") \n",
    "print(f\"Brier Score Loss: { round(brier_score_loss(y_test, y_pred)*100, 4) }\")\n",
    "print(f\"AUC Score: { round(roc_auc_score(y_test, y_pred)*100, 4) }\")"
   ]
  },
  {
   "cell_type": "markdown",
   "id": "a4593edc",
   "metadata": {
    "papermill": {
     "duration": 0.093252,
     "end_time": "2024-08-21T20:24:50.636532",
     "exception": false,
     "start_time": "2024-08-21T20:24:50.543280",
     "status": "completed"
    },
    "tags": []
   },
   "source": [
    "# Neural network"
   ]
  },
  {
   "cell_type": "code",
   "execution_count": 42,
   "id": "0722f5a3",
   "metadata": {
    "execution": {
     "iopub.execute_input": "2024-08-21T20:24:50.832480Z",
     "iopub.status.busy": "2024-08-21T20:24:50.831726Z",
     "iopub.status.idle": "2024-08-21T20:24:57.323485Z",
     "shell.execute_reply": "2024-08-21T20:24:57.322677Z",
     "shell.execute_reply.started": "2024-08-21T19:37:49.174120Z"
    },
    "papermill": {
     "duration": 6.593997,
     "end_time": "2024-08-21T20:24:57.323659",
     "exception": false,
     "start_time": "2024-08-21T20:24:50.729662",
     "status": "completed"
    },
    "tags": []
   },
   "outputs": [],
   "source": [
    "from tensorflow import keras\n",
    "from tensorflow.keras import layers\n",
    "from tensorflow.keras import callbacks\n",
    "from tensorflow.keras import metrics\n",
    "\n",
    "from sklearn.preprocessing import StandardScaler\n",
    "\n",
    "num_cols = ['Income', 'Age', 'Experience','CURRENT_JOB_YRS', 'CURRENT_HOUSE_YRS']\n",
    "datann= data.copy()\n",
    "datann[num_cols] = StandardScaler().fit_transform(datann[num_cols].astype(float))\n",
    "x = datann.drop([\"Risk_Flag\",\"Id\"], axis=1)\n",
    "y = datann.Risk_Flag\n",
    "x_train, x_test, y_train, y_test = train_test_split(x, y, test_size = 0.3, stratify = y, random_state = 7)"
   ]
  },
  {
   "cell_type": "code",
   "execution_count": 43,
   "id": "bb53bea2",
   "metadata": {
    "execution": {
     "iopub.execute_input": "2024-08-21T20:24:57.528007Z",
     "iopub.status.busy": "2024-08-21T20:24:57.527085Z",
     "iopub.status.idle": "2024-08-21T20:24:57.531609Z",
     "shell.execute_reply": "2024-08-21T20:24:57.530857Z",
     "shell.execute_reply.started": "2024-08-21T19:37:56.310239Z"
    },
    "papermill": {
     "duration": 0.114768,
     "end_time": "2024-08-21T20:24:57.531793",
     "exception": false,
     "start_time": "2024-08-21T20:24:57.417025",
     "status": "completed"
    },
    "tags": []
   },
   "outputs": [
    {
     "data": {
      "text/plain": [
       "<bound method NDFrame.head of           Income       Age  Experience  Married/Single  House_Ownership  \\\n",
       "208660  0.193503  1.174762   -1.513422               1              0.0   \n",
       "84514   0.854949 -0.583344   -1.346827               1              0.0   \n",
       "24152   1.735402 -0.583344    0.652314               0              0.0   \n",
       "218055 -0.094477 -0.524740    1.651884               1              0.0   \n",
       "225640 -0.439666 -1.462396   -1.346827               0              0.0   \n",
       "...          ...       ...         ...             ...              ...   \n",
       "43125   0.666649  0.823141   -1.680018               1              0.0   \n",
       "248640 -0.788137  0.998951    0.652314               1              0.0   \n",
       "118417  1.400927  1.291969   -0.680447               1              0.0   \n",
       "110176 -0.837462  0.002692   -0.680447               1              0.0   \n",
       "238347 -1.129867  1.643590   -1.346827               1              0.0   \n",
       "\n",
       "        Car_Ownership  Profession      CITY     STATE  CURRENT_JOB_YRS  \\\n",
       "208660              0    0.091550  0.122612  0.128679        -1.462520   \n",
       "84514               0    0.163289  0.055168  0.097710        -1.188325   \n",
       "24152               0    0.131924  0.079288  0.120433        -0.914131   \n",
       "218055              0    0.100627  0.161838  0.105612         1.827814   \n",
       "225640              0    0.109298  0.045267  0.108566        -1.188325   \n",
       "...               ...         ...       ...       ...              ...   \n",
       "43125               0    0.107116  0.111915  0.126792        -1.736714   \n",
       "248640              0    0.129705  0.114859  0.116568         1.827814   \n",
       "118417              1    0.099876  0.144056  0.164333        -0.091547   \n",
       "110176              0    0.144548  0.096976  0.123486        -0.091547   \n",
       "238347              0    0.130392  0.134993  0.130142        -1.188325   \n",
       "\n",
       "        CURRENT_HOUSE_YRS  \n",
       "208660          -0.713202  \n",
       "84514            0.716356  \n",
       "24152            0.716356  \n",
       "218055          -1.427981  \n",
       "225640           0.716356  \n",
       "...                   ...  \n",
       "43125            0.001577  \n",
       "248640           0.001577  \n",
       "118417           1.431135  \n",
       "110176          -1.427981  \n",
       "238347          -1.427981  \n",
       "\n",
       "[176400 rows x 11 columns]>"
      ]
     },
     "execution_count": 43,
     "metadata": {},
     "output_type": "execute_result"
    }
   ],
   "source": [
    "x_train.head\n"
   ]
  },
  {
   "cell_type": "code",
   "execution_count": 44,
   "id": "feff013f",
   "metadata": {
    "execution": {
     "iopub.execute_input": "2024-08-21T20:24:57.730452Z",
     "iopub.status.busy": "2024-08-21T20:24:57.728934Z",
     "iopub.status.idle": "2024-08-21T20:24:57.733862Z",
     "shell.execute_reply": "2024-08-21T20:24:57.733312Z",
     "shell.execute_reply.started": "2024-08-21T19:37:56.339498Z"
    },
    "papermill": {
     "duration": 0.107423,
     "end_time": "2024-08-21T20:24:57.734018",
     "exception": false,
     "start_time": "2024-08-21T20:24:57.626595",
     "status": "completed"
    },
    "tags": []
   },
   "outputs": [],
   "source": [
    "def create_model(learning_rate, METRICS):\n",
    "    model = keras.Sequential([\n",
    "    layers.BatchNormalization(input_shape=input_shape),\n",
    "    layers.Dense(64, activation='relu'),\n",
    "    layers.BatchNormalization(),\n",
    "    layers.Dropout(rate=0.4),\n",
    "    layers.Dense(128, activation='relu'),\n",
    "    layers.BatchNormalization(),\n",
    "    layers.Dropout(rate=0.4),\n",
    "    layers.Dense(128, activation='relu'),\n",
    "    layers.BatchNormalization(),\n",
    "    layers.Dropout(rate=0.4),\n",
    "    layers.Dense(1, activation = \"sigmoid\")])\n",
    "    \n",
    "    model.compile(\n",
    "    optimizer=keras.optimizers.RMSprop(learning_rate=learning_rate),\n",
    "    loss='binary_crossentropy',\n",
    "    metrics=METRICS,\n",
    "    )\n",
    "    return model\n",
    "\n",
    "def train_model(model,x_train, x_test, y_train, y_test, epochs):\n",
    "    history = model.fit(\n",
    "    x_train, y_train,\n",
    "    validation_data=(x_test, y_test),\n",
    "    batch_size=1024,\n",
    "    epochs=epochs,\n",
    "    callbacks=[early_stopping,ReduceLROnPlateau])\n",
    "    \n",
    "    epochs = history.epoch\n",
    "    \n",
    "    hist = pd.DataFrame(history.history)\n",
    "    return epochs, hist\n",
    "\n"
   ]
  },
  {
   "cell_type": "code",
   "execution_count": 45,
   "id": "3a38eb25",
   "metadata": {
    "execution": {
     "iopub.execute_input": "2024-08-21T20:24:57.936130Z",
     "iopub.status.busy": "2024-08-21T20:24:57.935009Z",
     "iopub.status.idle": "2024-08-21T20:24:57.939091Z",
     "shell.execute_reply": "2024-08-21T20:24:57.938348Z",
     "shell.execute_reply.started": "2024-08-21T19:37:56.371691Z"
    },
    "papermill": {
     "duration": 0.109056,
     "end_time": "2024-08-21T20:24:57.939277",
     "exception": false,
     "start_time": "2024-08-21T20:24:57.830221",
     "status": "completed"
    },
    "tags": []
   },
   "outputs": [],
   "source": [
    "early_stopping = callbacks.EarlyStopping(\n",
    "    monitor = \"AUC\",\n",
    "    mode = \"max\",\n",
    "    patience = 8,\n",
    "    min_delta=0.001,\n",
    "    restore_best_weights=True,\n",
    ")\n",
    "ReduceLROnPlateau = callbacks.ReduceLROnPlateau(\n",
    "    monitor=\"AUC\",\n",
    "    patience = 8)"
   ]
  },
  {
   "cell_type": "code",
   "execution_count": 46,
   "id": "e376a98c",
   "metadata": {
    "_kg_hide-output": true,
    "execution": {
     "iopub.execute_input": "2024-08-21T20:24:58.141541Z",
     "iopub.status.busy": "2024-08-21T20:24:58.140719Z",
     "iopub.status.idle": "2024-08-21T20:30:23.448068Z",
     "shell.execute_reply": "2024-08-21T20:30:23.447411Z",
     "shell.execute_reply.started": "2024-08-21T19:37:56.391466Z"
    },
    "papermill": {
     "duration": 325.409535,
     "end_time": "2024-08-21T20:30:23.448264",
     "exception": false,
     "start_time": "2024-08-21T20:24:58.038729",
     "status": "completed"
    },
    "tags": []
   },
   "outputs": [
    {
     "name": "stdout",
     "output_type": "stream",
     "text": [
      "Epoch 1/100\n",
      "173/173 [==============================] - 7s 20ms/step - loss: 0.4050 - accuracy: 0.6398 - precision: 0.1566 - recall: 0.4397 - auc: 0.5778 - val_loss: 0.3700 - val_accuracy: 0.7266 - val_precision: 0.1653 - val_recall: 0.3020 - val_auc: 0.5700\n",
      "Epoch 2/100\n",
      "173/173 [==============================] - 3s 17ms/step - loss: 0.3656 - accuracy: 0.7222 - precision: 0.1861 - recall: 0.3729 - auc: 0.6142 - val_loss: 0.3802 - val_accuracy: 0.3538 - val_precision: 0.1384 - val_recall: 0.8137 - val_auc: 0.6038\n",
      "Epoch 3/100\n",
      "173/173 [==============================] - 3s 16ms/step - loss: 0.3631 - accuracy: 0.7274 - precision: 0.1918 - recall: 0.3784 - auc: 0.6221 - val_loss: 0.3694 - val_accuracy: 0.5377 - val_precision: 0.1612 - val_recall: 0.6562 - val_auc: 0.6271\n",
      "Epoch 4/100\n",
      "173/173 [==============================] - 3s 16ms/step - loss: 0.3619 - accuracy: 0.7268 - precision: 0.1942 - recall: 0.3876 - auc: 0.6286 - val_loss: 0.3605 - val_accuracy: 0.7438 - val_precision: 0.2009 - val_recall: 0.3637 - val_auc: 0.6339\n",
      "Epoch 5/100\n",
      "173/173 [==============================] - 3s 16ms/step - loss: 0.3602 - accuracy: 0.7341 - precision: 0.1999 - recall: 0.3870 - auc: 0.6346 - val_loss: 0.3601 - val_accuracy: 0.7926 - val_precision: 0.2216 - val_recall: 0.2730 - val_auc: 0.6410\n",
      "Epoch 6/100\n",
      "173/173 [==============================] - 3s 16ms/step - loss: 0.3598 - accuracy: 0.7367 - precision: 0.2027 - recall: 0.3889 - auc: 0.6372 - val_loss: 0.3632 - val_accuracy: 0.6252 - val_precision: 0.1789 - val_recall: 0.5702 - val_auc: 0.6411\n",
      "Epoch 7/100\n",
      "173/173 [==============================] - 3s 16ms/step - loss: 0.3591 - accuracy: 0.7381 - precision: 0.2058 - recall: 0.3951 - auc: 0.6394 - val_loss: 0.3597 - val_accuracy: 0.8110 - val_precision: 0.2384 - val_recall: 0.2446 - val_auc: 0.6444\n",
      "Epoch 8/100\n",
      "173/173 [==============================] - 3s 16ms/step - loss: 0.3582 - accuracy: 0.7398 - precision: 0.2073 - recall: 0.3952 - auc: 0.6433 - val_loss: 0.3580 - val_accuracy: 0.7961 - val_precision: 0.2346 - val_recall: 0.2907 - val_auc: 0.6516\n",
      "Epoch 9/100\n",
      "173/173 [==============================] - 3s 17ms/step - loss: 0.3580 - accuracy: 0.7429 - precision: 0.2085 - recall: 0.3898 - auc: 0.6441 - val_loss: 0.3584 - val_accuracy: 0.7073 - val_precision: 0.1996 - val_recall: 0.4583 - val_auc: 0.6520\n",
      "Epoch 10/100\n",
      "173/173 [==============================] - 3s 17ms/step - loss: 0.3575 - accuracy: 0.7412 - precision: 0.2091 - recall: 0.3968 - auc: 0.6462 - val_loss: 0.3571 - val_accuracy: 0.7685 - val_precision: 0.2192 - val_recall: 0.3444 - val_auc: 0.6524\n",
      "Epoch 11/100\n",
      "173/173 [==============================] - 3s 20ms/step - loss: 0.3572 - accuracy: 0.7457 - precision: 0.2126 - recall: 0.3950 - auc: 0.6485 - val_loss: 0.3616 - val_accuracy: 0.7874 - val_precision: 0.2265 - val_recall: 0.3018 - val_auc: 0.6511\n",
      "Epoch 12/100\n",
      "173/173 [==============================] - 3s 16ms/step - loss: 0.3566 - accuracy: 0.7420 - precision: 0.2116 - recall: 0.4026 - auc: 0.6515 - val_loss: 0.3559 - val_accuracy: 0.7176 - val_precision: 0.2035 - val_recall: 0.4447 - val_auc: 0.6560\n",
      "Epoch 13/100\n",
      "173/173 [==============================] - 3s 16ms/step - loss: 0.3566 - accuracy: 0.7441 - precision: 0.2113 - recall: 0.3953 - auc: 0.6501 - val_loss: 0.3556 - val_accuracy: 0.7548 - val_precision: 0.2194 - val_recall: 0.3884 - val_auc: 0.6571\n",
      "Epoch 14/100\n",
      "173/173 [==============================] - 3s 16ms/step - loss: 0.3559 - accuracy: 0.7449 - precision: 0.2140 - recall: 0.4018 - auc: 0.6532 - val_loss: 0.3547 - val_accuracy: 0.7495 - val_precision: 0.2170 - val_recall: 0.3976 - val_auc: 0.6594\n",
      "Epoch 15/100\n",
      "173/173 [==============================] - 3s 16ms/step - loss: 0.3557 - accuracy: 0.7452 - precision: 0.2138 - recall: 0.4001 - auc: 0.6534 - val_loss: 0.3549 - val_accuracy: 0.7899 - val_precision: 0.2377 - val_recall: 0.3207 - val_auc: 0.6631\n",
      "Epoch 16/100\n",
      "173/173 [==============================] - 3s 17ms/step - loss: 0.3554 - accuracy: 0.7471 - precision: 0.2151 - recall: 0.3987 - auc: 0.6558 - val_loss: 0.3557 - val_accuracy: 0.8026 - val_precision: 0.2452 - val_recall: 0.2912 - val_auc: 0.6629\n",
      "Epoch 17/100\n",
      "173/173 [==============================] - 3s 16ms/step - loss: 0.3556 - accuracy: 0.7496 - precision: 0.2160 - recall: 0.3940 - auc: 0.6548 - val_loss: 0.3539 - val_accuracy: 0.7492 - val_precision: 0.2190 - val_recall: 0.4048 - val_auc: 0.6617\n",
      "Epoch 18/100\n",
      "173/173 [==============================] - 3s 16ms/step - loss: 0.3550 - accuracy: 0.7490 - precision: 0.2178 - recall: 0.4019 - auc: 0.6573 - val_loss: 0.3536 - val_accuracy: 0.7794 - val_precision: 0.2357 - val_recall: 0.3538 - val_auc: 0.6652\n",
      "Epoch 19/100\n",
      "173/173 [==============================] - 3s 16ms/step - loss: 0.3545 - accuracy: 0.7507 - precision: 0.2209 - recall: 0.4064 - auc: 0.6591 - val_loss: 0.3536 - val_accuracy: 0.7812 - val_precision: 0.2371 - val_recall: 0.3512 - val_auc: 0.6641\n",
      "Epoch 20/100\n",
      "173/173 [==============================] - 3s 17ms/step - loss: 0.3546 - accuracy: 0.7527 - precision: 0.2198 - recall: 0.3964 - auc: 0.6582 - val_loss: 0.3541 - val_accuracy: 0.7905 - val_precision: 0.2386 - val_recall: 0.3208 - val_auc: 0.6664\n",
      "Epoch 21/100\n",
      "173/173 [==============================] - 3s 16ms/step - loss: 0.3542 - accuracy: 0.7534 - precision: 0.2201 - recall: 0.3949 - auc: 0.6598 - val_loss: 0.3552 - val_accuracy: 0.8172 - val_precision: 0.2627 - val_recall: 0.2692 - val_auc: 0.6690\n",
      "Epoch 22/100\n",
      "173/173 [==============================] - 4s 20ms/step - loss: 0.3538 - accuracy: 0.7539 - precision: 0.2215 - recall: 0.3979 - auc: 0.6611 - val_loss: 0.3521 - val_accuracy: 0.7921 - val_precision: 0.2447 - val_recall: 0.3308 - val_auc: 0.6696\n",
      "Epoch 23/100\n",
      "173/173 [==============================] - 3s 17ms/step - loss: 0.3538 - accuracy: 0.7538 - precision: 0.2212 - recall: 0.3975 - auc: 0.6612 - val_loss: 0.3530 - val_accuracy: 0.7527 - val_precision: 0.2234 - val_recall: 0.4082 - val_auc: 0.6671\n",
      "Epoch 24/100\n",
      "173/173 [==============================] - 3s 16ms/step - loss: 0.3531 - accuracy: 0.7546 - precision: 0.2235 - recall: 0.4024 - auc: 0.6640 - val_loss: 0.3519 - val_accuracy: 0.7862 - val_precision: 0.2421 - val_recall: 0.3467 - val_auc: 0.6726\n",
      "Epoch 25/100\n",
      "173/173 [==============================] - 3s 16ms/step - loss: 0.3532 - accuracy: 0.7571 - precision: 0.2262 - recall: 0.4026 - auc: 0.6639 - val_loss: 0.3527 - val_accuracy: 0.7955 - val_precision: 0.2456 - val_recall: 0.3197 - val_auc: 0.6697\n",
      "Epoch 26/100\n",
      "173/173 [==============================] - 3s 16ms/step - loss: 0.3530 - accuracy: 0.7586 - precision: 0.2258 - recall: 0.3962 - auc: 0.6642 - val_loss: 0.3513 - val_accuracy: 0.7340 - val_precision: 0.2151 - val_recall: 0.4389 - val_auc: 0.6733\n",
      "Epoch 27/100\n",
      "173/173 [==============================] - 3s 16ms/step - loss: 0.3527 - accuracy: 0.7531 - precision: 0.2231 - recall: 0.4057 - auc: 0.6659 - val_loss: 0.3509 - val_accuracy: 0.7477 - val_precision: 0.2232 - val_recall: 0.4237 - val_auc: 0.6772\n",
      "Epoch 28/100\n",
      "173/173 [==============================] - 3s 16ms/step - loss: 0.3532 - accuracy: 0.7569 - precision: 0.2248 - recall: 0.3989 - auc: 0.6631 - val_loss: 0.3505 - val_accuracy: 0.7721 - val_precision: 0.2361 - val_recall: 0.3818 - val_auc: 0.6740\n",
      "Epoch 29/100\n",
      "173/173 [==============================] - 3s 16ms/step - loss: 0.3529 - accuracy: 0.7573 - precision: 0.2255 - recall: 0.3996 - auc: 0.6648 - val_loss: 0.3510 - val_accuracy: 0.7614 - val_precision: 0.2302 - val_recall: 0.4007 - val_auc: 0.6729\n",
      "Epoch 30/100\n",
      "173/173 [==============================] - 3s 17ms/step - loss: 0.3530 - accuracy: 0.7576 - precision: 0.2260 - recall: 0.4005 - auc: 0.6650 - val_loss: 0.3510 - val_accuracy: 0.7758 - val_precision: 0.2366 - val_recall: 0.3697 - val_auc: 0.6724\n",
      "Epoch 31/100\n",
      "173/173 [==============================] - 3s 17ms/step - loss: 0.3525 - accuracy: 0.7585 - precision: 0.2255 - recall: 0.3959 - auc: 0.6656 - val_loss: 0.3524 - val_accuracy: 0.8245 - val_precision: 0.2812 - val_recall: 0.2740 - val_auc: 0.6744\n",
      "Epoch 32/100\n",
      "173/173 [==============================] - 3s 16ms/step - loss: 0.3526 - accuracy: 0.7582 - precision: 0.2262 - recall: 0.3989 - auc: 0.6652 - val_loss: 0.3494 - val_accuracy: 0.7497 - val_precision: 0.2270 - val_recall: 0.4303 - val_auc: 0.6762\n",
      "Epoch 33/100\n",
      "173/173 [==============================] - 3s 20ms/step - loss: 0.3524 - accuracy: 0.7570 - precision: 0.2248 - recall: 0.3984 - auc: 0.6653 - val_loss: 0.3504 - val_accuracy: 0.7555 - val_precision: 0.2258 - val_recall: 0.4066 - val_auc: 0.6760\n",
      "Epoch 34/100\n",
      "173/173 [==============================] - 3s 16ms/step - loss: 0.3526 - accuracy: 0.7579 - precision: 0.2243 - recall: 0.3939 - auc: 0.6656 - val_loss: 0.3508 - val_accuracy: 0.7987 - val_precision: 0.2526 - val_recall: 0.3251 - val_auc: 0.6757\n",
      "Epoch 35/100\n",
      "173/173 [==============================] - 3s 16ms/step - loss: 0.3523 - accuracy: 0.7584 - precision: 0.2256 - recall: 0.3965 - auc: 0.6670 - val_loss: 0.3493 - val_accuracy: 0.7912 - val_precision: 0.2470 - val_recall: 0.3405 - val_auc: 0.6780\n",
      "Epoch 36/100\n",
      "173/173 [==============================] - 3s 16ms/step - loss: 0.3517 - accuracy: 0.7586 - precision: 0.2257 - recall: 0.3960 - auc: 0.6681 - val_loss: 0.3511 - val_accuracy: 0.7770 - val_precision: 0.2394 - val_recall: 0.3735 - val_auc: 0.6752\n",
      "Epoch 37/100\n",
      "173/173 [==============================] - 3s 16ms/step - loss: 0.3519 - accuracy: 0.7594 - precision: 0.2275 - recall: 0.3991 - auc: 0.6670 - val_loss: 0.3494 - val_accuracy: 0.7557 - val_precision: 0.2286 - val_recall: 0.4153 - val_auc: 0.6784\n",
      "Epoch 38/100\n",
      "173/173 [==============================] - 3s 16ms/step - loss: 0.3517 - accuracy: 0.7609 - precision: 0.2281 - recall: 0.3959 - auc: 0.6685 - val_loss: 0.3492 - val_accuracy: 0.7545 - val_precision: 0.2265 - val_recall: 0.4124 - val_auc: 0.6801\n",
      "Epoch 39/100\n",
      "173/173 [==============================] - 3s 16ms/step - loss: 0.3516 - accuracy: 0.7573 - precision: 0.2275 - recall: 0.4064 - auc: 0.6697 - val_loss: 0.3522 - val_accuracy: 0.6618 - val_precision: 0.1950 - val_recall: 0.5591 - val_auc: 0.6750\n",
      "Epoch 40/100\n",
      "173/173 [==============================] - 3s 16ms/step - loss: 0.3517 - accuracy: 0.7585 - precision: 0.2275 - recall: 0.4021 - auc: 0.6696 - val_loss: 0.3480 - val_accuracy: 0.7505 - val_precision: 0.2281 - val_recall: 0.4313 - val_auc: 0.6833\n",
      "Epoch 41/100\n",
      "173/173 [==============================] - 3s 16ms/step - loss: 0.3517 - accuracy: 0.7602 - precision: 0.2293 - recall: 0.4024 - auc: 0.6684 - val_loss: 0.3499 - val_accuracy: 0.8233 - val_precision: 0.2859 - val_recall: 0.2916 - val_auc: 0.6820\n",
      "Epoch 42/100\n",
      "173/173 [==============================] - 3s 16ms/step - loss: 0.3514 - accuracy: 0.7616 - precision: 0.2295 - recall: 0.3979 - auc: 0.6708 - val_loss: 0.3479 - val_accuracy: 0.7826 - val_precision: 0.2480 - val_recall: 0.3778 - val_auc: 0.6843\n",
      "Epoch 43/100\n",
      "173/173 [==============================] - 3s 16ms/step - loss: 0.3512 - accuracy: 0.7602 - precision: 0.2298 - recall: 0.4039 - auc: 0.6713 - val_loss: 0.3474 - val_accuracy: 0.7685 - val_precision: 0.2390 - val_recall: 0.4039 - val_auc: 0.6831\n",
      "Epoch 44/100\n",
      "173/173 [==============================] - 4s 21ms/step - loss: 0.3513 - accuracy: 0.7607 - precision: 0.2300 - recall: 0.4026 - auc: 0.6700 - val_loss: 0.3496 - val_accuracy: 0.7996 - val_precision: 0.2588 - val_recall: 0.3378 - val_auc: 0.6804\n",
      "Epoch 45/100\n",
      "173/173 [==============================] - 3s 16ms/step - loss: 0.3510 - accuracy: 0.7610 - precision: 0.2288 - recall: 0.3980 - auc: 0.6707 - val_loss: 0.3473 - val_accuracy: 0.7868 - val_precision: 0.2502 - val_recall: 0.3671 - val_auc: 0.6844\n",
      "Epoch 46/100\n",
      "173/173 [==============================] - 3s 16ms/step - loss: 0.3512 - accuracy: 0.7599 - precision: 0.2280 - recall: 0.3990 - auc: 0.6704 - val_loss: 0.3498 - val_accuracy: 0.8300 - val_precision: 0.2976 - val_recall: 0.2810 - val_auc: 0.6840\n",
      "Epoch 47/100\n",
      "173/173 [==============================] - 3s 17ms/step - loss: 0.3512 - accuracy: 0.7603 - precision: 0.2280 - recall: 0.3977 - auc: 0.6702 - val_loss: 0.3488 - val_accuracy: 0.8119 - val_precision: 0.2710 - val_recall: 0.3133 - val_auc: 0.6845\n",
      "Epoch 48/100\n",
      "173/173 [==============================] - 3s 17ms/step - loss: 0.3505 - accuracy: 0.7615 - precision: 0.2292 - recall: 0.3973 - auc: 0.6733 - val_loss: 0.3463 - val_accuracy: 0.7426 - val_precision: 0.2301 - val_recall: 0.4657 - val_auc: 0.6889\n",
      "Epoch 49/100\n",
      "173/173 [==============================] - 3s 16ms/step - loss: 0.3506 - accuracy: 0.7632 - precision: 0.2318 - recall: 0.3998 - auc: 0.6716 - val_loss: 0.3469 - val_accuracy: 0.7836 - val_precision: 0.2476 - val_recall: 0.3725 - val_auc: 0.6857\n",
      "Epoch 50/100\n",
      "173/173 [==============================] - 3s 16ms/step - loss: 0.3508 - accuracy: 0.7647 - precision: 0.2320 - recall: 0.3952 - auc: 0.6715 - val_loss: 0.3479 - val_accuracy: 0.8027 - val_precision: 0.2655 - val_recall: 0.3418 - val_auc: 0.6839\n",
      "Epoch 51/100\n",
      "173/173 [==============================] - 3s 17ms/step - loss: 0.3511 - accuracy: 0.7642 - precision: 0.2311 - recall: 0.3940 - auc: 0.6705 - val_loss: 0.3491 - val_accuracy: 0.7660 - val_precision: 0.2356 - val_recall: 0.4019 - val_auc: 0.6806\n",
      "Epoch 52/100\n",
      "173/173 [==============================] - 3s 16ms/step - loss: 0.3507 - accuracy: 0.7644 - precision: 0.2324 - recall: 0.3973 - auc: 0.6719 - val_loss: 0.3483 - val_accuracy: 0.8014 - val_precision: 0.2623 - val_recall: 0.3390 - val_auc: 0.6804\n",
      "Epoch 53/100\n",
      "173/173 [==============================] - 3s 16ms/step - loss: 0.3506 - accuracy: 0.7665 - precision: 0.2332 - recall: 0.3924 - auc: 0.6709 - val_loss: 0.3465 - val_accuracy: 0.7516 - val_precision: 0.2302 - val_recall: 0.4349 - val_auc: 0.6845\n",
      "Epoch 54/100\n",
      "173/173 [==============================] - 3s 16ms/step - loss: 0.3507 - accuracy: 0.7630 - precision: 0.2312 - recall: 0.3986 - auc: 0.6716 - val_loss: 0.3483 - val_accuracy: 0.7780 - val_precision: 0.2421 - val_recall: 0.3776 - val_auc: 0.6805\n",
      "Epoch 55/100\n",
      "173/173 [==============================] - 3s 20ms/step - loss: 0.3504 - accuracy: 0.7630 - precision: 0.2317 - recall: 0.4001 - auc: 0.6730 - val_loss: 0.3475 - val_accuracy: 0.7538 - val_precision: 0.2312 - val_recall: 0.4307 - val_auc: 0.6820\n",
      "Epoch 56/100\n",
      "173/173 [==============================] - 3s 16ms/step - loss: 0.3502 - accuracy: 0.7610 - precision: 0.2319 - recall: 0.4078 - auc: 0.6732 - val_loss: 0.3467 - val_accuracy: 0.7642 - val_precision: 0.2370 - val_recall: 0.4132 - val_auc: 0.6872\n",
      "Epoch 57/100\n",
      "173/173 [==============================] - 3s 16ms/step - loss: 0.3508 - accuracy: 0.7620 - precision: 0.2295 - recall: 0.3967 - auc: 0.6706 - val_loss: 0.3461 - val_accuracy: 0.7786 - val_precision: 0.2482 - val_recall: 0.3945 - val_auc: 0.6875\n",
      "Epoch 58/100\n",
      "173/173 [==============================] - 3s 16ms/step - loss: 0.3506 - accuracy: 0.7620 - precision: 0.2313 - recall: 0.4025 - auc: 0.6732 - val_loss: 0.3498 - val_accuracy: 0.8167 - val_precision: 0.2753 - val_recall: 0.3002 - val_auc: 0.6829\n",
      "Epoch 59/100\n",
      "173/173 [==============================] - 3s 16ms/step - loss: 0.3504 - accuracy: 0.7626 - precision: 0.2317 - recall: 0.4016 - auc: 0.6734 - val_loss: 0.3474 - val_accuracy: 0.7833 - val_precision: 0.2504 - val_recall: 0.3820 - val_auc: 0.6854\n",
      "Epoch 60/100\n",
      "173/173 [==============================] - 3s 16ms/step - loss: 0.3505 - accuracy: 0.7632 - precision: 0.2329 - recall: 0.4033 - auc: 0.6725 - val_loss: 0.3464 - val_accuracy: 0.7940 - val_precision: 0.2586 - val_recall: 0.3611 - val_auc: 0.6867\n",
      "Epoch 61/100\n",
      "173/173 [==============================] - 3s 16ms/step - loss: 0.3508 - accuracy: 0.7624 - precision: 0.2299 - recall: 0.3967 - auc: 0.6706 - val_loss: 0.3461 - val_accuracy: 0.7839 - val_precision: 0.2519 - val_recall: 0.3843 - val_auc: 0.6878\n",
      "Epoch 62/100\n",
      "173/173 [==============================] - 3s 16ms/step - loss: 0.3501 - accuracy: 0.7623 - precision: 0.2331 - recall: 0.4072 - auc: 0.6746 - val_loss: 0.3478 - val_accuracy: 0.7940 - val_precision: 0.2550 - val_recall: 0.3512 - val_auc: 0.6842\n",
      "Epoch 63/100\n",
      "173/173 [==============================] - 3s 16ms/step - loss: 0.3507 - accuracy: 0.7633 - precision: 0.2310 - recall: 0.3968 - auc: 0.6720 - val_loss: 0.3465 - val_accuracy: 0.7719 - val_precision: 0.2424 - val_recall: 0.4019 - val_auc: 0.6861\n",
      "Epoch 64/100\n",
      "173/173 [==============================] - 3s 18ms/step - loss: 0.3502 - accuracy: 0.7635 - precision: 0.2331 - recall: 0.4031 - auc: 0.6736 - val_loss: 0.3470 - val_accuracy: 0.8013 - val_precision: 0.2635 - val_recall: 0.3429 - val_auc: 0.6873\n",
      "Epoch 65/100\n",
      "173/173 [==============================] - 3s 17ms/step - loss: 0.3502 - accuracy: 0.7625 - precision: 0.2322 - recall: 0.4037 - auc: 0.6740 - val_loss: 0.3468 - val_accuracy: 0.7776 - val_precision: 0.2473 - val_recall: 0.3952 - val_auc: 0.6878\n",
      "Epoch 66/100\n",
      "173/173 [==============================] - 4s 21ms/step - loss: 0.3503 - accuracy: 0.7648 - precision: 0.2350 - recall: 0.4043 - auc: 0.6727 - val_loss: 0.3475 - val_accuracy: 0.7902 - val_precision: 0.2554 - val_recall: 0.3682 - val_auc: 0.6860\n",
      "Epoch 67/100\n",
      "173/173 [==============================] - 3s 16ms/step - loss: 0.3500 - accuracy: 0.7646 - precision: 0.2329 - recall: 0.3985 - auc: 0.6739 - val_loss: 0.3468 - val_accuracy: 0.7709 - val_precision: 0.2434 - val_recall: 0.4091 - val_auc: 0.6867\n",
      "Epoch 68/100\n",
      "173/173 [==============================] - 3s 16ms/step - loss: 0.3498 - accuracy: 0.7638 - precision: 0.2344 - recall: 0.4061 - auc: 0.6743 - val_loss: 0.3489 - val_accuracy: 0.8093 - val_precision: 0.2667 - val_recall: 0.3147 - val_auc: 0.6820\n",
      "Epoch 69/100\n",
      "173/173 [==============================] - 3s 16ms/step - loss: 0.3500 - accuracy: 0.7671 - precision: 0.2360 - recall: 0.3992 - auc: 0.6744 - val_loss: 0.3467 - val_accuracy: 0.7704 - val_precision: 0.2428 - val_recall: 0.4091 - val_auc: 0.6884\n",
      "Epoch 70/100\n",
      "173/173 [==============================] - 3s 16ms/step - loss: 0.3496 - accuracy: 0.7659 - precision: 0.2350 - recall: 0.4005 - auc: 0.6754 - val_loss: 0.3464 - val_accuracy: 0.8008 - val_precision: 0.2643 - val_recall: 0.3471 - val_auc: 0.6868\n",
      "Epoch 71/100\n",
      "173/173 [==============================] - 3s 16ms/step - loss: 0.3495 - accuracy: 0.7622 - precision: 0.2335 - recall: 0.4087 - auc: 0.6766 - val_loss: 0.3447 - val_accuracy: 0.7407 - val_precision: 0.2303 - val_recall: 0.4732 - val_auc: 0.6934\n",
      "Epoch 72/100\n",
      "173/173 [==============================] - 3s 16ms/step - loss: 0.3499 - accuracy: 0.7607 - precision: 0.2314 - recall: 0.4073 - auc: 0.6749 - val_loss: 0.3478 - val_accuracy: 0.8114 - val_precision: 0.2744 - val_recall: 0.3244 - val_auc: 0.6872\n",
      "Epoch 73/100\n",
      "173/173 [==============================] - 3s 16ms/step - loss: 0.3502 - accuracy: 0.7660 - precision: 0.2332 - recall: 0.3943 - auc: 0.6729 - val_loss: 0.3445 - val_accuracy: 0.7696 - val_precision: 0.2450 - val_recall: 0.4195 - val_auc: 0.6910\n",
      "Epoch 74/100\n",
      "173/173 [==============================] - 3s 16ms/step - loss: 0.3495 - accuracy: 0.7626 - precision: 0.2333 - recall: 0.4066 - auc: 0.6763 - val_loss: 0.3461 - val_accuracy: 0.7924 - val_precision: 0.2589 - val_recall: 0.3691 - val_auc: 0.6880\n",
      "Epoch 75/100\n",
      "173/173 [==============================] - 3s 19ms/step - loss: 0.3497 - accuracy: 0.7651 - precision: 0.2346 - recall: 0.4023 - auc: 0.6743 - val_loss: 0.3475 - val_accuracy: 0.7967 - val_precision: 0.2621 - val_recall: 0.3598 - val_auc: 0.6859\n",
      "Epoch 76/100\n",
      "173/173 [==============================] - 3s 16ms/step - loss: 0.3499 - accuracy: 0.7693 - precision: 0.2379 - recall: 0.3974 - auc: 0.6757 - val_loss: 0.3461 - val_accuracy: 0.7798 - val_precision: 0.2497 - val_recall: 0.3941 - val_auc: 0.6890\n",
      "Epoch 77/100\n",
      "173/173 [==============================] - 4s 21ms/step - loss: 0.3491 - accuracy: 0.7681 - precision: 0.2372 - recall: 0.3996 - auc: 0.6772 - val_loss: 0.3470 - val_accuracy: 0.7369 - val_precision: 0.2257 - val_recall: 0.4685 - val_auc: 0.6865\n",
      "Epoch 78/100\n",
      "173/173 [==============================] - 3s 17ms/step - loss: 0.3496 - accuracy: 0.7650 - precision: 0.2356 - recall: 0.4057 - auc: 0.6765 - val_loss: 0.3456 - val_accuracy: 0.7578 - val_precision: 0.2366 - val_recall: 0.4352 - val_auc: 0.6890\n",
      "Epoch 79/100\n",
      "173/173 [==============================] - 3s 17ms/step - loss: 0.3498 - accuracy: 0.7648 - precision: 0.2342 - recall: 0.4021 - auc: 0.6752 - val_loss: 0.3450 - val_accuracy: 0.7548 - val_precision: 0.2356 - val_recall: 0.4427 - val_auc: 0.6915\n",
      "Epoch 80/100\n",
      "173/173 [==============================] - 3s 16ms/step - loss: 0.3492 - accuracy: 0.7645 - precision: 0.2364 - recall: 0.4102 - auc: 0.6779 - val_loss: 0.3455 - val_accuracy: 0.8037 - val_precision: 0.2718 - val_recall: 0.3550 - val_auc: 0.6945\n",
      "Epoch 81/100\n",
      "173/173 [==============================] - 3s 16ms/step - loss: 0.3498 - accuracy: 0.7636 - precision: 0.2340 - recall: 0.4054 - auc: 0.6756 - val_loss: 0.3461 - val_accuracy: 0.7204 - val_precision: 0.2237 - val_recall: 0.5153 - val_auc: 0.6924\n",
      "Epoch 82/100\n",
      "173/173 [==============================] - 3s 17ms/step - loss: 0.3495 - accuracy: 0.7649 - precision: 0.2350 - recall: 0.4041 - auc: 0.6761 - val_loss: 0.3450 - val_accuracy: 0.7959 - val_precision: 0.2651 - val_recall: 0.3722 - val_auc: 0.6935\n",
      "Epoch 83/100\n",
      "173/173 [==============================] - 3s 16ms/step - loss: 0.3497 - accuracy: 0.7660 - precision: 0.2347 - recall: 0.3992 - auc: 0.6741 - val_loss: 0.3468 - val_accuracy: 0.7890 - val_precision: 0.2555 - val_recall: 0.3738 - val_auc: 0.6868\n",
      "Epoch 84/100\n",
      "173/173 [==============================] - 3s 16ms/step - loss: 0.3496 - accuracy: 0.7671 - precision: 0.2354 - recall: 0.3973 - auc: 0.6749 - val_loss: 0.3455 - val_accuracy: 0.7923 - val_precision: 0.2595 - val_recall: 0.3714 - val_auc: 0.6902\n",
      "Epoch 85/100\n",
      "173/173 [==============================] - 3s 17ms/step - loss: 0.3505 - accuracy: 0.7654 - precision: 0.2339 - recall: 0.3986 - auc: 0.6735 - val_loss: 0.3470 - val_accuracy: 0.7416 - val_precision: 0.2259 - val_recall: 0.4537 - val_auc: 0.6869\n",
      "Epoch 86/100\n",
      "173/173 [==============================] - 3s 17ms/step - loss: 0.3495 - accuracy: 0.7662 - precision: 0.2357 - recall: 0.4018 - auc: 0.6755 - val_loss: 0.3461 - val_accuracy: 0.7447 - val_precision: 0.2299 - val_recall: 0.4578 - val_auc: 0.6897\n",
      "Epoch 87/100\n",
      "173/173 [==============================] - 3s 16ms/step - loss: 0.3495 - accuracy: 0.7689 - precision: 0.2385 - recall: 0.4010 - auc: 0.6750 - val_loss: 0.3443 - val_accuracy: 0.7588 - val_precision: 0.2408 - val_recall: 0.4461 - val_auc: 0.6936\n",
      "Epoch 88/100\n",
      "173/173 [==============================] - 3s 20ms/step - loss: 0.3498 - accuracy: 0.7627 - precision: 0.2336 - recall: 0.4074 - auc: 0.6762 - val_loss: 0.3472 - val_accuracy: 0.8183 - val_precision: 0.2842 - val_recall: 0.3145 - val_auc: 0.6873\n",
      "Epoch 89/100\n",
      "173/173 [==============================] - 3s 16ms/step - loss: 0.3496 - accuracy: 0.7659 - precision: 0.2362 - recall: 0.4044 - auc: 0.6755 - val_loss: 0.3458 - val_accuracy: 0.7746 - val_precision: 0.2471 - val_recall: 0.4066 - val_auc: 0.6891\n",
      "Epoch 90/100\n",
      "173/173 [==============================] - 3s 16ms/step - loss: 0.3494 - accuracy: 0.7665 - precision: 0.2366 - recall: 0.4033 - auc: 0.6755 - val_loss: 0.3459 - val_accuracy: 0.7597 - val_precision: 0.2357 - val_recall: 0.4253 - val_auc: 0.6897\n",
      "Epoch 91/100\n",
      "173/173 [==============================] - 3s 16ms/step - loss: 0.3497 - accuracy: 0.7684 - precision: 0.2346 - recall: 0.3905 - auc: 0.6743 - val_loss: 0.3454 - val_accuracy: 0.7541 - val_precision: 0.2352 - val_recall: 0.4436 - val_auc: 0.6896\n",
      "Epoch 92/100\n",
      "173/173 [==============================] - 3s 16ms/step - loss: 0.3490 - accuracy: 0.7679 - precision: 0.2360 - recall: 0.3965 - auc: 0.6767 - val_loss: 0.3450 - val_accuracy: 0.8018 - val_precision: 0.2688 - val_recall: 0.3555 - val_auc: 0.6907\n",
      "Epoch 93/100\n",
      "173/173 [==============================] - 3s 16ms/step - loss: 0.3491 - accuracy: 0.7691 - precision: 0.2381 - recall: 0.3985 - auc: 0.6770 - val_loss: 0.3439 - val_accuracy: 0.7788 - val_precision: 0.2524 - val_recall: 0.4070 - val_auc: 0.6919\n",
      "Epoch 94/100\n",
      "173/173 [==============================] - 3s 16ms/step - loss: 0.3498 - accuracy: 0.7656 - precision: 0.2357 - recall: 0.4037 - auc: 0.6754 - val_loss: 0.3456 - val_accuracy: 0.8191 - val_precision: 0.2908 - val_recall: 0.3272 - val_auc: 0.6945\n",
      "Epoch 95/100\n",
      "173/173 [==============================] - 3s 16ms/step - loss: 0.3494 - accuracy: 0.7681 - precision: 0.2362 - recall: 0.3963 - auc: 0.6757 - val_loss: 0.3452 - val_accuracy: 0.7861 - val_precision: 0.2573 - val_recall: 0.3920 - val_auc: 0.6927\n",
      "Epoch 96/100\n",
      "173/173 [==============================] - 3s 16ms/step - loss: 0.3493 - accuracy: 0.7663 - precision: 0.2368 - recall: 0.4047 - auc: 0.6765 - val_loss: 0.3468 - val_accuracy: 0.8233 - val_precision: 0.2930 - val_recall: 0.3090 - val_auc: 0.6941\n",
      "Epoch 97/100\n",
      "173/173 [==============================] - 3s 18ms/step - loss: 0.3494 - accuracy: 0.7690 - precision: 0.2376 - recall: 0.3974 - auc: 0.6751 - val_loss: 0.3453 - val_accuracy: 0.7568 - val_precision: 0.2350 - val_recall: 0.4332 - val_auc: 0.6898\n",
      "Epoch 98/100\n",
      "173/173 [==============================] - 3s 16ms/step - loss: 0.3489 - accuracy: 0.7654 - precision: 0.2373 - recall: 0.4098 - auc: 0.6778 - val_loss: 0.3450 - val_accuracy: 0.7867 - val_precision: 0.2578 - val_recall: 0.3905 - val_auc: 0.6920\n",
      "Epoch 99/100\n",
      "173/173 [==============================] - 4s 20ms/step - loss: 0.3491 - accuracy: 0.7672 - precision: 0.2375 - recall: 0.4041 - auc: 0.6763 - val_loss: 0.3458 - val_accuracy: 0.7791 - val_precision: 0.2495 - val_recall: 0.3964 - val_auc: 0.6896\n",
      "Epoch 100/100\n",
      "173/173 [==============================] - 3s 16ms/step - loss: 0.3494 - accuracy: 0.7653 - precision: 0.2350 - recall: 0.4029 - auc: 0.6755 - val_loss: 0.3462 - val_accuracy: 0.7773 - val_precision: 0.2500 - val_recall: 0.4050 - val_auc: 0.6924\n"
     ]
    }
   ],
   "source": [
    "input_shape = [x_train.shape[1]]\n",
    "learning_rate = 0.006\n",
    "epochs = 100\n",
    "classification_threshold = 0.1566\n",
    "METRICS = [\n",
    "      keras.metrics.BinaryAccuracy(name='accuracy', \n",
    "                                      threshold=classification_threshold),\n",
    "      keras.metrics.Precision(thresholds=classification_threshold,\n",
    "                                 name='precision' \n",
    "                                 ),\n",
    "      keras.metrics.Recall(thresholds=classification_threshold,\n",
    "                              name=\"recall\"),\n",
    "      keras.metrics.AUC()\n",
    "    ]\n",
    "\n",
    "    \n",
    "model = create_model(learning_rate, METRICS)\n",
    "epochs, hist = train_model(model,x_train, x_test, y_train, y_test, epochs)\n",
    "\n"
   ]
  },
  {
   "cell_type": "code",
   "execution_count": 47,
   "id": "56983fbc",
   "metadata": {
    "execution": {
     "iopub.execute_input": "2024-08-21T20:30:26.953535Z",
     "iopub.status.busy": "2024-08-21T20:30:26.952734Z",
     "iopub.status.idle": "2024-08-21T20:30:27.490235Z",
     "shell.execute_reply": "2024-08-21T20:30:27.490931Z",
     "shell.execute_reply.started": "2024-08-21T19:42:54.082091Z"
    },
    "papermill": {
     "duration": 2.315729,
     "end_time": "2024-08-21T20:30:27.491133",
     "exception": false,
     "start_time": "2024-08-21T20:30:25.175404",
     "status": "completed"
    },
    "tags": []
   },
   "outputs": [
    {
     "data": {
      "image/png": "[encoded data removed]",
      "text/plain": [
       "<Figure size 1440x864 with 1 Axes>"
      ]
     },
     "metadata": {},
     "output_type": "display_data"
    }
   ],
   "source": [
    "def plot_curve(epochs, hist):\n",
    "\n",
    "  plt.figure(figsize=(20,12))\n",
    "  plt.xlabel(\"Epoch\")\n",
    "  plt.ylabel(\"Value\")\n",
    "\n",
    "  for m in hist:\n",
    "    x = hist[m]\n",
    "    plt.plot(epochs[1:], x[1:], label=m)\n",
    "\n",
    "  plt.legend()\n",
    "\n",
    "\n",
    "plot_curve(epochs, hist)"
   ]
  },
  {
   "cell_type": "markdown",
   "id": "c79cf111",
   "metadata": {
    "papermill": {
     "duration": 1.724643,
     "end_time": "2024-08-21T20:30:30.983934",
     "exception": false,
     "start_time": "2024-08-21T20:30:29.259291",
     "status": "completed"
    },
    "tags": []
   },
   "source": [
    "loss: 0.3331 - auc: 0.7323 - precision: 0.5627 - recall: 0.0582 - binary_accuracy: 0.8786 - val_loss: 0.3291 - val_auc: 0.7621 - val_precision: 0.6596 - val_recall: 0.0200 - val_binary_accuracy: 0.8782"
   ]
  },
  {
   "cell_type": "code",
   "execution_count": 48,
   "id": "0350b93d",
   "metadata": {
    "execution": {
     "iopub.execute_input": "2024-08-21T20:30:34.452229Z",
     "iopub.status.busy": "2024-08-21T20:30:34.451178Z",
     "iopub.status.idle": "2024-08-21T20:30:37.640062Z",
     "shell.execute_reply": "2024-08-21T20:30:37.639474Z",
     "shell.execute_reply.started": "2024-08-21T19:42:54.651966Z"
    },
    "papermill": {
     "duration": 4.925129,
     "end_time": "2024-08-21T20:30:37.640225",
     "exception": false,
     "start_time": "2024-08-21T20:30:32.715096",
     "status": "completed"
    },
    "tags": []
   },
   "outputs": [],
   "source": [
    "y_pred = model.predict(x_test)"
   ]
  },
  {
   "cell_type": "code",
   "execution_count": 49,
   "id": "ff3506fc",
   "metadata": {
    "execution": {
     "iopub.execute_input": "2024-08-21T20:30:41.104985Z",
     "iopub.status.busy": "2024-08-21T20:30:41.104195Z",
     "iopub.status.idle": "2024-08-21T20:30:41.136948Z",
     "shell.execute_reply": "2024-08-21T20:30:41.136374Z"
    },
    "papermill": {
     "duration": 1.781495,
     "end_time": "2024-08-21T20:30:41.137111",
     "exception": false,
     "start_time": "2024-08-21T20:30:39.355616",
     "status": "completed"
    },
    "tags": []
   },
   "outputs": [
    {
     "name": "stdout",
     "output_type": "stream",
     "text": [
      "-------------------------TEST SCORES NN-----------------------\n",
      "Brier Score Loss: 10.1093\n",
      "AUC Score: 69.2515\n"
     ]
    }
   ],
   "source": [
    "print(\"-------------------------TEST SCORES NN-----------------------\") \n",
    "print(f\"Brier Score Loss: { round(brier_score_loss(y_test, y_pred)*100, 4) }\")\n",
    "print(f\"AUC Score: { round(roc_auc_score(y_test, y_pred)*100, 4) }\")"
   ]
  },
  {
   "cell_type": "code",
   "execution_count": 50,
   "id": "c9c7bf31",
   "metadata": {
    "execution": {
     "iopub.execute_input": "2024-08-21T20:30:44.650505Z",
     "iopub.status.busy": "2024-08-21T20:30:44.649489Z",
     "iopub.status.idle": "2024-08-21T20:30:44.652315Z",
     "shell.execute_reply": "2024-08-21T20:30:44.651728Z",
     "shell.execute_reply.started": "2024-08-21T19:42:58.138673Z"
    },
    "papermill": {
     "duration": 1.728264,
     "end_time": "2024-08-21T20:30:44.652464",
     "exception": false,
     "start_time": "2024-08-21T20:30:42.924200",
     "status": "completed"
    },
    "tags": []
   },
   "outputs": [],
   "source": [
    "#y_pred = model.predict(x_test)\n",
    "# Array para encontras threshold optimo\n",
    "#thresholds = np.arange(0.0, 1.0, 0.0001)\n",
    "#fscore = np.zeros(shape=(len(thresholds)))\n",
    "#print('Length of sequence: {}'.format(len(thresholds)))\n",
    "\n",
    "\n",
    "#for index, elem in enumerate(thresholds):\n",
    "\n",
    "   #y_pred_prob = (y_pred > elem).astype('int')\n",
    "\n",
    "    #fscore[index] = f1_score(y_test, y_pred_prob)\n",
    "\n",
    "\n",
    "#index = np.argmax(fscore)\n",
    "#thresholdOpt = round(thresholds[index], ndigits = 4)\n",
    "#fscoreOpt = round(fscore[index], ndigits = 4)\n",
    "#print('Best Threshold: {} with F-Score: {}'.format(thresholdOpt, fscoreOpt))"
   ]
  },
  {
   "cell_type": "markdown",
   "id": "ce777811",
   "metadata": {
    "papermill": {
     "duration": 1.748673,
     "end_time": "2024-08-21T20:30:48.119967",
     "exception": false,
     "start_time": "2024-08-21T20:30:46.371294",
     "status": "completed"
    },
    "tags": []
   },
   "source": [
    "# XGBoost"
   ]
  },
  {
   "cell_type": "code",
   "execution_count": 51,
   "id": "745f55a9",
   "metadata": {
    "execution": {
     "iopub.execute_input": "2024-08-21T20:30:51.636060Z",
     "iopub.status.busy": "2024-08-21T20:30:51.635267Z",
     "iopub.status.idle": "2024-08-21T20:30:51.792651Z",
     "shell.execute_reply": "2024-08-21T20:30:51.793284Z",
     "shell.execute_reply.started": "2024-08-21T19:42:58.144812Z"
    },
    "papermill": {
     "duration": 1.892975,
     "end_time": "2024-08-21T20:30:51.793502",
     "exception": false,
     "start_time": "2024-08-21T20:30:49.900527",
     "status": "completed"
    },
    "tags": []
   },
   "outputs": [],
   "source": [
    "x = data.drop([\"Risk_Flag\",\"Id\"], axis=1)\n",
    "y = data.Risk_Flag\n",
    "\n",
    "x[num_cols] = StandardScaler().fit_transform(x[num_cols].astype(float))\n",
    "x_train, x_test, y_train, y_test = train_test_split(x, y, test_size = 0.25, stratify = y, random_state = 7)"
   ]
  },
  {
   "cell_type": "code",
   "execution_count": 52,
   "id": "ff33565e",
   "metadata": {
    "execution": {
     "iopub.execute_input": "2024-08-21T20:30:55.300162Z",
     "iopub.status.busy": "2024-08-21T20:30:55.299204Z",
     "iopub.status.idle": "2024-08-21T20:30:55.303231Z",
     "shell.execute_reply": "2024-08-21T20:30:55.302536Z",
     "shell.execute_reply.started": "2024-08-21T19:42:58.348383Z"
    },
    "papermill": {
     "duration": 1.72434,
     "end_time": "2024-08-21T20:30:55.303386",
     "exception": false,
     "start_time": "2024-08-21T20:30:53.579046",
     "status": "completed"
    },
    "tags": []
   },
   "outputs": [
    {
     "data": {
      "text/plain": [
       "0    221004\n",
       "1     30996\n",
       "Name: Risk_Flag, dtype: int64"
      ]
     },
     "execution_count": 52,
     "metadata": {},
     "output_type": "execute_result"
    }
   ],
   "source": [
    "data.Risk_Flag.value_counts()"
   ]
  },
  {
   "cell_type": "code",
   "execution_count": 53,
   "id": "63b71644",
   "metadata": {
    "execution": {
     "iopub.execute_input": "2024-08-21T20:30:58.777557Z",
     "iopub.status.busy": "2024-08-21T20:30:58.776780Z",
     "iopub.status.idle": "2024-08-21T20:30:58.877183Z",
     "shell.execute_reply": "2024-08-21T20:30:58.876526Z",
     "shell.execute_reply.started": "2024-08-21T19:42:58.361967Z"
    },
    "papermill": {
     "duration": 1.847801,
     "end_time": "2024-08-21T20:30:58.877367",
     "exception": false,
     "start_time": "2024-08-21T20:30:57.029566",
     "status": "completed"
    },
    "tags": []
   },
   "outputs": [],
   "source": [
    "import xgboost as xgb\n",
    "from sklearn.model_selection import GridSearchCV\n",
    "\n",
    "param_grid = {\n",
    "    \"max_depth\": [3, 5, 7],\n",
    "    \"learning_rate\": [0.01, 0.05],\n",
    "    \"gamma\": [0, 0.25, 1],\n",
    "    \"reg_lambda\": [5,10],\n",
    "    \"subsample\": [0.8],\n",
    "    \"colsample_bytree\": [0.5],\n",
    "}\n",
    "\n",
    "##model = xgb.XGBClassifier(objective=\"binary:logistic\", verbosity=0)\n",
    "\n",
    "#grid_cv = GridSearchCV(model, param_grid, n_jobs=-1, cv=3, scoring=\"roc_auc\")\n",
    "\n",
    "#grid_cv.fit(x_train, y_train)\n",
    "\n"
   ]
  },
  {
   "cell_type": "code",
   "execution_count": 54,
   "id": "0a0a7131",
   "metadata": {
    "execution": {
     "iopub.execute_input": "2024-08-21T20:31:02.392713Z",
     "iopub.status.busy": "2024-08-21T20:31:02.391772Z",
     "iopub.status.idle": "2024-08-21T20:31:02.394595Z",
     "shell.execute_reply": "2024-08-21T20:31:02.395122Z",
     "shell.execute_reply.started": "2024-08-21T19:42:58.482801Z"
    },
    "papermill": {
     "duration": 1.795826,
     "end_time": "2024-08-21T20:31:02.395321",
     "exception": false,
     "start_time": "2024-08-21T20:31:00.599495",
     "status": "completed"
    },
    "tags": []
   },
   "outputs": [],
   "source": [
    "#grid_cv.best_score_\n"
   ]
  },
  {
   "cell_type": "code",
   "execution_count": 55,
   "id": "919bb2ed",
   "metadata": {
    "execution": {
     "iopub.execute_input": "2024-08-21T20:31:05.841109Z",
     "iopub.status.busy": "2024-08-21T20:31:05.838945Z",
     "iopub.status.idle": "2024-08-21T20:31:05.844334Z",
     "shell.execute_reply": "2024-08-21T20:31:05.843610Z",
     "shell.execute_reply.started": "2024-08-21T19:42:58.488305Z"
    },
    "papermill": {
     "duration": 1.729005,
     "end_time": "2024-08-21T20:31:05.844503",
     "exception": false,
     "start_time": "2024-08-21T20:31:04.115498",
     "status": "completed"
    },
    "tags": []
   },
   "outputs": [],
   "source": [
    "#best_params = grid_cv.best_params_\n",
    "#best_params\n",
    "eval_set = [(x_train, y_train), (x_test, y_test)]"
   ]
  },
  {
   "cell_type": "code",
   "execution_count": 56,
   "id": "45f0c296",
   "metadata": {
    "execution": {
     "iopub.execute_input": "2024-08-21T20:31:09.322816Z",
     "iopub.status.busy": "2024-08-21T20:31:09.321769Z",
     "iopub.status.idle": "2024-08-21T20:31:26.059799Z",
     "shell.execute_reply": "2024-08-21T20:31:26.059092Z",
     "shell.execute_reply.started": "2024-08-21T19:42:58.500479Z"
    },
    "papermill": {
     "duration": 18.460474,
     "end_time": "2024-08-21T20:31:26.059959",
     "exception": false,
     "start_time": "2024-08-21T20:31:07.599485",
     "status": "completed"
    },
    "tags": []
   },
   "outputs": [
    {
     "name": "stderr",
     "output_type": "stream",
     "text": [
      "/opt/conda/lib/python3.7/site-packages/xgboost/sklearn.py:1224: UserWarning: The use of label encoder in XGBClassifier is deprecated and will be removed in a future release. To remove this warning, do the following: 1) Pass option use_label_encoder=False when constructing XGBClassifier object; and 2) Encode your labels (y) as integers starting with 0, i.e. 0, 1, 2, ..., [num_class - 1].\n",
      "  warnings.warn(label_encoder_deprecation_msg, UserWarning)\n"
     ]
    },
    {
     "name": "stdout",
     "output_type": "stream",
     "text": [
      "[0]\tvalidation_0-auc:0.56894\tvalidation_0-logloss:0.44776\tvalidation_1-auc:0.55462\tvalidation_1-logloss:0.44893\n",
      "[1]\tvalidation_0-auc:0.70900\tvalidation_0-logloss:0.36602\tvalidation_1-auc:0.67108\tvalidation_1-logloss:0.37468\n",
      "[2]\tvalidation_0-auc:0.80767\tvalidation_0-logloss:0.31790\tvalidation_1-auc:0.75385\tvalidation_1-logloss:0.33491\n",
      "[3]\tvalidation_0-auc:0.84947\tvalidation_0-logloss:0.29434\tvalidation_1-auc:0.79387\tvalidation_1-logloss:0.31529\n",
      "[4]\tvalidation_0-auc:0.86550\tvalidation_0-logloss:0.28308\tvalidation_1-auc:0.80808\tvalidation_1-logloss:0.30685\n",
      "[5]\tvalidation_0-auc:0.88262\tvalidation_0-logloss:0.26964\tvalidation_1-auc:0.81612\tvalidation_1-logloss:0.29974\n",
      "[6]\tvalidation_0-auc:0.89699\tvalidation_0-logloss:0.25773\tvalidation_1-auc:0.83164\tvalidation_1-logloss:0.29085\n",
      "[7]\tvalidation_0-auc:0.90432\tvalidation_0-logloss:0.25061\tvalidation_1-auc:0.83896\tvalidation_1-logloss:0.28615\n",
      "[8]\tvalidation_0-auc:0.91149\tvalidation_0-logloss:0.24367\tvalidation_1-auc:0.84135\tvalidation_1-logloss:0.28372\n",
      "[9]\tvalidation_0-auc:0.91572\tvalidation_0-logloss:0.23861\tvalidation_1-auc:0.84782\tvalidation_1-logloss:0.27975\n",
      "[10]\tvalidation_0-auc:0.91762\tvalidation_0-logloss:0.23681\tvalidation_1-auc:0.84846\tvalidation_1-logloss:0.27951\n",
      "[11]\tvalidation_0-auc:0.92225\tvalidation_0-logloss:0.23178\tvalidation_1-auc:0.84967\tvalidation_1-logloss:0.27813\n",
      "[12]\tvalidation_0-auc:0.92932\tvalidation_0-logloss:0.22221\tvalidation_1-auc:0.86055\tvalidation_1-logloss:0.27064\n",
      "[13]\tvalidation_0-auc:0.93230\tvalidation_0-logloss:0.21930\tvalidation_1-auc:0.86124\tvalidation_1-logloss:0.27044\n",
      "[14]\tvalidation_0-auc:0.93766\tvalidation_0-logloss:0.21228\tvalidation_1-auc:0.86523\tvalidation_1-logloss:0.26703\n",
      "[15]\tvalidation_0-auc:0.94103\tvalidation_0-logloss:0.20731\tvalidation_1-auc:0.86989\tvalidation_1-logloss:0.26341\n",
      "[16]\tvalidation_0-auc:0.94182\tvalidation_0-logloss:0.20628\tvalidation_1-auc:0.86992\tvalidation_1-logloss:0.26359\n",
      "[17]\tvalidation_0-auc:0.94353\tvalidation_0-logloss:0.20450\tvalidation_1-auc:0.86891\tvalidation_1-logloss:0.26414\n",
      "[18]\tvalidation_0-auc:0.94453\tvalidation_0-logloss:0.20312\tvalidation_1-auc:0.86985\tvalidation_1-logloss:0.26351\n",
      "[19]\tvalidation_0-auc:0.94738\tvalidation_0-logloss:0.19963\tvalidation_1-auc:0.87113\tvalidation_1-logloss:0.26271\n",
      "[20]\tvalidation_0-auc:0.95048\tvalidation_0-logloss:0.19548\tvalidation_1-auc:0.87133\tvalidation_1-logloss:0.26220\n",
      "[21]\tvalidation_0-auc:0.95257\tvalidation_0-logloss:0.19252\tvalidation_1-auc:0.87188\tvalidation_1-logloss:0.26160\n",
      "[22]\tvalidation_0-auc:0.95511\tvalidation_0-logloss:0.18829\tvalidation_1-auc:0.87414\tvalidation_1-logloss:0.25991\n",
      "[23]\tvalidation_0-auc:0.95635\tvalidation_0-logloss:0.18632\tvalidation_1-auc:0.87389\tvalidation_1-logloss:0.26009\n",
      "[24]\tvalidation_0-auc:0.95790\tvalidation_0-logloss:0.18374\tvalidation_1-auc:0.87471\tvalidation_1-logloss:0.25959\n",
      "[25]\tvalidation_0-auc:0.95821\tvalidation_0-logloss:0.18325\tvalidation_1-auc:0.87474\tvalidation_1-logloss:0.25959\n",
      "[26]\tvalidation_0-auc:0.95950\tvalidation_0-logloss:0.18102\tvalidation_1-auc:0.87522\tvalidation_1-logloss:0.25909\n",
      "[27]\tvalidation_0-auc:0.96076\tvalidation_0-logloss:0.17913\tvalidation_1-auc:0.87542\tvalidation_1-logloss:0.25902\n",
      "[28]\tvalidation_0-auc:0.96294\tvalidation_0-logloss:0.17597\tvalidation_1-auc:0.87433\tvalidation_1-logloss:0.26002\n",
      "[29]\tvalidation_0-auc:0.96328\tvalidation_0-logloss:0.17546\tvalidation_1-auc:0.87413\tvalidation_1-logloss:0.26012\n",
      "[30]\tvalidation_0-auc:0.96458\tvalidation_0-logloss:0.17354\tvalidation_1-auc:0.87450\tvalidation_1-logloss:0.26013\n",
      "[31]\tvalidation_0-auc:0.96521\tvalidation_0-logloss:0.17221\tvalidation_1-auc:0.87479\tvalidation_1-logloss:0.25989\n",
      "[32]\tvalidation_0-auc:0.96582\tvalidation_0-logloss:0.17105\tvalidation_1-auc:0.87527\tvalidation_1-logloss:0.25961\n",
      "[33]\tvalidation_0-auc:0.96670\tvalidation_0-logloss:0.16859\tvalidation_1-auc:0.87749\tvalidation_1-logloss:0.25812\n",
      "[34]\tvalidation_0-auc:0.96733\tvalidation_0-logloss:0.16738\tvalidation_1-auc:0.87818\tvalidation_1-logloss:0.25768\n",
      "[35]\tvalidation_0-auc:0.96833\tvalidation_0-logloss:0.16563\tvalidation_1-auc:0.87816\tvalidation_1-logloss:0.25791\n",
      "[36]\tvalidation_0-auc:0.96869\tvalidation_0-logloss:0.16501\tvalidation_1-auc:0.87787\tvalidation_1-logloss:0.25816\n",
      "[37]\tvalidation_0-auc:0.96915\tvalidation_0-logloss:0.16421\tvalidation_1-auc:0.87783\tvalidation_1-logloss:0.25823\n",
      "[38]\tvalidation_0-auc:0.96996\tvalidation_0-logloss:0.16259\tvalidation_1-auc:0.87767\tvalidation_1-logloss:0.25856\n",
      "[39]\tvalidation_0-auc:0.97049\tvalidation_0-logloss:0.16178\tvalidation_1-auc:0.87779\tvalidation_1-logloss:0.25863\n",
      "[40]\tvalidation_0-auc:0.97066\tvalidation_0-logloss:0.16139\tvalidation_1-auc:0.87791\tvalidation_1-logloss:0.25856\n",
      "[41]\tvalidation_0-auc:0.97194\tvalidation_0-logloss:0.15917\tvalidation_1-auc:0.87794\tvalidation_1-logloss:0.25867\n",
      "[42]\tvalidation_0-auc:0.97247\tvalidation_0-logloss:0.15828\tvalidation_1-auc:0.87801\tvalidation_1-logloss:0.25871\n",
      "[43]\tvalidation_0-auc:0.97275\tvalidation_0-logloss:0.15751\tvalidation_1-auc:0.87816\tvalidation_1-logloss:0.25863\n",
      "[44]\tvalidation_0-auc:0.97347\tvalidation_0-logloss:0.15621\tvalidation_1-auc:0.87792\tvalidation_1-logloss:0.25873\n"
     ]
    },
    {
     "data": {
      "text/plain": [
       "XGBClassifier(base_score=0.5, booster='gbtree', colsample_bylevel=1,\n",
       "              colsample_bynode=1, colsample_bytree=0.7,\n",
       "              enable_categorical=False, gamma=1, gpu_id=-1,\n",
       "              importance_type=None, interaction_constraints='',\n",
       "              learning_rate=0.6, max_delta_step=0, max_depth=14,\n",
       "              min_child_weight=1, missing=nan, monotone_constraints='()',\n",
       "              n_estimators=300, n_jobs=4, num_parallel_tree=1, predictor='auto',\n",
       "              random_state=0, reg_alpha=1, reg_lambda=7, scale_pos_weight=1,\n",
       "              subsample=0.9, tree_method='exact', validate_parameters=1,\n",
       "              verbosity=None)"
      ]
     },
     "execution_count": 56,
     "metadata": {},
     "output_type": "execute_result"
    }
   ],
   "source": [
    "final_xgbcl = xgb.XGBClassifier(booster=\"gbtree\",\n",
    "                                gamma= 1,\n",
    "                                learning_rate=0.6,\n",
    "                                max_depth =14,\n",
    "                                reg_lambda= 7,\n",
    "                                reg_alpha = 1,\n",
    "                                subsample= 0.9,\n",
    "                                objective=\"binary:logistic\",\n",
    "                                colsample_bytree=0.7,\n",
    "                                scale_pos_weight=1,\n",
    "                                n_estimators = 300\n",
    "                               )\n",
    "    \n",
    "final_xgbcl.fit(x_train,y_train,eval_set=eval_set,early_stopping_rounds=10,eval_metric=[\"auc\",\"logloss\"],)"
   ]
  },
  {
   "cell_type": "code",
   "execution_count": 57,
   "id": "8b409770",
   "metadata": {
    "execution": {
     "iopub.execute_input": "2024-08-21T20:31:29.635670Z",
     "iopub.status.busy": "2024-08-21T20:31:29.634677Z",
     "iopub.status.idle": "2024-08-21T20:31:29.637438Z",
     "shell.execute_reply": "2024-08-21T20:31:29.636771Z",
     "shell.execute_reply.started": "2024-08-21T19:43:13.753289Z"
    },
    "papermill": {
     "duration": 1.802949,
     "end_time": "2024-08-21T20:31:29.637599",
     "exception": false,
     "start_time": "2024-08-21T20:31:27.834650",
     "status": "completed"
    },
    "tags": []
   },
   "outputs": [],
   "source": [
    "results = final_xgbcl.evals_result()\n",
    "epochs = len(results[\"validation_0\"][\"auc\"])\n",
    "x_axis = range(0, epochs)"
   ]
  },
  {
   "cell_type": "code",
   "execution_count": 58,
   "id": "19ae2aca",
   "metadata": {
    "execution": {
     "iopub.execute_input": "2024-08-21T20:31:33.131312Z",
     "iopub.status.busy": "2024-08-21T20:31:33.121900Z",
     "iopub.status.idle": "2024-08-21T20:31:33.349177Z",
     "shell.execute_reply": "2024-08-21T20:31:33.348475Z",
     "shell.execute_reply.started": "2024-08-21T19:43:13.760106Z"
    },
    "papermill": {
     "duration": 1.981045,
     "end_time": "2024-08-21T20:31:33.349349",
     "exception": false,
     "start_time": "2024-08-21T20:31:31.368304",
     "status": "completed"
    },
    "tags": []
   },
   "outputs": [
    {
     "data": {
      "image/png": "[encoded data removed]",
      "text/plain": [
       "<Figure size 432x288 with 1 Axes>"
      ]
     },
     "metadata": {},
     "output_type": "display_data"
    }
   ],
   "source": [
    "from matplotlib import pyplot\n",
    "\n",
    "fig, ax = pyplot.subplots()\n",
    "ax.plot(x_axis, results['validation_0'][\"auc\"], label='Train')\n",
    "ax.plot(x_axis, results['validation_1'][\"auc\"], label='Test')\n",
    "ax.legend()\n",
    "pyplot.ylabel(\"auc\")\n",
    "pyplot.title('XGBoost auc')\n",
    "pyplot.show()"
   ]
  },
  {
   "cell_type": "code",
   "execution_count": 59,
   "id": "d1bfdc97",
   "metadata": {
    "execution": {
     "iopub.execute_input": "2024-08-21T20:31:36.857304Z",
     "iopub.status.busy": "2024-08-21T20:31:36.856476Z",
     "iopub.status.idle": "2024-08-21T20:31:36.940470Z",
     "shell.execute_reply": "2024-08-21T20:31:36.939853Z",
     "shell.execute_reply.started": "2024-08-21T19:43:14.034876Z"
    },
    "papermill": {
     "duration": 1.846109,
     "end_time": "2024-08-21T20:31:36.940623",
     "exception": false,
     "start_time": "2024-08-21T20:31:35.094514",
     "status": "completed"
    },
    "tags": []
   },
   "outputs": [],
   "source": [
    "y_pred = final_xgbcl.predict(x_test)\n"
   ]
  },
  {
   "cell_type": "code",
   "execution_count": 60,
   "id": "69f34a2e",
   "metadata": {
    "execution": {
     "iopub.execute_input": "2024-08-21T20:31:40.507214Z",
     "iopub.status.busy": "2024-08-21T20:31:40.506424Z",
     "iopub.status.idle": "2024-08-21T20:31:40.586715Z",
     "shell.execute_reply": "2024-08-21T20:31:40.586166Z",
     "shell.execute_reply.started": "2024-08-21T19:43:14.121658Z"
    },
    "papermill": {
     "duration": 1.891263,
     "end_time": "2024-08-21T20:31:40.586905",
     "exception": false,
     "start_time": "2024-08-21T20:31:38.695642",
     "status": "completed"
    },
    "tags": []
   },
   "outputs": [
    {
     "name": "stdout",
     "output_type": "stream",
     "text": [
      "-------------------------TEST SCORES XGBOOST-----------------------\n",
      "Recall: 32.1203\n",
      "Precision: 58.0322\n",
      "F1-Score: 41.3524\n",
      "Accuracy score: 88.7937\n",
      "AUC Score: 64.4312\n"
     ]
    }
   ],
   "source": [
    "print(\"-------------------------TEST SCORES XGBOOST-----------------------\") \n",
    "print(f\"Recall: { round(recall_score(y_test, y_pred)*100, 4) }\")\n",
    "print(f\"Precision: { round(precision_score(y_test, y_pred)*100, 4) }\")\n",
    "print(f\"F1-Score: { round(f1_score(y_test, y_pred)*100, 4) }\")\n",
    "print(f\"Accuracy score: { round(accuracy_score(y_test, y_pred)*100, 4) }\")\n",
    "print(f\"AUC Score: { round(roc_auc_score(y_test, y_pred)*100, 4) }\")"
   ]
  },
  {
   "cell_type": "code",
   "execution_count": 61,
   "id": "5a5c76c6",
   "metadata": {
    "execution": {
     "iopub.execute_input": "2024-08-21T20:31:44.084279Z",
     "iopub.status.busy": "2024-08-21T20:31:44.083305Z",
     "iopub.status.idle": "2024-08-21T20:31:44.167393Z",
     "shell.execute_reply": "2024-08-21T20:31:44.168130Z"
    },
    "papermill": {
     "duration": 1.832188,
     "end_time": "2024-08-21T20:31:44.168343",
     "exception": false,
     "start_time": "2024-08-21T20:31:42.336155",
     "status": "completed"
    },
    "tags": []
   },
   "outputs": [],
   "source": [
    "y_pred = final_xgbcl.predict_proba(x_test)[:,1]"
   ]
  },
  {
   "cell_type": "code",
   "execution_count": 62,
   "id": "034c3570",
   "metadata": {
    "execution": {
     "iopub.execute_input": "2024-08-21T20:31:47.655574Z",
     "iopub.status.busy": "2024-08-21T20:31:47.654785Z",
     "iopub.status.idle": "2024-08-21T20:31:47.684326Z",
     "shell.execute_reply": "2024-08-21T20:31:47.683582Z"
    },
    "papermill": {
     "duration": 1.789124,
     "end_time": "2024-08-21T20:31:47.684487",
     "exception": false,
     "start_time": "2024-08-21T20:31:45.895363",
     "status": "completed"
    },
    "tags": []
   },
   "outputs": [
    {
     "name": "stdout",
     "output_type": "stream",
     "text": [
      "-------------------------TEST SCORES XGBOOST-----------------------\n",
      "Brier Score Loss: 7.793\n",
      "AUC Score: 87.8166\n"
     ]
    }
   ],
   "source": [
    "print(\"-------------------------TEST SCORES XGBOOST-----------------------\") \n",
    "print(f\"Brier Score Loss: { round(brier_score_loss(y_test, y_pred)*100, 4) }\")\n",
    "print(f\"AUC Score: { round(roc_auc_score(y_test, y_pred)*100, 4) }\")"
   ]
  },
  {
   "cell_type": "markdown",
   "id": "622ac902",
   "metadata": {
    "papermill": {
     "duration": 1.795391,
     "end_time": "2024-08-21T20:31:51.234589",
     "exception": false,
     "start_time": "2024-08-21T20:31:49.439198",
     "status": "completed"
    },
    "tags": []
   },
   "source": [
    "# Logistic regression"
   ]
  },
  {
   "cell_type": "code",
   "execution_count": 63,
   "id": "b915794b",
   "metadata": {
    "execution": {
     "iopub.execute_input": "2024-08-21T20:31:54.763393Z",
     "iopub.status.busy": "2024-08-21T20:31:54.762649Z",
     "iopub.status.idle": "2024-08-21T20:31:54.893552Z",
     "shell.execute_reply": "2024-08-21T20:31:54.892783Z",
     "shell.execute_reply.started": "2024-08-21T19:43:14.205804Z"
    },
    "papermill": {
     "duration": 1.874088,
     "end_time": "2024-08-21T20:31:54.893707",
     "exception": false,
     "start_time": "2024-08-21T20:31:53.019619",
     "status": "completed"
    },
    "tags": []
   },
   "outputs": [],
   "source": [
    "datalr= data.copy()\n",
    "x = datalr.drop([\"Risk_Flag\",\"Id\"], axis=1)\n",
    "y = datalr.Risk_Flag\n",
    "x_train, x_test, y_train, y_test = train_test_split(x, y, test_size = 0.3, stratify = y, random_state = 7)\n"
   ]
  },
  {
   "cell_type": "code",
   "execution_count": 64,
   "id": "e4a9803e",
   "metadata": {
    "execution": {
     "iopub.execute_input": "2024-08-21T20:31:58.391613Z",
     "iopub.status.busy": "2024-08-21T20:31:58.390870Z",
     "iopub.status.idle": "2024-08-21T20:31:58.394045Z",
     "shell.execute_reply": "2024-08-21T20:31:58.393330Z",
     "shell.execute_reply.started": "2024-08-21T19:43:14.378744Z"
    },
    "papermill": {
     "duration": 1.769331,
     "end_time": "2024-08-21T20:31:58.394202",
     "exception": false,
     "start_time": "2024-08-21T20:31:56.624871",
     "status": "completed"
    },
    "tags": []
   },
   "outputs": [],
   "source": [
    "from sklearn.linear_model import LogisticRegression\n",
    "logreg = LogisticRegression()"
   ]
  },
  {
   "cell_type": "code",
   "execution_count": 65,
   "id": "b35f5ca3",
   "metadata": {
    "execution": {
     "iopub.execute_input": "2024-08-21T20:32:01.933583Z",
     "iopub.status.busy": "2024-08-21T20:32:01.932801Z",
     "iopub.status.idle": "2024-08-21T20:32:02.313257Z",
     "shell.execute_reply": "2024-08-21T20:32:02.314195Z",
     "shell.execute_reply.started": "2024-08-21T19:58:45.684284Z"
    },
    "papermill": {
     "duration": 2.1872,
     "end_time": "2024-08-21T20:32:02.314488",
     "exception": false,
     "start_time": "2024-08-21T20:32:00.127288",
     "status": "completed"
    },
    "tags": []
   },
   "outputs": [],
   "source": [
    "logreg.fit(x_train, y_train)\n",
    "y_pred = logreg.predict_proba(x_test)[:,1]"
   ]
  },
  {
   "cell_type": "code",
   "execution_count": 66,
   "id": "56986885",
   "metadata": {
    "execution": {
     "iopub.execute_input": "2024-08-21T20:32:05.845876Z",
     "iopub.status.busy": "2024-08-21T20:32:05.845061Z",
     "iopub.status.idle": "2024-08-21T20:32:05.876174Z",
     "shell.execute_reply": "2024-08-21T20:32:05.876683Z",
     "shell.execute_reply.started": "2024-08-21T20:06:34.980947Z"
    },
    "papermill": {
     "duration": 1.783897,
     "end_time": "2024-08-21T20:32:05.876900",
     "exception": false,
     "start_time": "2024-08-21T20:32:04.093003",
     "status": "completed"
    },
    "tags": []
   },
   "outputs": [
    {
     "name": "stdout",
     "output_type": "stream",
     "text": [
      "-------------------------TEST SCORES LOGREG-----------------------\n",
      "Brier Score Loss: 13.1332\n",
      "AUC Score: 50.6142\n"
     ]
    }
   ],
   "source": [
    "print(\"-------------------------TEST SCORES LOGREG-----------------------\") \n",
    "print(f\"Brier Score Loss: { round(brier_score_loss(y_test, y_pred)*100, 4) }\")\n",
    "print(f\"AUC Score: { round(roc_auc_score(y_test, y_pred)*100, 4) }\")"
   ]
  }
 ],
 "metadata": {
  "kaggle": {
   "accelerator": "none",
   "dataSources": [
    {
     "datasetId": 1532161,
     "sourceId": 2528751,
     "sourceType": "datasetVersion"
    }
   ],
   "dockerImageVersionId": 30176,
   "isGpuEnabled": false,
   "isInternetEnabled": false,
   "language": "python",
   "sourceType": "notebook"
  },
  "kernelspec": {
   "display_name": "Python 3",
   "language": "python",
   "name": "python3"
  },
  "language_info": {
   "codemirror_mode": {
    "name": "ipython",
    "version": 3
   },
   "file_extension": ".py",
   "mimetype": "text/x-python",
   "name": "python",
   "nbconvert_exporter": "python",
   "pygments_lexer": "ipython3",
   "version": "3.7.12"
  },
  "papermill": {
   "default_parameters": {},
   "duration": 620.469124,
   "end_time": "2024-08-21T20:32:10.475487",
   "environment_variables": {},
   "exception": null,
   "input_path": "__notebook__.ipynb",
   "output_path": "__notebook__.ipynb",
   "parameters": {},
   "start_time": "2024-08-21T20:21:50.006363",
   "version": "2.3.3"
  }
 },
 "nbformat": 4,
 "nbformat_minor": 5
}
